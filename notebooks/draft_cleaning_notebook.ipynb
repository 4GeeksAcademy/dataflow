{
 "cells": [
  {
   "cell_type": "markdown",
   "id": "75c6fedd",
   "metadata": {},
   "source": [
    " #                                                **Exploring Breathcode data**"
   ]
  },
  {
   "cell_type": "markdown",
   "id": "85701093",
   "metadata": {},
   "source": [
    "### Importing necessary libraries"
   ]
  },
  {
   "cell_type": "code",
   "execution_count": 9,
   "id": "ad617254",
   "metadata": {},
   "outputs": [
    {
     "name": "stdout",
     "output_type": "stream",
     "text": [
      "Requirement already satisfied: pandas in /home/gitpod/.pyenv/versions/3.8.13/lib/python3.8/site-packages (1.5.1)\n",
      "Requirement already satisfied: matplotlib in /home/gitpod/.pyenv/versions/3.8.13/lib/python3.8/site-packages (3.6.0)\n",
      "Requirement already satisfied: seaborn in /home/gitpod/.pyenv/versions/3.8.13/lib/python3.8/site-packages (0.12.1)\n",
      "Requirement already satisfied: python-dateutil>=2.8.1 in /home/gitpod/.pyenv/versions/3.8.13/lib/python3.8/site-packages (from pandas) (2.8.2)\n",
      "Requirement already satisfied: numpy>=1.20.3 in /home/gitpod/.pyenv/versions/3.8.13/lib/python3.8/site-packages (from pandas) (1.23.4)\n",
      "Requirement already satisfied: pytz>=2020.1 in /home/gitpod/.pyenv/versions/3.8.13/lib/python3.8/site-packages (from pandas) (2022.6)\n",
      "Requirement already satisfied: pyparsing>=2.2.1 in /home/gitpod/.pyenv/versions/3.8.13/lib/python3.8/site-packages (from matplotlib) (3.0.9)\r\n",
      "Requirement already satisfied: fonttools>=4.22.0 in /home/gitpod/.pyenv/versions/3.8.13/lib/python3.8/site-packages (from matplotlib) (4.38.0)\r\n",
      "Requirement already satisfied: cycler>=0.10 in /home/gitpod/.pyenv/versions/3.8.13/lib/python3.8/site-packages (from matplotlib) (0.11.0)\r\n",
      "Requirement already satisfied: kiwisolver>=1.0.1 in /home/gitpod/.pyenv/versions/3.8.13/lib/python3.8/site-packages (from matplotlib) (1.4.4)\r\n",
      "Requirement already satisfied: contourpy>=1.0.1 in /home/gitpod/.pyenv/versions/3.8.13/lib/python3.8/site-packages (from matplotlib) (1.0.6)\r\n",
      "Requirement already satisfied: pillow>=6.2.0 in /home/gitpod/.pyenv/versions/3.8.13/lib/python3.8/site-packages (from matplotlib) (9.3.0)\r\n",
      "Requirement already satisfied: packaging>=20.0 in /home/gitpod/.pyenv/versions/3.8.13/lib/python3.8/site-packages (from matplotlib) (21.3)\r\n",
      "Requirement already satisfied: six>=1.5 in /home/gitpod/.pyenv/versions/3.8.13/lib/python3.8/site-packages (from python-dateutil>=2.8.1->pandas) (1.16.0)\r\n",
      "\r\n",
      "\u001b[1m[\u001b[0m\u001b[34;49mnotice\u001b[0m\u001b[1;39;49m]\u001b[0m\u001b[39;49m A new release of pip available: \u001b[0m\u001b[31;49m22.2.2\u001b[0m\u001b[39;49m -> \u001b[0m\u001b[32;49m22.3\u001b[0m\r\n",
      "\u001b[1m[\u001b[0m\u001b[34;49mnotice\u001b[0m\u001b[1;39;49m]\u001b[0m\u001b[39;49m To update, run: \u001b[0m\u001b[32;49mpip install --upgrade pip\u001b[0m\r\n",
      "Note: you may need to restart the kernel to use updated packages.\n"
     ]
    }
   ],
   "source": [
    "pip install pandas matplotlib seaborn"
   ]
  },
  {
   "cell_type": "code",
   "execution_count": 10,
   "id": "35fcfef8",
   "metadata": {},
   "outputs": [],
   "source": [
    "import pandas as pd\n",
    "import numpy as np\n",
    "import matplotlib.pyplot as plt\n",
    "import seaborn as sns\n",
    "import datetime"
   ]
  },
  {
   "cell_type": "markdown",
   "id": "082e6d18",
   "metadata": {},
   "source": [
    "### Loading the data"
   ]
  },
  {
   "cell_type": "code",
   "execution_count": 11,
   "id": "bcc40632",
   "metadata": {},
   "outputs": [
    {
     "name": "stderr",
     "output_type": "stream",
     "text": [
      "/tmp/ipykernel_3472/3108895423.py:1: DtypeWarning: Columns (28,42) have mixed types. Specify dtype option on import or set low_memory=False.\n",
      "  data = pd.read_csv('../sources/heroku-form-entry.csv', dtype={'utm_content': 'object', 'current_download': 'object', 'state': 'object', 'lead_type': 'object', 'lead_generation_app':'object'})\n"
     ]
    }
   ],
   "source": [
    "data = pd.read_csv('../sources/heroku-form-entry.csv', dtype={'utm_content': 'object', 'current_download': 'object', 'state': 'object', 'lead_type': 'object', 'lead_generation_app':'object'})"
   ]
  },
  {
   "cell_type": "markdown",
   "id": "15b8f817",
   "metadata": {},
   "source": [
    "## Data Cleaning"
   ]
  },
  {
   "cell_type": "markdown",
   "id": "e9352d52",
   "metadata": {},
   "source": [
    "**Changing column type of date columns**"
   ]
  },
  {
   "cell_type": "code",
   "execution_count": 12,
   "id": "83091ad2",
   "metadata": {},
   "outputs": [
    {
     "data": {
      "text/plain": [
       "(54237, 47)"
      ]
     },
     "execution_count": 12,
     "metadata": {},
     "output_type": "execute_result"
    }
   ],
   "source": [
    "data.shape"
   ]
  },
  {
   "cell_type": "code",
   "execution_count": 13,
   "id": "b97bfc13",
   "metadata": {},
   "outputs": [
    {
     "data": {
      "text/plain": [
       "0    2020-11-28 07:46:58.469198+00:00\n",
       "1    2021-06-22 04:29:19.572742+00:00\n",
       "2    2020-09-23 21:22:11.861392+00:00\n",
       "3    2020-09-24 04:36:26.286289+00:00\n",
       "4    2020-09-25 02:34:58.527898+00:00\n",
       "Name: created_at, dtype: object"
      ]
     },
     "execution_count": 13,
     "metadata": {},
     "output_type": "execute_result"
    }
   ],
   "source": [
    "data['created_at'].head()"
   ]
  },
  {
   "cell_type": "code",
   "execution_count": 14,
   "id": "100db246",
   "metadata": {},
   "outputs": [],
   "source": [
    "#Changing type of 3 datetime columns \n",
    "\n",
    "data[['created_at','updated_at','won_at']] = data[['created_at','updated_at','won_at']].apply(pd.to_datetime).copy()"
   ]
  },
  {
   "cell_type": "code",
   "execution_count": 15,
   "id": "a7004177",
   "metadata": {},
   "outputs": [],
   "source": [
    "data['created_at'] = data['created_at'].dt.strftime(\"%Y-%m-%d %H:%M:%S\")\n",
    "data['updated_at'] = data['updated_at'].dt.strftime(\"%Y-%m-%d %H:%M:%S\")\n",
    "data['won_at'] = data['won_at'].dt.strftime(\"%Y-%m-%d %H:%M:%S\")"
   ]
  },
  {
   "cell_type": "code",
   "execution_count": 16,
   "id": "62c25f4b",
   "metadata": {},
   "outputs": [],
   "source": [
    "data[['created_at','updated_at','won_at']] = data[['created_at','updated_at','won_at']].apply(pd.to_datetime).copy()"
   ]
  },
  {
   "cell_type": "code",
   "execution_count": 17,
   "id": "18083284",
   "metadata": {},
   "outputs": [],
   "source": [
    "#The column of our interest is 'Created_at' so we'll convert and separate that one first\n",
    "\n",
    "data['year-month'] = data['created_at'].dt.strftime('%Y-%m')\n",
    "data['created_time'] = data['created_at'].dt.strftime('%H:%M:%S')"
   ]
  },
  {
   "cell_type": "markdown",
   "id": "45253e8e",
   "metadata": {},
   "source": [
    "**Create a full name column**"
   ]
  },
  {
   "cell_type": "code",
   "execution_count": 18,
   "id": "7dd9615f",
   "metadata": {},
   "outputs": [],
   "source": [
    "#Combine first and last name ignoring nulls\n",
    "data['fullname'] = data['first_name'].fillna('') + str(' ') + data['last_name'].fillna('')"
   ]
  },
  {
   "cell_type": "code",
   "execution_count": 19,
   "id": "740ccb94",
   "metadata": {},
   "outputs": [],
   "source": [
    "# shift column 'Fullname' to first position\n",
    "fourth_column = data.pop('fullname')\n",
    "\n",
    "# insert column using insert(position,column_name,fourth_column) function\n",
    "data.insert(3, 'fullname', fourth_column)"
   ]
  },
  {
   "cell_type": "markdown",
   "id": "6aaf5f3f",
   "metadata": {},
   "source": [
    "**Dropping columns with 100% of null values and also non relevant columns**"
   ]
  },
  {
   "cell_type": "code",
   "execution_count": 20,
   "id": "39b785b4",
   "metadata": {},
   "outputs": [
    {
     "data": {
      "text/plain": [
       "<Figure size 1500x1500 with 0 Axes>"
      ]
     },
     "metadata": {},
     "output_type": "display_data"
    },
    {
     "data": {
      "image/png": "[encoded data removed]",
      "text/plain": [
       "<Figure size 1084.88x500 with 1 Axes>"
      ]
     },
     "metadata": {},
     "output_type": "display_data"
    }
   ],
   "source": [
    "plt.figure(figsize=(15,15))\n",
    "sns.displot(\n",
    "    data=data.isna().melt(value_name=\"missing\"),\n",
    "    y=\"variable\",\n",
    "    hue=\"missing\",\n",
    "    multiple=\"fill\",\n",
    "    aspect=2\n",
    ")\n",
    "plt.show()"
   ]
  },
  {
   "cell_type": "code",
   "execution_count": 21,
   "id": "af0ed7a6",
   "metadata": {},
   "outputs": [],
   "source": [
    "#Let's drop columns that have all null values.\n",
    "\n",
    "data.dropna(axis=1, how='all', inplace=True)"
   ]
  },
  {
   "cell_type": "code",
   "execution_count": 22,
   "id": "06db333e",
   "metadata": {},
   "outputs": [],
   "source": [
    "#Let's also drop not relevant columns.\n",
    "\n",
    "data = data.drop(['client_comments','street_address','city','state',\n",
    "                  'zip_code','referral_key','browser_lang','ac_expected_cohort','current_download','utm_content',\n",
    "                  'storage_status','user_id','ac_contact_id','first_name','last_name','storage_status_text'], axis=1).copy()"
   ]
  },
  {
   "cell_type": "code",
   "execution_count": 23,
   "id": "72100476",
   "metadata": {},
   "outputs": [],
   "source": [
    "#Dropping rows that were only for test (identify the rest of test emails pending)\n",
    "data.drop(data[data['utm_source'] == 'test_s'].index, inplace = True)\n",
    "data.drop(data[data['utm_source'] == 'fintech'].index, inplace = True)\n",
    "data.drop(data[data['utm_medium'] == 'xxxxx'].index, inplace = True)\n",
    "data.drop(data[data['utm_medium'] == 'marico'].index, inplace = True)"
   ]
  },
  {
   "cell_type": "code",
   "execution_count": 24,
   "id": "f45f55d9",
   "metadata": {},
   "outputs": [],
   "source": [
    "#some test rows identified\n",
    "data = data[data[\"email\"].str.contains(\"@4geeks\") == False]"
   ]
  },
  {
   "cell_type": "markdown",
   "id": "46d45830",
   "metadata": {},
   "source": [
    "**Reduce dataframe to only one application (first) per email, and combine with duplicated (if so)**"
   ]
  },
  {
   "cell_type": "code",
   "execution_count": 25,
   "id": "170f1d49",
   "metadata": {},
   "outputs": [
    {
     "data": {
      "text/plain": [
       "40685"
      ]
     },
     "execution_count": 25,
     "metadata": {},
     "output_type": "execute_result"
    }
   ],
   "source": [
    "#How many unique emails are there in the dataset?\n",
    "data['email'].nunique()"
   ]
  },
  {
   "cell_type": "markdown",
   "id": "e6d6e7bc",
   "metadata": {},
   "source": [
    "**Testing the removal and combination of duplicates**"
   ]
  },
  {
   "cell_type": "code",
   "execution_count": 26,
   "id": "340b2094",
   "metadata": {},
   "outputs": [
    {
     "name": "stdout",
     "output_type": "stream",
     "text": [
      "All Duplicate Rows based on email:   (21960, 27)\n"
     ]
    },
    {
     "data": {
      "text/plain": [
       "email                         created_at           utm_medium  utm_source \n",
       "01dilvandromarcelo@gmail.com  2022-10-20 00:24:42  cpc         google         2\n",
       "02sergioconde@gmail.com       2021-11-02 01:19:40  cpc         google         1\n",
       "1211eka@gmail.com             2022-10-10 07:58:13  ppc         Facebook       1\n",
       "123malber.olivares@gmail.com  2022-05-08 02:08:10  ppc         fb             1\n",
       "                              2022-06-24 02:39:59  ppc         fb             1\n",
       "                                                                             ..\n",
       "zuberlye@gmail.com            2022-03-02 20:25:26  ppc         ig             1\n",
       "zuluaganeider@gmail.com       2022-04-27 19:16:07  cpc         google         1\n",
       "                              2022-04-27 19:32:06  cpc         google         1\n",
       "zumanzuesaubrey29@gmail.com   2022-05-17 14:52:29  referral    careerkarma    1\n",
       "                              2022-05-17 14:54:14  cpc         google         1\n",
       "Length: 7061, dtype: int64"
      ]
     },
     "execution_count": 26,
     "metadata": {},
     "output_type": "execute_result"
    }
   ],
   "source": [
    "# Creating a duplicates dataframe to try different methods to combine data\n",
    "\n",
    "duplicateRowsDF = data[data.duplicated(['email'],keep= False)]\n",
    "print(\"All Duplicate Rows based on email:\",\" \", duplicateRowsDF.shape)\n",
    "\n",
    "duplicateRowsDF.groupby(['email','created_at','utm_medium','utm_source']).size()"
   ]
  },
  {
   "cell_type": "code",
   "execution_count": 27,
   "id": "1a411ee3",
   "metadata": {},
   "outputs": [],
   "source": [
    "duplicateRowsDF = duplicateRowsDF.replace(\"Nan\", np.nan)\n",
    "\n",
    "# Option 1\n",
    "\n",
    "data1 = duplicateRowsDF.sort_values(\"created_at\")\n"
   ]
  },
  {
   "cell_type": "code",
   "execution_count": 28,
   "id": "10f94979",
   "metadata": {},
   "outputs": [
    {
     "data": {
      "text/html": [
       "<div>\n",
       "<style scoped>\n",
       "    .dataframe tbody tr th:only-of-type {\n",
       "        vertical-align: middle;\n",
       "    }\n",
       "\n",
       "    .dataframe tbody tr th {\n",
       "        vertical-align: top;\n",
       "    }\n",
       "\n",
       "    .dataframe thead th {\n",
       "        text-align: right;\n",
       "    }\n",
       "</style>\n",
       "<table border=\"1\" class=\"dataframe\">\n",
       "  <thead>\n",
       "    <tr style=\"text-align: right;\">\n",
       "      <th></th>\n",
       "      <th>id</th>\n",
       "      <th>fullname</th>\n",
       "      <th>email</th>\n",
       "      <th>phone</th>\n",
       "      <th>course</th>\n",
       "      <th>language</th>\n",
       "      <th>utm_url</th>\n",
       "      <th>utm_medium</th>\n",
       "      <th>utm_campaign</th>\n",
       "      <th>country</th>\n",
       "      <th>...</th>\n",
       "      <th>tags</th>\n",
       "      <th>gclid</th>\n",
       "      <th>utm_source</th>\n",
       "      <th>academy_id</th>\n",
       "      <th>deal_status</th>\n",
       "      <th>ac_deal_id</th>\n",
       "      <th>won_at</th>\n",
       "      <th>lead_generation_app_id</th>\n",
       "      <th>year-month</th>\n",
       "      <th>created_time</th>\n",
       "    </tr>\n",
       "  </thead>\n",
       "  <tbody>\n",
       "    <tr>\n",
       "      <th>32</th>\n",
       "      <td>99</td>\n",
       "      <td>Patricia Sanchez</td>\n",
       "      <td>2231valemati@gmail.com</td>\n",
       "      <td>NaN</td>\n",
       "      <td>full-stack</td>\n",
       "      <td>es</td>\n",
       "      <td>https://4geeksacademy.co/es/course/desarrollo-...</td>\n",
       "      <td>NaN</td>\n",
       "      <td>NaN</td>\n",
       "      <td>Venezuela</td>\n",
       "      <td>...</td>\n",
       "      <td>request_more_info</td>\n",
       "      <td>NaN</td>\n",
       "      <td>NaN</td>\n",
       "      <td>1.0</td>\n",
       "      <td>NaN</td>\n",
       "      <td>NaN</td>\n",
       "      <td>NaT</td>\n",
       "      <td>NaN</td>\n",
       "      <td>2020-09</td>\n",
       "      <td>11:28:12</td>\n",
       "    </tr>\n",
       "    <tr>\n",
       "      <th>46</th>\n",
       "      <td>100</td>\n",
       "      <td>Patricia Sanchez</td>\n",
       "      <td>2231valemati@gmail.com</td>\n",
       "      <td>5.068306e+10</td>\n",
       "      <td>NaN</td>\n",
       "      <td>es</td>\n",
       "      <td>https://4geeksacademy.co/es/aplica</td>\n",
       "      <td>NaN</td>\n",
       "      <td>NaN</td>\n",
       "      <td>Venezuela</td>\n",
       "      <td>...</td>\n",
       "      <td>website-lead</td>\n",
       "      <td>NaN</td>\n",
       "      <td>NaN</td>\n",
       "      <td>8.0</td>\n",
       "      <td>NaN</td>\n",
       "      <td>NaN</td>\n",
       "      <td>NaT</td>\n",
       "      <td>NaN</td>\n",
       "      <td>2020-09</td>\n",
       "      <td>11:54:39</td>\n",
       "    </tr>\n",
       "    <tr>\n",
       "      <th>12</th>\n",
       "      <td>106</td>\n",
       "      <td>Annelis Fuenmayor</td>\n",
       "      <td>annelisfuenmayor@gmail.com</td>\n",
       "      <td>9.498802e+08</td>\n",
       "      <td>full-stack</td>\n",
       "      <td>es</td>\n",
       "      <td>https://4geeksacademy.co/us/apply</td>\n",
       "      <td>NaN</td>\n",
       "      <td>NaN</td>\n",
       "      <td>Chile</td>\n",
       "      <td>...</td>\n",
       "      <td>website-lead</td>\n",
       "      <td>NaN</td>\n",
       "      <td>NaN</td>\n",
       "      <td>5.0</td>\n",
       "      <td>NaN</td>\n",
       "      <td>NaN</td>\n",
       "      <td>NaT</td>\n",
       "      <td>NaN</td>\n",
       "      <td>2020-09</td>\n",
       "      <td>13:07:16</td>\n",
       "    </tr>\n",
       "    <tr>\n",
       "      <th>49</th>\n",
       "      <td>107</td>\n",
       "      <td>Anne F</td>\n",
       "      <td>annelisfuenmayor@gmail.com</td>\n",
       "      <td>5.694988e+10</td>\n",
       "      <td>software-engineering</td>\n",
       "      <td>es</td>\n",
       "      <td>https://4geeksacademy.co/us/apply</td>\n",
       "      <td>NaN</td>\n",
       "      <td>NaN</td>\n",
       "      <td>Chile</td>\n",
       "      <td>...</td>\n",
       "      <td>website-lead</td>\n",
       "      <td>NaN</td>\n",
       "      <td>NaN</td>\n",
       "      <td>5.0</td>\n",
       "      <td>NaN</td>\n",
       "      <td>NaN</td>\n",
       "      <td>NaT</td>\n",
       "      <td>NaN</td>\n",
       "      <td>2020-09</td>\n",
       "      <td>13:07:38</td>\n",
       "    </tr>\n",
       "    <tr>\n",
       "      <th>51</th>\n",
       "      <td>112</td>\n",
       "      <td>Patricia Sanchez</td>\n",
       "      <td>2231valemati@gmail.com</td>\n",
       "      <td>5.068306e+10</td>\n",
       "      <td>full-stack</td>\n",
       "      <td>es</td>\n",
       "      <td>https://4geeksacademy.co/es/aplica</td>\n",
       "      <td>NaN</td>\n",
       "      <td>NaN</td>\n",
       "      <td>Venezuela</td>\n",
       "      <td>...</td>\n",
       "      <td>website-lead</td>\n",
       "      <td>NaN</td>\n",
       "      <td>NaN</td>\n",
       "      <td>8.0</td>\n",
       "      <td>NaN</td>\n",
       "      <td>NaN</td>\n",
       "      <td>NaT</td>\n",
       "      <td>NaN</td>\n",
       "      <td>2020-09</td>\n",
       "      <td>15:30:37</td>\n",
       "    </tr>\n",
       "    <tr>\n",
       "      <th>28852</th>\n",
       "      <td>113</td>\n",
       "      <td>Daniel Suarez</td>\n",
       "      <td>ingsuarezcda@gmail.com</td>\n",
       "      <td>NaN</td>\n",
       "      <td>NaN</td>\n",
       "      <td>es</td>\n",
       "      <td>https://4geeksacademy.co/us/location/impact-hub</td>\n",
       "      <td>NaN</td>\n",
       "      <td>NaN</td>\n",
       "      <td>Spain</td>\n",
       "      <td>...</td>\n",
       "      <td>request_more_info</td>\n",
       "      <td>NaN</td>\n",
       "      <td>NaN</td>\n",
       "      <td>6.0</td>\n",
       "      <td>NaN</td>\n",
       "      <td>15186.0</td>\n",
       "      <td>NaT</td>\n",
       "      <td>NaN</td>\n",
       "      <td>2020-09</td>\n",
       "      <td>15:48:03</td>\n",
       "    </tr>\n",
       "    <tr>\n",
       "      <th>6</th>\n",
       "      <td>114</td>\n",
       "      <td>Patricia Sanchez</td>\n",
       "      <td>2231valemati@gmail.com</td>\n",
       "      <td>5.068306e+10</td>\n",
       "      <td>full-stack</td>\n",
       "      <td>es</td>\n",
       "      <td>https://4geeksacademy.co/es/aplica</td>\n",
       "      <td>NaN</td>\n",
       "      <td>NaN</td>\n",
       "      <td>NaN</td>\n",
       "      <td>...</td>\n",
       "      <td>website-lead</td>\n",
       "      <td>NaN</td>\n",
       "      <td>NaN</td>\n",
       "      <td>7.0</td>\n",
       "      <td>NaN</td>\n",
       "      <td>NaN</td>\n",
       "      <td>NaT</td>\n",
       "      <td>NaN</td>\n",
       "      <td>2020-09</td>\n",
       "      <td>17:16:51</td>\n",
       "    </tr>\n",
       "  </tbody>\n",
       "</table>\n",
       "<p>7 rows × 27 columns</p>\n",
       "</div>"
      ],
      "text/plain": [
       "        id           fullname                       email         phone  \\\n",
       "32      99   Patricia Sanchez      2231valemati@gmail.com           NaN   \n",
       "46     100   Patricia Sanchez      2231valemati@gmail.com  5.068306e+10   \n",
       "12     106  Annelis Fuenmayor  annelisfuenmayor@gmail.com  9.498802e+08   \n",
       "49     107             Anne F  annelisfuenmayor@gmail.com  5.694988e+10   \n",
       "51     112   Patricia Sanchez      2231valemati@gmail.com  5.068306e+10   \n",
       "28852  113      Daniel Suarez      ingsuarezcda@gmail.com           NaN   \n",
       "6      114   Patricia Sanchez      2231valemati@gmail.com  5.068306e+10   \n",
       "\n",
       "                     course language  \\\n",
       "32               full-stack       es   \n",
       "46                      NaN       es   \n",
       "12               full-stack       es   \n",
       "49     software-engineering       es   \n",
       "51               full-stack       es   \n",
       "28852                   NaN       es   \n",
       "6                full-stack       es   \n",
       "\n",
       "                                                 utm_url utm_medium  \\\n",
       "32     https://4geeksacademy.co/es/course/desarrollo-...        NaN   \n",
       "46                    https://4geeksacademy.co/es/aplica        NaN   \n",
       "12                     https://4geeksacademy.co/us/apply        NaN   \n",
       "49                     https://4geeksacademy.co/us/apply        NaN   \n",
       "51                    https://4geeksacademy.co/es/aplica        NaN   \n",
       "28852    https://4geeksacademy.co/us/location/impact-hub        NaN   \n",
       "6                     https://4geeksacademy.co/es/aplica        NaN   \n",
       "\n",
       "      utm_campaign    country  ...               tags  gclid utm_source  \\\n",
       "32             NaN  Venezuela  ...  request_more_info    NaN        NaN   \n",
       "46             NaN  Venezuela  ...       website-lead    NaN        NaN   \n",
       "12             NaN      Chile  ...       website-lead    NaN        NaN   \n",
       "49             NaN      Chile  ...       website-lead    NaN        NaN   \n",
       "51             NaN  Venezuela  ...       website-lead    NaN        NaN   \n",
       "28852          NaN      Spain  ...  request_more_info    NaN        NaN   \n",
       "6              NaN        NaN  ...       website-lead    NaN        NaN   \n",
       "\n",
       "      academy_id deal_status ac_deal_id won_at lead_generation_app_id  \\\n",
       "32           1.0         NaN        NaN    NaT                    NaN   \n",
       "46           8.0         NaN        NaN    NaT                    NaN   \n",
       "12           5.0         NaN        NaN    NaT                    NaN   \n",
       "49           5.0         NaN        NaN    NaT                    NaN   \n",
       "51           8.0         NaN        NaN    NaT                    NaN   \n",
       "28852        6.0         NaN    15186.0    NaT                    NaN   \n",
       "6            7.0         NaN        NaN    NaT                    NaN   \n",
       "\n",
       "      year-month created_time  \n",
       "32       2020-09     11:28:12  \n",
       "46       2020-09     11:54:39  \n",
       "12       2020-09     13:07:16  \n",
       "49       2020-09     13:07:38  \n",
       "51       2020-09     15:30:37  \n",
       "28852    2020-09     15:48:03  \n",
       "6        2020-09     17:16:51  \n",
       "\n",
       "[7 rows x 27 columns]"
      ]
     },
     "execution_count": 28,
     "metadata": {},
     "output_type": "execute_result"
    }
   ],
   "source": [
    "data1.head(7)"
   ]
  },
  {
   "cell_type": "code",
   "execution_count": 29,
   "id": "86dc0683",
   "metadata": {},
   "outputs": [
    {
     "data": {
      "text/html": [
       "<div>\n",
       "<style scoped>\n",
       "    .dataframe tbody tr th:only-of-type {\n",
       "        vertical-align: middle;\n",
       "    }\n",
       "\n",
       "    .dataframe tbody tr th {\n",
       "        vertical-align: top;\n",
       "    }\n",
       "\n",
       "    .dataframe thead th {\n",
       "        text-align: right;\n",
       "    }\n",
       "</style>\n",
       "<table border=\"1\" class=\"dataframe\">\n",
       "  <thead>\n",
       "    <tr style=\"text-align: right;\">\n",
       "      <th></th>\n",
       "      <th>email</th>\n",
       "      <th>id</th>\n",
       "      <th>fullname</th>\n",
       "      <th>phone</th>\n",
       "      <th>course</th>\n",
       "      <th>language</th>\n",
       "      <th>utm_url</th>\n",
       "      <th>utm_medium</th>\n",
       "      <th>utm_campaign</th>\n",
       "      <th>country</th>\n",
       "      <th>...</th>\n",
       "      <th>tags</th>\n",
       "      <th>gclid</th>\n",
       "      <th>utm_source</th>\n",
       "      <th>academy_id</th>\n",
       "      <th>deal_status</th>\n",
       "      <th>ac_deal_id</th>\n",
       "      <th>won_at</th>\n",
       "      <th>lead_generation_app_id</th>\n",
       "      <th>year-month</th>\n",
       "      <th>created_time</th>\n",
       "    </tr>\n",
       "  </thead>\n",
       "  <tbody>\n",
       "    <tr>\n",
       "      <th>0</th>\n",
       "      <td>010.sergio@gmail.com</td>\n",
       "      <td>982</td>\n",
       "      <td>Sergio</td>\n",
       "      <td>9.641998e+08</td>\n",
       "      <td>software-engineering</td>\n",
       "      <td>es</td>\n",
       "      <td>https://4geeksacademy.co/es/course/ingenieria-...</td>\n",
       "      <td>None</td>\n",
       "      <td>None</td>\n",
       "      <td>Remoto</td>\n",
       "      <td>...</td>\n",
       "      <td>request_more_info</td>\n",
       "      <td>Cj0KCQiA7qP9BRCLARIsABDaZzjSqM5HLJ_mnXJR0chAmh...</td>\n",
       "      <td>None</td>\n",
       "      <td>7.0</td>\n",
       "      <td>None</td>\n",
       "      <td>NaN</td>\n",
       "      <td>NaT</td>\n",
       "      <td>NaN</td>\n",
       "      <td>2020-11</td>\n",
       "      <td>22:43:38</td>\n",
       "    </tr>\n",
       "    <tr>\n",
       "      <th>1</th>\n",
       "      <td>01dilvandromarcelo@gmail.com</td>\n",
       "      <td>53966</td>\n",
       "      <td>Dilvandro Marcelo Fernandes Ramos</td>\n",
       "      <td>3.519396e+11</td>\n",
       "      <td>full-stack</td>\n",
       "      <td>en</td>\n",
       "      <td>https://4geeksacademy.com/us/landing/europe-po...</td>\n",
       "      <td>cpc</td>\n",
       "      <td>16168125570</td>\n",
       "      <td>Portugal</td>\n",
       "      <td>...</td>\n",
       "      <td>request_more_info</td>\n",
       "      <td>CjwKCAjwwL6aBhBlEiwADycBIAFbJP4a6uOs6CDiwSqh8t...</td>\n",
       "      <td>google</td>\n",
       "      <td>10.0</td>\n",
       "      <td>None</td>\n",
       "      <td>70015.0</td>\n",
       "      <td>NaT</td>\n",
       "      <td>NaN</td>\n",
       "      <td>2022-10</td>\n",
       "      <td>00:24:42</td>\n",
       "    </tr>\n",
       "    <tr>\n",
       "      <th>2</th>\n",
       "      <td>02sergioconde@gmail.com</td>\n",
       "      <td>15671</td>\n",
       "      <td>Sergio</td>\n",
       "      <td>6.810900e+08</td>\n",
       "      <td>full-stack</td>\n",
       "      <td>en</td>\n",
       "      <td>https://4geeksacademy.com/es/aplica</td>\n",
       "      <td>cpc</td>\n",
       "      <td>12321016929</td>\n",
       "      <td>Spain</td>\n",
       "      <td>...</td>\n",
       "      <td>website-lead</td>\n",
       "      <td>CjwKCAjwoP6LBhBlEiwAvCcthEg_m41UBa1VgX4neAax9f...</td>\n",
       "      <td>google</td>\n",
       "      <td>6.0</td>\n",
       "      <td>LOST</td>\n",
       "      <td>29045.0</td>\n",
       "      <td>NaT</td>\n",
       "      <td>NaN</td>\n",
       "      <td>2021-11</td>\n",
       "      <td>01:19:40</td>\n",
       "    </tr>\n",
       "    <tr>\n",
       "      <th>3</th>\n",
       "      <td>07.ebad@gmail.com</td>\n",
       "      <td>40414</td>\n",
       "      <td>Ebad Abid</td>\n",
       "      <td>9.231325e+11</td>\n",
       "      <td>full-stack</td>\n",
       "      <td>en</td>\n",
       "      <td>https://4geeksacademy.com/us/apply</td>\n",
       "      <td>None</td>\n",
       "      <td>None</td>\n",
       "      <td>France</td>\n",
       "      <td>...</td>\n",
       "      <td>website-lead</td>\n",
       "      <td>None</td>\n",
       "      <td>None</td>\n",
       "      <td>4.0</td>\n",
       "      <td>None</td>\n",
       "      <td>57652.0</td>\n",
       "      <td>NaT</td>\n",
       "      <td>NaN</td>\n",
       "      <td>2022-06</td>\n",
       "      <td>16:41:53</td>\n",
       "    </tr>\n",
       "    <tr>\n",
       "      <th>4</th>\n",
       "      <td>0wenbartlet@gmail.com</td>\n",
       "      <td>17693</td>\n",
       "      <td>Owen bartlett</td>\n",
       "      <td>2.503015e+09</td>\n",
       "      <td>full-stack</td>\n",
       "      <td>en</td>\n",
       "      <td>https://4geeksacademy.com/us/coding-bootcamps/...</td>\n",
       "      <td>None</td>\n",
       "      <td>None</td>\n",
       "      <td>Mexico</td>\n",
       "      <td>...</td>\n",
       "      <td>request_more_info</td>\n",
       "      <td>None</td>\n",
       "      <td>None</td>\n",
       "      <td>7.0</td>\n",
       "      <td>None</td>\n",
       "      <td>30652.0</td>\n",
       "      <td>NaT</td>\n",
       "      <td>NaN</td>\n",
       "      <td>2021-11</td>\n",
       "      <td>21:16:31</td>\n",
       "    </tr>\n",
       "  </tbody>\n",
       "</table>\n",
       "<p>5 rows × 27 columns</p>\n",
       "</div>"
      ],
      "text/plain": [
       "                          email     id                            fullname  \\\n",
       "0          010.sergio@gmail.com    982                             Sergio    \n",
       "1  01dilvandromarcelo@gmail.com  53966  Dilvandro Marcelo Fernandes Ramos    \n",
       "2       02sergioconde@gmail.com  15671                             Sergio    \n",
       "3             07.ebad@gmail.com  40414                          Ebad Abid    \n",
       "4         0wenbartlet@gmail.com  17693                      Owen bartlett    \n",
       "\n",
       "          phone                course language  \\\n",
       "0  9.641998e+08  software-engineering       es   \n",
       "1  3.519396e+11            full-stack       en   \n",
       "2  6.810900e+08            full-stack       en   \n",
       "3  9.231325e+11            full-stack       en   \n",
       "4  2.503015e+09            full-stack       en   \n",
       "\n",
       "                                             utm_url utm_medium utm_campaign  \\\n",
       "0  https://4geeksacademy.co/es/course/ingenieria-...       None         None   \n",
       "1  https://4geeksacademy.com/us/landing/europe-po...        cpc  16168125570   \n",
       "2                https://4geeksacademy.com/es/aplica        cpc  12321016929   \n",
       "3                 https://4geeksacademy.com/us/apply       None         None   \n",
       "4  https://4geeksacademy.com/us/coding-bootcamps/...       None         None   \n",
       "\n",
       "    country  ...               tags  \\\n",
       "0    Remoto  ...  request_more_info   \n",
       "1  Portugal  ...  request_more_info   \n",
       "2     Spain  ...       website-lead   \n",
       "3    France  ...       website-lead   \n",
       "4    Mexico  ...  request_more_info   \n",
       "\n",
       "                                               gclid utm_source academy_id  \\\n",
       "0  Cj0KCQiA7qP9BRCLARIsABDaZzjSqM5HLJ_mnXJR0chAmh...       None        7.0   \n",
       "1  CjwKCAjwwL6aBhBlEiwADycBIAFbJP4a6uOs6CDiwSqh8t...     google       10.0   \n",
       "2  CjwKCAjwoP6LBhBlEiwAvCcthEg_m41UBa1VgX4neAax9f...     google        6.0   \n",
       "3                                               None       None        4.0   \n",
       "4                                               None       None        7.0   \n",
       "\n",
       "  deal_status ac_deal_id won_at lead_generation_app_id year-month created_time  \n",
       "0        None        NaN    NaT                    NaN    2020-11     22:43:38  \n",
       "1        None    70015.0    NaT                    NaN    2022-10     00:24:42  \n",
       "2        LOST    29045.0    NaT                    NaN    2021-11     01:19:40  \n",
       "3        None    57652.0    NaT                    NaN    2022-06     16:41:53  \n",
       "4        None    30652.0    NaT                    NaN    2021-11     21:16:31  \n",
       "\n",
       "[5 rows x 27 columns]"
      ]
     },
     "execution_count": 29,
     "metadata": {},
     "output_type": "execute_result"
    }
   ],
   "source": [
    "data1 = data1.groupby(\"email\").first().reset_index()\n",
    "data1.head()"
   ]
  },
  {
   "cell_type": "code",
   "execution_count": 30,
   "id": "144cdf69",
   "metadata": {},
   "outputs": [
    {
     "data": {
      "text/html": [
       "<div>\n",
       "<style scoped>\n",
       "    .dataframe tbody tr th:only-of-type {\n",
       "        vertical-align: middle;\n",
       "    }\n",
       "\n",
       "    .dataframe tbody tr th {\n",
       "        vertical-align: top;\n",
       "    }\n",
       "\n",
       "    .dataframe thead th {\n",
       "        text-align: right;\n",
       "    }\n",
       "</style>\n",
       "<table border=\"1\" class=\"dataframe\">\n",
       "  <thead>\n",
       "    <tr style=\"text-align: right;\">\n",
       "      <th></th>\n",
       "      <th>email</th>\n",
       "      <th>id</th>\n",
       "      <th>fullname</th>\n",
       "      <th>phone</th>\n",
       "      <th>course</th>\n",
       "      <th>language</th>\n",
       "      <th>utm_url</th>\n",
       "      <th>utm_medium</th>\n",
       "      <th>utm_campaign</th>\n",
       "      <th>country</th>\n",
       "      <th>...</th>\n",
       "      <th>tags</th>\n",
       "      <th>gclid</th>\n",
       "      <th>utm_source</th>\n",
       "      <th>academy_id</th>\n",
       "      <th>deal_status</th>\n",
       "      <th>ac_deal_id</th>\n",
       "      <th>won_at</th>\n",
       "      <th>lead_generation_app_id</th>\n",
       "      <th>year-month</th>\n",
       "      <th>created_time</th>\n",
       "    </tr>\n",
       "  </thead>\n",
       "  <tbody>\n",
       "  </tbody>\n",
       "</table>\n",
       "<p>0 rows × 27 columns</p>\n",
       "</div>"
      ],
      "text/plain": [
       "Empty DataFrame\n",
       "Columns: [email, id, fullname, phone, course, language, utm_url, utm_medium, utm_campaign, country, latitude, longitude, created_at, updated_at, lead_type, location, automations, tags, gclid, utm_source, academy_id, deal_status, ac_deal_id, won_at, lead_generation_app_id, year-month, created_time]\n",
       "Index: []\n",
       "\n",
       "[0 rows x 27 columns]"
      ]
     },
     "execution_count": 30,
     "metadata": {},
     "output_type": "execute_result"
    }
   ],
   "source": [
    "data1[data1['email']== 'afuenmayor@4geeks.co']"
   ]
  },
  {
   "cell_type": "markdown",
   "id": "021b735f",
   "metadata": {},
   "source": [
    "**Implementing the removal and combination of duplicates**"
   ]
  },
  {
   "cell_type": "code",
   "execution_count": 31,
   "id": "6cd9674b",
   "metadata": {},
   "outputs": [],
   "source": [
    "data = data.replace(\"Nan\", np.nan).copy()\n",
    "data = data.sort_values(\"created_at\").copy()\n",
    "data = data.groupby(\"email\").first().reset_index()"
   ]
  },
  {
   "cell_type": "code",
   "execution_count": 32,
   "id": "82c4b70f",
   "metadata": {},
   "outputs": [
    {
     "data": {
      "text/plain": [
       "(40685, 27)"
      ]
     },
     "execution_count": 32,
     "metadata": {},
     "output_type": "execute_result"
    }
   ],
   "source": [
    "data.shape"
   ]
  },
  {
   "cell_type": "markdown",
   "id": "220f772f",
   "metadata": {},
   "source": [
    "**Let's identify if a lead has gclid assigning 1 for True, and 0 for False.**"
   ]
  },
  {
   "cell_type": "code",
   "execution_count": 33,
   "id": "94cb1544",
   "metadata": {},
   "outputs": [],
   "source": [
    "data['has_gclid'] = np.where(data['gclid'].isnull(), '0', '1')"
   ]
  },
  {
   "cell_type": "code",
   "execution_count": 34,
   "id": "dfd6c48b",
   "metadata": {},
   "outputs": [
    {
     "data": {
      "text/plain": [
       "1    26732\n",
       "0    13953\n",
       "Name: has_gclid, dtype: int64"
      ]
     },
     "execution_count": 34,
     "metadata": {},
     "output_type": "execute_result"
    }
   ],
   "source": [
    "data['has_gclid'].value_counts()"
   ]
  },
  {
   "cell_type": "markdown",
   "id": "6a7757e5",
   "metadata": {},
   "source": [
    "**Fixing Courses**"
   ]
  },
  {
   "cell_type": "code",
   "execution_count": 35,
   "id": "2ba5b8b4",
   "metadata": {},
   "outputs": [
    {
     "data": {
      "text/plain": [
       "full-stack                      33952\n",
       "software-engineering             2021\n",
       "machine-learning-engineering     1797\n",
       "full-stack-ft                    1350\n",
       "machine-learning                   80\n",
       "node-js                            55\n",
       "full_stack                          9\n",
       "machine-learning-enginnering        2\n",
       "coding-introduction                 1\n",
       "Name: course, dtype: int64"
      ]
     },
     "execution_count": 35,
     "metadata": {},
     "output_type": "execute_result"
    }
   ],
   "source": [
    "data['course'].value_counts()"
   ]
  },
  {
   "cell_type": "code",
   "execution_count": 36,
   "id": "1f8a5944",
   "metadata": {},
   "outputs": [],
   "source": [
    "data['course'] = data['course'].replace(['full-stack-ft', 'full_stack', 'full-stack,software-engineering',\n",
    "                                         'coding-introduction','outcomes'], 'full-stack')"
   ]
  },
  {
   "cell_type": "code",
   "execution_count": 37,
   "id": "b5dd5b4b",
   "metadata": {},
   "outputs": [],
   "source": [
    "data['course'] = data['course'].replace(['machine-learning', 'machine-learning-enginnering'], \n",
    "                                        'machine-learning-engineering')"
   ]
  },
  {
   "cell_type": "code",
   "execution_count": 38,
   "id": "7e6d413d",
   "metadata": {},
   "outputs": [
    {
     "data": {
      "text/plain": [
       "full-stack                      35312\n",
       "software-engineering             2021\n",
       "machine-learning-engineering     1879\n",
       "node-js                            55\n",
       "Name: course, dtype: int64"
      ]
     },
     "execution_count": 38,
     "metadata": {},
     "output_type": "execute_result"
    }
   ],
   "source": [
    "data['course'].value_counts()"
   ]
  },
  {
   "cell_type": "markdown",
   "id": "de5e322c",
   "metadata": {},
   "source": [
    "**4. Location**\n",
    "\n",
    "Let's correct the 2 different typings in Maracaibo and Cortijos"
   ]
  },
  {
   "cell_type": "code",
   "execution_count": 39,
   "id": "9d1b79fd",
   "metadata": {},
   "outputs": [],
   "source": [
    "data['location'] = data['location'].replace(['maracaibo'], 'maracaibo-venezuela')"
   ]
  },
  {
   "cell_type": "code",
   "execution_count": 40,
   "id": "b25e328b",
   "metadata": {},
   "outputs": [],
   "source": [
    "data['location'] = data['location'].replace(['los-cortijos-caracas'], 'caracas-venezuela')"
   ]
  },
  {
   "cell_type": "code",
   "execution_count": 41,
   "id": "b9cd568b",
   "metadata": {},
   "outputs": [],
   "source": [
    "data['location'] = data['location'].replace(['lisboa-portugal'], 'lisbon-portugal')"
   ]
  },
  {
   "cell_type": "code",
   "execution_count": 42,
   "id": "751fb450",
   "metadata": {},
   "outputs": [
    {
     "data": {
      "text/plain": [
       "caracas-venezuela        7288\n",
       "santiago-chile           6408\n",
       "madrid-spain             6107\n",
       "downtown-miami           4024\n",
       "bogota-colombia          3573\n",
       "online                   3229\n",
       "costa-rica               3164\n",
       "europe                   2238\n",
       "orlando                  1058\n",
       "buenosaires-argentina    1027\n",
       "mexicocity-mexico         854\n",
       "quito-ecuador             280\n",
       "panamacity-panama         258\n",
       "montevideo-uruguay        225\n",
       "munich-germany            196\n",
       "sanjose-uruguay           147\n",
       "barcelona-spain            92\n",
       "toronto-canada             86\n",
       "malaga-spain               66\n",
       "lisbon-portugal            56\n",
       "valencia-spain             54\n",
       "berlin-germany             40\n",
       "lima-peru                  37\n",
       "rome-italy                 35\n",
       "lapaz-bolivia              27\n",
       "hamburg-germany            18\n",
       "dublin-ireland             13\n",
       "maracaibo-venezuela        12\n",
       "milan-italy                 7\n",
       "Name: location, dtype: int64"
      ]
     },
     "execution_count": 42,
     "metadata": {},
     "output_type": "execute_result"
    }
   ],
   "source": [
    "data['location'].value_counts()"
   ]
  },
  {
   "cell_type": "markdown",
   "id": "d84460e7",
   "metadata": {},
   "source": [
    "**Fixing Language**\n",
    "\n",
    "Consider 'us' language inside 'en' for english."
   ]
  },
  {
   "cell_type": "code",
   "execution_count": 43,
   "id": "ff35a0c0",
   "metadata": {},
   "outputs": [
    {
     "data": {
      "text/plain": [
       "en    20017\n",
       "es    15295\n",
       "us     5373\n",
       "Name: language, dtype: int64"
      ]
     },
     "execution_count": 43,
     "metadata": {},
     "output_type": "execute_result"
    }
   ],
   "source": [
    "data['language'].value_counts()"
   ]
  },
  {
   "cell_type": "code",
   "execution_count": 44,
   "id": "1ec9a6da",
   "metadata": {},
   "outputs": [],
   "source": [
    "data['language'] = data['language'].replace('us', 'en')"
   ]
  },
  {
   "cell_type": "code",
   "execution_count": 45,
   "id": "0b8631c5",
   "metadata": {},
   "outputs": [
    {
     "data": {
      "text/plain": [
       "en    25390\n",
       "es    15295\n",
       "Name: language, dtype: int64"
      ]
     },
     "execution_count": 45,
     "metadata": {},
     "output_type": "execute_result"
    }
   ],
   "source": [
    "data['language'].value_counts()"
   ]
  },
  {
   "cell_type": "markdown",
   "id": "3d7785d3",
   "metadata": {},
   "source": [
    "**Fixing Academy_id**"
   ]
  },
  {
   "cell_type": "code",
   "execution_count": 46,
   "id": "dd347c49",
   "metadata": {},
   "outputs": [],
   "source": [
    "data['academy_id'] = np.where((data['location'] == 'maracaibo-venezuela'),\n",
    "                                2.0, data['academy_id'])\n",
    "data['academy_id'] = np.where((data['location'] == 'toronto-canada'),\n",
    "                                4.0, data['academy_id'])\n",
    "data['academy_id'] = np.where((data['location'] == 'costa-rica') |\n",
    "                                (data['location'] == 'sanjose-uruguay'),\n",
    "                                7.0, data['academy_id'])"
   ]
  },
  {
   "cell_type": "markdown",
   "id": "90adb22b",
   "metadata": {},
   "source": [
    "**Fixing utm_source**"
   ]
  },
  {
   "cell_type": "code",
   "execution_count": 47,
   "id": "2576aa44",
   "metadata": {},
   "outputs": [
    {
     "data": {
      "text/plain": [
       "google                                                 9102\n",
       "instagram                                              2514\n",
       "facebook                                               2392\n",
       "ig                                                     2043\n",
       "fb                                                     1728\n",
       "careerkarma                                            1426\n",
       "landingjobs?utm_medium=machine-learning-engineering     538\n",
       "coursereport                                            227\n",
       "Facebook                                                173\n",
       "Facebook ads                                            131\n",
       "aprendemas                                              123\n",
       "landingjobs?utm_medium=full-stack                       115\n",
       "zoho_recruite                                            81\n",
       "facebook_instagram                                       55\n",
       "bing                                                     48\n",
       "ActiveCampaign                                           46\n",
       "landingjobs?utm_medium=RRSS                              30\n",
       "4geeks                                                   22\n",
       "ticjob                                                   18\n",
       "facebook_awareness                                       17\n",
       "Instagram_Feed                                           16\n",
       "Facebook_Mobile_Feed                                     15\n",
       "PR?utm_medium=nota-prensa-1                              15\n",
       "linkedin                                                  9\n",
       "python-es                                                 7\n",
       "qsd.com                                                   6\n",
       "hired                                                     5\n",
       "Facebook_Stories                                          4\n",
       "bootcamprankings                                          4\n",
       "Instagram_Stories                                         3\n",
       "hs_email                                                  3\n",
       "cpc                                                       3\n",
       "educaweb                                                  2\n",
       "meta                                                      2\n",
       "Business Manager IG                                       2\n",
       "educaedu                                                  2\n",
       "google_ads                                                2\n",
       "CourseReport                                              2\n",
       "LInkedin                                                  1\n",
       "clubhouse                                                 1\n",
       "g                                                         1\n",
       "women-who-code                                            1\n",
       "23850705303260143                                         1\n",
       "Facebook_Marketplace                                      1\n",
       "23850859670310143                                         1\n",
       "techhub                                                   1\n",
       "23849317251630143                                         1\n",
       "23848557212380143                                         1\n",
       "an                                                        1\n",
       "23848655532190143                                         1\n",
       "youtube                                                   1\n",
       "Facebook_Desktop_Feed                                     1\n",
       "Name: utm_source, dtype: int64"
      ]
     },
     "execution_count": 47,
     "metadata": {},
     "output_type": "execute_result"
    }
   ],
   "source": [
    "data['utm_source'].value_counts()"
   ]
  },
  {
   "cell_type": "code",
   "execution_count": 48,
   "id": "a72609cf",
   "metadata": {},
   "outputs": [
    {
     "data": {
      "text/plain": [
       "utm_source                                           utm_medium                                    \n",
       "23848557212380143                                    Instagram_Stories                                    1\n",
       "23848655532190143                                    Facebook_Mobile_Feed                                 1\n",
       "23849317251630143                                    Instagram_Feed                                       1\n",
       "23850705303260143                                    Facebook_Mobile_Feed                                 1\n",
       "23850859670310143                                    Facebook_Mobile_Feed                                 1\n",
       "4geeks                                               rrss                                                22\n",
       "ActiveCampaign                                       email                                               46\n",
       "Business Manager IG                                  lead gen                                             2\n",
       "CourseReport                                         Blog                                                 2\n",
       "Facebook                                             FB paid                                             30\n",
       "                                                     cpc                                                 41\n",
       "                                                     ppc                                                102\n",
       "Facebook ads                                         cpc                                                131\n",
       "Facebook_Marketplace                                 23849757712110143                                    1\n",
       "Facebook_Mobile_Feed                                 23849575173750143                                    2\n",
       "                                                     23849757712110143                                    1\n",
       "                                                     Facebook_Mobile_Feed                                 4\n",
       "                                                     ppc                                                  4\n",
       "Instagram_Feed                                       23849575173750143                                    4\n",
       "                                                     23849757712110143                                    1\n",
       "                                                     Instagram_Feed                                       1\n",
       "                                                     ML + AI                                              2\n",
       "                                                     ML + AI v2 - 3rd time (Mar, lookalike NYC, NJ)       2\n",
       "                                                     ppc                                                  3\n",
       "Instagram_Stories                                    Instagram_Stories                                    1\n",
       "LInkedin                                             Inmail                                               1\n",
       "PR?utm_medium=nota-prensa-1                          cpc                                                  1\n",
       "an                                                   ppc                                                  1\n",
       "aprendemas                                           referral                                           123\n",
       "bing                                                 cpc                                                 48\n",
       "bootcamprankings                                     schoolpage                                           4\n",
       "careerkarma                                          referral                                          1393\n",
       "                                                     schoolpage                                          12\n",
       "                                                     schoolpage?utm_source=careerkarma                   12\n",
       "coursereport                                         affiliate_email                                      1\n",
       "                                                     coursereportschoolpage                             226\n",
       "cpc                                                  Facebook_Mobile_Feed                                 3\n",
       "educaedu                                             referral                                             2\n",
       "educaweb                                             referral                                             2\n",
       "facebook                                             cpc                                               2387\n",
       "facebook_instagram                                   cpc                                                 55\n",
       "fb                                                   ppc                                               1728\n",
       "g                                                    ppc                                                  1\n",
       "google                                               cpc                                               9100\n",
       "                                                     referral                                             2\n",
       "google_ads                                           ppc                                                  2\n",
       "hired                                                referral                                             5\n",
       "hs_email                                             email                                                3\n",
       "ig                                                   ppc                                               2043\n",
       "instagram                                            cpc                                                 66\n",
       "                                                     ppc                                               2448\n",
       "landingjobs?utm_medium=machine-learning-engineering  cpc                                                  4\n",
       "linkedin                                             ppc                                                  3\n",
       "                                                     social                                               3\n",
       "meta                                                 ppc                                                  2\n",
       "qsd.com                                              inscripcion                                          6\n",
       "techhub                                              event                                                1\n",
       "ticjob                                               referral                                            18\n",
       "youtube                                              organic                                              1\n",
       "zoho_recruite                                        ppc                                                 81\n",
       "dtype: int64"
      ]
     },
     "execution_count": 48,
     "metadata": {},
     "output_type": "execute_result"
    }
   ],
   "source": [
    "#Before making any changes, we should make sure where do those long numbers belong to: instagram or facebook?\n",
    "\n",
    "pd.options.display.max_rows = 200\n",
    "data.groupby(['utm_source','utm_medium']).size()"
   ]
  },
  {
   "cell_type": "markdown",
   "id": "f5e0422d",
   "metadata": {},
   "source": [
    "**First Conditional assignations**"
   ]
  },
  {
   "cell_type": "code",
   "execution_count": 49,
   "id": "2cd50315",
   "metadata": {},
   "outputs": [],
   "source": [
    "data['utm_medium'] = np.where((data['utm_source'] == 'Facebook ads') |\n",
    "                                (data['utm_source'] == 'Facebook_Marketplace') |\n",
    "                                (data['utm_source'] == 'Facebook_Mobile_Feed') |\n",
    "                                (data['utm_source'] == 'facebook_awareness') |\n",
    "                                (data['utm_source'] == 'Facebook_Stories') |\n",
    "                                (data['utm_source'] == 'Facebook_Desktop_Feed') |\n",
    "                                (data['utm_source'] == 'Business Manager IG') |\n",
    "                                (data['utm_source'] == 'Instagram_Feed') |\n",
    "                                (data['utm_source'] == 'Instagram_Stories'),\n",
    "                                'cpc', data['utm_medium'])\n",
    "\n",
    "data['utm_source'] = np.where((data['utm_medium'] == 'Instagram_Stories') |\n",
    "                                (data['utm_medium'] == 'Instagram_Feed'),\n",
    "                                'instagram', data['utm_source'])\n",
    "\n",
    "data['utm_source'] = np.where((data['utm_medium'] == 'Facebook_Mobile_Feed') |\n",
    "                                (data['utm_medium'] == 'Facebook_Instream_Video') |\n",
    "                                (data['utm_source'] == 'meta'),\n",
    "                                'facebook', data['utm_source'])"
   ]
  },
  {
   "cell_type": "markdown",
   "id": "12af19bd",
   "metadata": {},
   "source": [
    "**Fixing utm_source spelling**"
   ]
  },
  {
   "cell_type": "code",
   "execution_count": 50,
   "id": "e6dcf890",
   "metadata": {},
   "outputs": [],
   "source": [
    "#Fixing spelling of sources in utm_source\n",
    "\n",
    "data['utm_source'] = data['utm_source'].replace('LInkedin', 'linkedin')\n",
    "data['utm_source'] = data['utm_source'].replace('CourseReport', 'coursereport')\n",
    "data['utm_source'] = data['utm_source'].replace(['landingjobs?utm_medium=machine-learning-engineering',\n",
    "                                            'landingjobs?utm_medium=full-stack', 'landingjobs?utm_medium=RRSS'],\n",
    "                                            'landingjobs')\n",
    "data['utm_source'] = data['utm_source'].replace('google_ads', 'google')\n",
    "data['utm_source'] = data['utm_source'].replace(['Business Manager IG', 'Instagram_Feed', 'ig', 'Instagram_Stories'], 'instagram')\n",
    "data['utm_source'] = data['utm_source'].replace(['Facebook', 'Facebook ads', 'Facebook_Marketplace', 'Facebook_Mobile_Feed',\n",
    "                                            'facebook_instagram', 'fb', 'an', 'facebook_awareness', 'Facebook_Stories',\n",
    "                                            'Facebook_Desktop_Feed'], 'facebook')\n",
    "data['utm_source'] = data['utm_source'].replace('4geeks', 'ticjob')"
   ]
  },
  {
   "cell_type": "markdown",
   "id": "fd2a0550",
   "metadata": {},
   "source": [
    "**8. Fixing utm_medium:** \n",
    "\n",
    "Assing 'referral' to all schoolpage values.\n",
    "    \n",
    "Assign referral to all landingjob utm_source.\n",
    "    \n",
    "Verify with gclid if a medium should be cpc or not.\n",
    "    \n",
    "Join cpc with ppc.\n"
   ]
  },
  {
   "cell_type": "code",
   "execution_count": 51,
   "id": "f81e267d",
   "metadata": {},
   "outputs": [],
   "source": [
    "#Making assignations to referral and cpc\n",
    "\n",
    "data['utm_medium'] = data['utm_medium'].replace(['schoolpage', 'coursereportschoolpage', 'schoolpage?utm_source=careerkarma',\n",
    "                                    'Blog', 'affiliate_email', 'rrss', 'inscripcion', 'event'], 'referral')\n",
    "data['utm_medium'] = data['utm_medium'].replace(['ppc', 'FB paid', 'Facebook_Mobile_Feed', 'Instagram_Stories', 'Instagram_Feed',\n",
    "                                    'Facebook_Instream_Video'],'cpc')\n",
    "data['utm_medium'] = np.where((data['utm_source'] == 'linkedin') & (data['utm_medium'] == 'social'),\n",
    "                          'cpc', data['utm_medium'])\n",
    "\n",
    "data['utm_medium'] = np.where((data['utm_source'] == 'linkedin') & (data['utm_medium'] == 'Inmail'),\n",
    "                          'cpc', data['utm_medium'])\n",
    "\n",
    "data['utm_medium'] = np.where((data['utm_source'] == 'landingjobs'),\n",
    "                                'referral', data['utm_medium'])\n",
    "\n",
    "data['utm_medium'] = np.where((data['utm_source'] == 'careerkarma') & (data['utm_medium'].isnull() == True), \n",
    "                          'referral', data['utm_medium'])\n",
    "\n",
    "data['utm_medium'] = np.where((data['utm_source'] == 'facebook') & (data['utm_medium'].isnull() == True),\n",
    "                          'cpc', data['utm_medium'])\n",
    "\n",
    "data['utm_medium'] = np.where((data['utm_source'] == 'zoho_recruite') & (data['utm_medium'] == 'cpc'),\n",
    "                          'referral', data['utm_medium'])"
   ]
  },
  {
   "cell_type": "markdown",
   "id": "720cab00",
   "metadata": {},
   "source": [
    "**Assignations to null sources and medium according to Gclid**"
   ]
  },
  {
   "cell_type": "code",
   "execution_count": 52,
   "id": "fbcb6345",
   "metadata": {},
   "outputs": [],
   "source": [
    "#Convert medium in cpc or referral if gclid is not null\n",
    "\n",
    "data['utm_medium'] = np.where((data['utm_medium'].isnull()) &\n",
    "                    (data['gclid'].str.startswith('Cj')), \n",
    "                    'cpc', data['utm_medium'])\n",
    "\n",
    "data['utm_medium'] = np.where((data['utm_medium'].isnull()) &\n",
    "                    (data['gclid'].str.startswith('cl')), \n",
    "                    'referral', data['utm_medium'])\n",
    "\n",
    "#google\n",
    "\n",
    "data['utm_source'] = np.where((data['utm_source'].isnull()) &\n",
    "                    ((data['gclid'].str.startswith('Cj')) | \n",
    "                    (data['gclid'].str.startswith('EA'))),\n",
    "                    'google', data['utm_source'])\n",
    "\n",
    "\n",
    "#facebook\n",
    "\n",
    "data['utm_source'] = np.where((data['utm_source'].isnull()) &\n",
    "                    (data['gclid'].str.startswith('PAA')),\n",
    "                    'facebook', data['utm_source'])\n",
    "\n",
    "\n",
    "#careerkarma\n",
    "\n",
    "data['utm_source'] = np.where((data['utm_source'].isnull()) &\n",
    "                    (data['gclid'].str.startswith('cl')),\n",
    "                    'careerkarma', data['utm_source'])"
   ]
  },
  {
   "cell_type": "markdown",
   "id": "778e0161",
   "metadata": {},
   "source": [
    "**Assign lead_types depending on the tags.**"
   ]
  },
  {
   "cell_type": "code",
   "execution_count": 53,
   "id": "2b3379e4",
   "metadata": {},
   "outputs": [
    {
     "data": {
      "text/plain": [
       "request_more_info                    24205\n",
       "website-lead                         15077\n",
       "newsletter                             659\n",
       "contact-us                             253\n",
       "utec-uruguay                           147\n",
       "request_downloadable                   136\n",
       "hiring-partner                          88\n",
       "jobboard-lead                           80\n",
       "website-lead,blacks-in-technology       20\n",
       "download_outcome                        18\n",
       "Name: tags, dtype: int64"
      ]
     },
     "execution_count": 53,
     "metadata": {},
     "output_type": "execute_result"
    }
   ],
   "source": [
    "data['tags'].value_counts()"
   ]
  },
  {
   "cell_type": "code",
   "execution_count": 54,
   "id": "b741fb2e",
   "metadata": {},
   "outputs": [],
   "source": [
    "data.loc[data['tags'] == 'request_more_info', 'lead_type'] = 'SOFT'\n",
    "data.loc[data['tags'] == 'website-lead', 'lead_type'] = 'STRONG'\n",
    "data.loc[data['tags'] == 'newsletter', 'lead_type'] = 'DISCOVERY'\n",
    "data.loc[data['tags'] == 'contact-us', 'lead_type'] = 'SOFT'\n",
    "data.loc[data['tags'] == 'utec-uruguay', 'lead_type'] = 'STRONG'\n",
    "data.loc[data['tags'] == 'jobboard-lead', 'lead_type'] = 'STRONG'\n",
    "data.loc[data['tags'] == 'hiring-partner', 'lead_type'] = 'OTHER'\n",
    "data.loc[data['tags'] == 'download_outcome', 'lead_type'] = 'DISCOVERY'\n",
    "data.loc[data['tags'] == 'website-lead,blacks-in-technology', 'lead_type'] = 'STRONG'\n",
    "data.loc[data['tags'] == 'request_downloadable', 'lead_type'] = 'DISCOVERY'"
   ]
  },
  {
   "cell_type": "code",
   "execution_count": 55,
   "id": "9a2e0e93",
   "metadata": {},
   "outputs": [
    {
     "data": {
      "text/plain": [
       "SOFT         24458\n",
       "STRONG       15324\n",
       "DISCOVERY      813\n",
       "OTHER           88\n",
       "Name: lead_type, dtype: int64"
      ]
     },
     "execution_count": 55,
     "metadata": {},
     "output_type": "execute_result"
    }
   ],
   "source": [
    "data['lead_type'].value_counts()"
   ]
  },
  {
   "cell_type": "markdown",
   "id": "a8fda5da",
   "metadata": {},
   "source": [
    "**Change name of null medium and null source**"
   ]
  },
  {
   "cell_type": "code",
   "execution_count": 56,
   "id": "59366182",
   "metadata": {},
   "outputs": [],
   "source": [
    "# change name of null medium\n",
    "\n",
    "data['utm_medium'] = np.where((data['utm_source'].isnull() == True) & (data['utm_medium'].isnull() == True),\n",
    "                                'undefined & organic', data['utm_medium'])\n",
    "\n",
    "# change name of null source\n",
    "\n",
    "data['utm_source'] = np.where((data['utm_medium'] == 'undefined & organic'),\n",
    "                                'undefined', data['utm_source'])"
   ]
  },
  {
   "cell_type": "markdown",
   "id": "a39ec35a",
   "metadata": {},
   "source": [
    "**Create a column that registers the filled % of each row**"
   ]
  },
  {
   "cell_type": "code",
   "execution_count": 57,
   "id": "bd8c8bac",
   "metadata": {},
   "outputs": [],
   "source": [
    "filled_data = []\n",
    "\n",
    "for i in range(len(data.index)):\n",
    "    filled_data.append(((1-((data.iloc[i].isnull().sum())/len(data.columns)))*100))"
   ]
  },
  {
   "cell_type": "code",
   "execution_count": 58,
   "id": "f9b95f18",
   "metadata": {},
   "outputs": [
    {
     "data": {
      "text/plain": [
       "0        82.1\n",
       "1        85.7\n",
       "2        85.7\n",
       "3        89.3\n",
       "4        82.1\n",
       "         ... \n",
       "40680    78.6\n",
       "40681    82.1\n",
       "40682    82.1\n",
       "40683    82.1\n",
       "40684    92.9\n",
       "Name: % of row filled, Length: 40685, dtype: float64"
      ]
     },
     "execution_count": 58,
     "metadata": {},
     "output_type": "execute_result"
    }
   ],
   "source": [
    "#assign list to a new column in dataframe\n",
    "\n",
    "data['% of row filled'] = filled_data\n",
    "\n",
    "# make new column have only one decimal\n",
    "\n",
    "data['% of row filled'].round(1)\n",
    "\n",
    "\n",
    "# Add % symbol to end of column string\n",
    "# \n",
    "# data['filled_data'] = data['filled_data'].astype(str) + '%'"
   ]
  },
  {
   "cell_type": "markdown",
   "id": "84fd5d39",
   "metadata": {},
   "source": [
    "# Creating correct_country Field with phone codes"
   ]
  },
  {
   "cell_type": "code",
   "execution_count": 59,
   "id": "60d6316c",
   "metadata": {},
   "outputs": [],
   "source": [
    "country_data = {\"AF\":\"Afghanistan\",\n",
    "\"AX\":\"Aland Islands\",\n",
    "\"AL\":\"Albania\",\n",
    "\"DZ\":\"Algeria\",\n",
    "\"AS\":\"American Samoa\",\n",
    "\"AD\":\"Andorra\",\n",
    "\"AO\":\"Angola\",\n",
    "\"AI\":\"Anguilla\",\n",
    "\"AQ\":\"Antarctica\",\n",
    "\"AG\":\"Antigua and Barbuda\",\n",
    "\"AR\":\"Argentina\",\n",
    "\"AM\":\"Armenia\",\n",
    "\"AW\":\"Aruba\",\n",
    "\"AU\":\"Australia\",\n",
    "\"AT\":\"Austria\",\n",
    "\"AZ\":\"Azerbaijan\",\n",
    "\"BS\":\"Bahamas\",\n",
    "\"BH\":\"Bahrain\",\n",
    "\"BD\":\"Bangladesh\",\n",
    "\"BB\":\"Barbados\",\n",
    "\"BY\":\"Belarus\",\n",
    "\"BE\":\"Belgium\",\n",
    "\"BZ\":\"Belize\",\n",
    "\"BJ\":\"Benin\",\n",
    "\"BM\":\"Bermuda\",\n",
    "\"BT\":\"Bhutan\",\n",
    "\"BO\":\"Bolivia\",\n",
    "\"BQ\":\"Bonaire, Sint Eustatius and Saba\",\n",
    "\"BA\":\"Bosnia and Herzegovina\",\n",
    "\"BW\":\"Botswana\",\n",
    "\"BV\":\"Bouvet Island\",\n",
    "\"BR\":\"Brazil\",\n",
    "\"IO\":\"British Indian Ocean Territory\",\n",
    "\"BN\":\"Brunei Darussalam\",\n",
    "\"BG\":\"Bulgaria\",\n",
    "\"BF\":\"Burkina Faso\",\n",
    "\"BI\":\"Burundi\",\n",
    "\"KH\":\"Cambodia\",\n",
    "\"CM\":\"Cameroon\",\n",
    "\"CA\":\"Canada\",\n",
    "\"CV\":\"Cape Verde\",\n",
    "\"KY\":\"Cayman Islands\",\n",
    "\"CF\":\"Central African Republic\",\n",
    "\"TD\":\"Chad\",\n",
    "\"CL\":\"Chile\",\n",
    "\"CN\":\"China\",\n",
    "\"CX\":\"Christmas Island\",\n",
    "\"CC\":\"Cocos (Keeling) Islands\",\n",
    "\"CO\":\"Colombia\",\n",
    "\"KM\":\"Comoros\",\n",
    "\"CG\":\"Congo\",\n",
    "\"CD\":\"Congo\",\n",
    "\"CK\":\"Cook Islands\",\n",
    "\"CR\":\"Costa Rica\",\n",
    "\"CI\":\"Côte d'Ivoire\",\n",
    "\"HR\":\"Croatia\",\n",
    "\"CU\":\"Cuba\",\n",
    "\"CW\":\"Curaçao\",\n",
    "\"CY\":\"Cyprus\",\n",
    "\"CZ\":\"Czech Republic\",\n",
    "\"DK\":\"Denmark\",\n",
    "\"DJ\":\"Djibouti\",\n",
    "\"DM\":\"Dominica\",\n",
    "\"DO\":\"Dominican Republic\",\n",
    "\"EC\":\"Ecuador\",\n",
    "\"EG\":\"Egypt\",\n",
    "\"SV\":\"El Salvador\",\n",
    "\"GQ\":\"Equatorial Guinea\",\n",
    "\"ER\":\"Eritrea\",\n",
    "\"EE\":\"Estonia\",\n",
    "\"ET\":\"Ethiopia\",\n",
    "\"FK\":\"Falkland Islands (Malvinas)\",\n",
    "\"FO\":\"Faroe Islands\",\n",
    "\"FJ\":\"Fiji\",\n",
    "\"FI\":\"Finland\",\n",
    "\"FR\":\"France\",\n",
    "\"GF\":\"French Guiana\",\n",
    "\"PF\":\"French Polynesia\",\n",
    "\"TF\":\"French Southern Territories\",\n",
    "\"GA\":\"Gabon\",\n",
    "\"GM\":\"Gambia\",\n",
    "\"GE\":\"Georgia\",\n",
    "\"DE\":\"Germany\",\n",
    "\"GH\":\"Ghana\",\n",
    "\"GI\":\"Gibraltar\",\n",
    "\"GR\":\"Greece\",\n",
    "\"GL\":\"Greenland\",\n",
    "\"GD\":\"Grenada\",\n",
    "\"GP\":\"Guadeloupe\",\n",
    "\"GU\":\"Guam\",\n",
    "\"GT\":\"Guatemala\",\n",
    "\"GG\":\"Guernsey\",\n",
    "\"GN\":\"Guinea\",\n",
    "\"GW\":\"Guinea-Bissau\",\n",
    "\"GY\":\"Guyana\",\n",
    "\"HT\":\"Haiti\",\n",
    "\"HM\":\"Heard Island and McDonald Islands\",\n",
    "\"VA\":\"Holy See\",\n",
    "\"HN\":\"Honduras\",\n",
    "\"HK\":\"Hong Kong\",\n",
    "\"HU\":\"Hungary\",\n",
    "\"IS\":\"Iceland\",\n",
    "\"IN\":\"India\",\n",
    "\"ID\":\"Indonesia\",\n",
    "\"IR\":\"Iran, Islamic Republic of\",\n",
    "\"IQ\":\"Iraq\",\n",
    "\"IE\":\"Ireland\",\n",
    "\"IM\":\"Isle of Man\",\n",
    "\"IL\":\"Israel\",\n",
    "\"IT\":\"Italy\",\n",
    "\"JM\":\"Jamaica\",\n",
    "\"JP\":\"Japan\",\n",
    "\"JE\":\"Jersey\",\n",
    "\"JO\":\"Jordan\",\n",
    "\"KZ\":\"Kazakhstan\",\n",
    "\"KE\":\"Kenya\",\n",
    "\"KI\":\"Kiribati\",\n",
    "\"KP\":\"Korea, Democratic People's Republic of\",\n",
    "\"KR\":\"Korea, Republic of\",\n",
    "\"KW\":\"Kuwait\",\n",
    "\"KG\":\"Kyrgyzstan\",\n",
    "\"LA\":\"Lao People's Democratic Republic\",\n",
    "\"LV\":\"Latvia\",\n",
    "\"LB\":\"Lebanon\",\n",
    "\"LS\":\"Lesotho\",\n",
    "\"LR\":\"Liberia\",\n",
    "\"LY\":\"Libya\",\n",
    "\"LI\":\"Liechtenstein\",\n",
    "\"LT\":\"Lithuania\",\n",
    "\"LU\":\"Luxembourg\",\n",
    "\"MO\":\"Macao\",\n",
    "\"MK\":\"Macedonia\",\n",
    "\"MG\":\"Madagascar\",\n",
    "\"MW\":\"Malawi\",\n",
    "\"MY\":\"Malaysia\",\n",
    "\"MV\":\"Maldives\",\n",
    "\"ML\":\"Mali\",\n",
    "\"MT\":\"Malta\",\n",
    "\"MH\":\"Marshall Islands\",\n",
    "\"MQ\":\"Martinique\",\n",
    "\"MR\":\"Mauritania\",\n",
    "\"MU\":\"Mauritius\",\n",
    "\"YT\":\"Mayotte\",\n",
    "\"MX\":\"Mexico\",\n",
    "\"FM\":\"Micronesia\",\n",
    "\"MD\":\"Moldova\",\n",
    "\"MC\":\"Monaco\",\n",
    "\"MN\":\"Mongolia\",\n",
    "\"ME\":\"Montenegro\",\n",
    "\"MS\":\"Montserrat\",\n",
    "\"MA\":\"Morocco\",\n",
    "\"MZ\":\"Mozambique\",\n",
    "\"MM\":\"Myanmar\",\n",
    "\"NA\":\"Namibia\",\n",
    "\"NR\":\"Nauru\",\n",
    "\"NP\":\"Nepal\",\n",
    "\"NL\":\"Netherlands\",\n",
    "\"NC\":\"New Caledonia\",\n",
    "\"NZ\":\"New Zealand\",\n",
    "\"NI\":\"Nicaragua\",\n",
    "\"NE\":\"Niger\",\n",
    "\"NG\":\"Nigeria\",\n",
    "\"NU\":\"Niue\",\n",
    "\"NF\":\"Norfolk Island\",\n",
    "\"MP\":\"Northern Mariana Islands\",\n",
    "\"NO\":\"Norway\",\n",
    "\"OM\":\"Oman\",\n",
    "\"PK\":\"Pakistan\",\n",
    "\"PW\":\"Palau\",\n",
    "\"PS\":\"Palestinian Territory, Occupied\",\n",
    "\"PA\":\"Panama\",\n",
    "\"PG\":\"Papua New Guinea\",\n",
    "\"PY\":\"Paraguay\",\n",
    "\"PE\":\"Peru\",\n",
    "\"PH\":\"Philippines\",\n",
    "\"PN\":\"Pitcairn\",\n",
    "\"PL\":\"Poland\",\n",
    "\"PT\":\"Portugal\",\n",
    "\"PR\":\"Puerto Rico\",\n",
    "\"QA\":\"Qatar\",\n",
    "\"RE\":\"Réunion\",\n",
    "\"RO\":\"Romania\",\n",
    "\"RU\":\"Russia\",\n",
    "\"RW\":\"Rwanda\",\n",
    "\"BL\":\"Saint Barthélemy\",\n",
    "\"SH\":\"Saint Helena, Ascension and Tristan da Cunha\",\n",
    "\"KN\":\"Saint Kitts and Nevis\",\n",
    "\"LC\":\"Saint Lucia\",\n",
    "\"MF\":\"Saint Martin (French part)\",\n",
    "\"PM\":\"Saint Pierre and Miquelon\",\n",
    "\"VC\":\"Saint Vincent and the Grenadines\",\n",
    "\"WS\":\"Samoa\",\n",
    "\"SM\":\"San Marino\",\n",
    "\"ST\":\"Sao Tome and Principe\",\n",
    "\"SA\":\"Saudi Arabia\",\n",
    "\"SN\":\"Senegal\",\n",
    "\"RS\":\"Serbia\",\n",
    "\"SC\":\"Seychelles\",\n",
    "\"SL\":\"Sierra Leone\",\n",
    "\"SG\":\"Singapore\",\n",
    "\"SX\":\"Sint Maarten (Dutch part)\",\n",
    "\"SK\":\"Slovakia\",\n",
    "\"SI\":\"Slovenia\",\n",
    "\"SB\":\"Solomon Islands\",\n",
    "\"SO\":\"Somalia\",\n",
    "\"ZA\":\"South Africa\",\n",
    "\"GS\":\"South Georgia and the South Sandwich Islands\",\n",
    "\"ES\":\"Spain\",\n",
    "\"LK\":\"Sri Lanka\",\n",
    "\"SD\":\"Sudan\",\n",
    "\"SR\":\"Suriname\",\n",
    "\"SS\":\"South Sudan\",\n",
    "\"SJ\":\"Svalbard and Jan Mayen\",\n",
    "\"SZ\":\"Swaziland\",\n",
    "\"SE\":\"Sweden\",\n",
    "\"CH\":\"Switzerland\",\n",
    "\"SY\":\"Syrian Arab Republic\",\n",
    "\"TW\":\"Taiwan\",\n",
    "\"TJ\":\"Tajikistan\",\n",
    "\"TZ\":\"Tanzania\",\n",
    "\"TH\":\"Thailand\",\n",
    "\"TL\":\"Timor-Leste\",\n",
    "\"TG\":\"Togo\",\n",
    "\"TK\":\"Tokelau\",\n",
    "\"TO\":\"Tonga\",\n",
    "\"TT\":\"Trinidad and Tobago\",\n",
    "\"TN\":\"Tunisia\",\n",
    "\"TR\":\"Turkey\",\n",
    "\"TM\":\"Turkmenistan\",\n",
    "\"TC\":\"Turks and Caicos Islands\",\n",
    "\"TV\":\"Tuvalu\",\n",
    "\"UG\":\"Uganda\",\n",
    "\"UA\":\"Ukraine\",\n",
    "\"AE\":\"United Arab Emirates\",\n",
    "\"GB\":\"United Kingdom\",\n",
    "\"US\":\"United States\",\n",
    "\"UM\":\"United States Minor Outlying Islands\",\n",
    "\"UY\":\"Uruguay\",\n",
    "\"UZ\":\"Uzbekistan\",\n",
    "\"VU\":\"Vanuatu\",\n",
    "\"VE\":\"Venezuela\",\n",
    "\"VN\":\"Viet Nam\",\n",
    "\"VG\":\"Virgin Islands, British\",\n",
    "\"VI\":\"Virgin Islands, U.S.\",\n",
    "\"WF\":\"Wallis and Futuna\",\n",
    "\"YE\":\"Yemen\",\n",
    "\"ZM\":\"Zambia\",\n",
    "\"ZW\":\"Zimbabwe\"}\n"
   ]
  },
  {
   "cell_type": "code",
   "execution_count": 60,
   "id": "615b7350",
   "metadata": {},
   "outputs": [],
   "source": [
    "data['phone'] = data['phone'].apply(lambda x: f'{x:.0f}')\n",
    "data['phone'] = data['phone'].fillna(0)"
   ]
  },
  {
   "cell_type": "code",
   "execution_count": 61,
   "id": "88b183a6",
   "metadata": {},
   "outputs": [
    {
     "data": {
      "text/plain": [
       "False    40685\n",
       "Name: phone, dtype: int64"
      ]
     },
     "execution_count": 61,
     "metadata": {},
     "output_type": "execute_result"
    }
   ],
   "source": [
    "data['phone'].isnull().value_counts()"
   ]
  },
  {
   "cell_type": "code",
   "execution_count": 62,
   "id": "3691102e",
   "metadata": {},
   "outputs": [
    {
     "name": "stdout",
     "output_type": "stream",
     "text": [
      "Collecting phone_iso3166\n",
      "  Using cached phone_iso3166-0.4.1-py3-none-any.whl (45 kB)\n",
      "Installing collected packages: phone_iso3166\r\n",
      "Successfully installed phone_iso3166-0.4.1\r\n",
      "\r\n",
      "\u001b[1m[\u001b[0m\u001b[34;49mnotice\u001b[0m\u001b[1;39;49m]\u001b[0m\u001b[39;49m A new release of pip available: \u001b[0m\u001b[31;49m22.2.2\u001b[0m\u001b[39;49m -> \u001b[0m\u001b[32;49m22.3\u001b[0m\r\n",
      "\u001b[1m[\u001b[0m\u001b[34;49mnotice\u001b[0m\u001b[1;39;49m]\u001b[0m\u001b[39;49m To update, run: \u001b[0m\u001b[32;49mpip install --upgrade pip\u001b[0m\r\n",
      "Note: you may need to restart the kernel to use updated packages.\n"
     ]
    }
   ],
   "source": [
    "pip install phone_iso3166"
   ]
  },
  {
   "cell_type": "code",
   "execution_count": 63,
   "id": "e51c48a1",
   "metadata": {},
   "outputs": [],
   "source": [
    "from phone_iso3166.country import phone_country\n",
    "\n",
    "correct_country = []\n",
    "\n",
    "for row in data.itertuples(index=False):\n",
    "    if str(row.phone) == '0':\n",
    "        correct_country.append('No country assigned')\n",
    "    elif str(row.phone) == 'nan':\n",
    "        correct_country.append('No country assigned')\n",
    "    else:\n",
    "        try:\n",
    "            code = phone_country(row.phone)    \n",
    "            correct_country.append(country_data[code])\n",
    "        except:\n",
    "            correct_country.append('Error from invalid phone')\n",
    "                  \n",
    "        "
   ]
  },
  {
   "cell_type": "code",
   "execution_count": 64,
   "id": "b92bb75c",
   "metadata": {},
   "outputs": [],
   "source": [
    "data['phone_country'] = correct_country"
   ]
  },
  {
   "cell_type": "code",
   "execution_count": 65,
   "id": "f1b3a3a9",
   "metadata": {},
   "outputs": [
    {
     "data": {
      "text/html": [
       "<div>\n",
       "<style scoped>\n",
       "    .dataframe tbody tr th:only-of-type {\n",
       "        vertical-align: middle;\n",
       "    }\n",
       "\n",
       "    .dataframe tbody tr th {\n",
       "        vertical-align: top;\n",
       "    }\n",
       "\n",
       "    .dataframe thead th {\n",
       "        text-align: right;\n",
       "    }\n",
       "</style>\n",
       "<table border=\"1\" class=\"dataframe\">\n",
       "  <thead>\n",
       "    <tr style=\"text-align: right;\">\n",
       "      <th></th>\n",
       "      <th>country</th>\n",
       "      <th>phone_country</th>\n",
       "    </tr>\n",
       "  </thead>\n",
       "  <tbody>\n",
       "    <tr>\n",
       "      <th>0</th>\n",
       "      <td>Remote</td>\n",
       "      <td>Andorra</td>\n",
       "    </tr>\n",
       "    <tr>\n",
       "      <th>1</th>\n",
       "      <td>Venezuela</td>\n",
       "      <td>Venezuela</td>\n",
       "    </tr>\n",
       "    <tr>\n",
       "      <th>2</th>\n",
       "      <td>United States</td>\n",
       "      <td>Russia</td>\n",
       "    </tr>\n",
       "    <tr>\n",
       "      <th>3</th>\n",
       "      <td>Venezuela</td>\n",
       "      <td>Greece</td>\n",
       "    </tr>\n",
       "    <tr>\n",
       "      <th>4</th>\n",
       "      <td>Remoto</td>\n",
       "      <td>Iraq</td>\n",
       "    </tr>\n",
       "    <tr>\n",
       "      <th>...</th>\n",
       "      <td>...</td>\n",
       "      <td>...</td>\n",
       "    </tr>\n",
       "    <tr>\n",
       "      <th>40680</th>\n",
       "      <td>None</td>\n",
       "      <td>United States</td>\n",
       "    </tr>\n",
       "    <tr>\n",
       "      <th>40681</th>\n",
       "      <td>Ecuador</td>\n",
       "      <td>Ecuador</td>\n",
       "    </tr>\n",
       "    <tr>\n",
       "      <th>40682</th>\n",
       "      <td>Venezuela</td>\n",
       "      <td>Colombia</td>\n",
       "    </tr>\n",
       "    <tr>\n",
       "      <th>40683</th>\n",
       "      <td>France</td>\n",
       "      <td>Nigeria</td>\n",
       "    </tr>\n",
       "    <tr>\n",
       "      <th>40684</th>\n",
       "      <td>United States</td>\n",
       "      <td>Congo</td>\n",
       "    </tr>\n",
       "  </tbody>\n",
       "</table>\n",
       "<p>40685 rows × 2 columns</p>\n",
       "</div>"
      ],
      "text/plain": [
       "             country  phone_country\n",
       "0             Remote        Andorra\n",
       "1          Venezuela      Venezuela\n",
       "2      United States         Russia\n",
       "3          Venezuela         Greece\n",
       "4             Remoto           Iraq\n",
       "...              ...            ...\n",
       "40680           None  United States\n",
       "40681        Ecuador        Ecuador\n",
       "40682      Venezuela       Colombia\n",
       "40683         France        Nigeria\n",
       "40684  United States          Congo\n",
       "\n",
       "[40685 rows x 2 columns]"
      ]
     },
     "execution_count": 65,
     "metadata": {},
     "output_type": "execute_result"
    }
   ],
   "source": [
    "data[['country','phone_country']]"
   ]
  },
  {
   "cell_type": "markdown",
   "id": "1b75fe1b",
   "metadata": {},
   "source": [
    "## Creating new column to determine location integrity"
   ]
  },
  {
   "cell_type": "code",
   "execution_count": 66,
   "id": "f99c74ce",
   "metadata": {},
   "outputs": [],
   "source": [
    "LATAM_COUNTRIES = ['Argentina','Bolivia','Brazil','Chile','Colombia','Ecuador','Paraguay','Peru','Uruguay','Venezuela','Belize',\n",
    "                    'Costa Rica','Cuba','Dominican Republic','El Salvador','Guatemala','Haiti','Honduras','Jamaica','Mexico','Nicaragua',\n",
    "                    'Panama','Saint Lucia','Antigua and Barbuda','Guyana','Suriname','Saint Kitts & Nevis','Bahamas','Barbados',\n",
    "                    'Trinidad and Tobago','Grenada','Saint Vincent and the Grenadines','Dominica']\n",
    "\n",
    "LATAM_LOCATIONS = ['caracas-venezuela','santiago-chile','bogota-colombia','online','costa-rica','buenosaires-argentina','mexicocity-mexico',\n",
    "                    'quito-ecuador','panamacity-panama','montevideo-uruguay','sanjose-uruguay','lapaz-bolivia','lima-peru',\n",
    "                    'maracaibo-venezuela']\n",
    "\n",
    "EUROPE_COUNTRIES = ['Hungary','Belarus','Austria','Serbia','Switzerland','Germany','Holy See','Andorra','Bulgaria','United Kingdom',\n",
    "                    'France','Montenegro','Luxembourg','Italy','Denmark','Finland','Slovakia','Norway','Ireland','Spain','Malta',\n",
    "                    'Ukraine','Croatia','Moldova','Monaco','Liechtenstein','Poland','Iceland','San Marino','Bosnia and Herzegovina',\n",
    "                    'Albania','Lithuania','Macedonia','Slovenia','Romania','Latvia','Netherlands','Russia','Estonia','Belgium',\n",
    "                    'Czech Republic','Greece','Portugal','Sweeden']\n",
    "\n",
    "EUROPE_LOCATIONS = ['madrid-spain','europe','barcelona-spain','malaga-spain','munich-germany','berlin-germany','valencia-spain',\n",
    "                    'rome-italy','lisbon-portugal','maracaibo-venezuela','hamburg-germany','dublin-ireland','milan-italy','europe']"
   ]
  },
  {
   "cell_type": "code",
   "execution_count": 67,
   "id": "58cc851a",
   "metadata": {},
   "outputs": [],
   "source": [
    "data['country'] = data['country'].str.lower()\n",
    "data['phone_country'] = data['phone_country'].str.lower()\n",
    "LATAM_COUNTRIES = list(map(str.lower,LATAM_COUNTRIES))\n",
    "EUROPE_COUNTRIES = list(map(str.lower,EUROPE_COUNTRIES))"
   ]
  },
  {
   "cell_type": "code",
   "execution_count": 68,
   "id": "2a16d5aa",
   "metadata": {},
   "outputs": [
    {
     "name": "stdout",
     "output_type": "stream",
     "text": [
      "Collecting python-slugify\n",
      "  Using cached python_slugify-6.1.2-py2.py3-none-any.whl (9.4 kB)\n",
      "Collecting text-unidecode>=1.3\n",
      "  Using cached text_unidecode-1.3-py2.py3-none-any.whl (78 kB)\n",
      "Installing collected packages: text-unidecode, python-slugify\r\n",
      "Successfully installed python-slugify-6.1.2 text-unidecode-1.3\r\n",
      "\r\n",
      "\u001b[1m[\u001b[0m\u001b[34;49mnotice\u001b[0m\u001b[1;39;49m]\u001b[0m\u001b[39;49m A new release of pip available: \u001b[0m\u001b[31;49m22.2.2\u001b[0m\u001b[39;49m -> \u001b[0m\u001b[32;49m22.3\u001b[0m\r\n",
      "\u001b[1m[\u001b[0m\u001b[34;49mnotice\u001b[0m\u001b[1;39;49m]\u001b[0m\u001b[39;49m To update, run: \u001b[0m\u001b[32;49mpip install --upgrade pip\u001b[0m\r\n",
      "Note: you may need to restart the kernel to use updated packages.\n"
     ]
    }
   ],
   "source": [
    "pip install python-slugify"
   ]
  },
  {
   "cell_type": "code",
   "execution_count": 69,
   "id": "8008c5b7",
   "metadata": {},
   "outputs": [],
   "source": [
    "from slugify import slugify\n",
    "\n",
    "data['country'] = data['country'].astype(str).apply(lambda x :slugify(x))\n",
    "data['phone_country'] = data['phone_country'].astype(str).apply(lambda x :slugify(x))"
   ]
  },
  {
   "cell_type": "code",
   "execution_count": 70,
   "id": "dd80d59c",
   "metadata": {},
   "outputs": [],
   "source": [
    "correct_location = []\n",
    "\n",
    "for row in data.itertuples(index=False):\n",
    "    def compare_with(target_phone):\n",
    "        if str(target_phone) in str(row.location):    \n",
    "            return row.location\n",
    "        elif str(target_phone) in str('united-states'):    \n",
    "            return 'downtown-miami'\n",
    "        elif str(target_phone) in LATAM_COUNTRIES and (v for v in LATAM_LOCATIONS if str(target_phone) in v):  \n",
    "            latam_search = str(target_phone)\n",
    "            latam_match = list(filter(lambda x: latam_search in x, LATAM_LOCATIONS))\n",
    "            return latam_match\n",
    "        elif str(target_phone) in EUROPE_COUNTRIES and str(target_phone) in EUROPE_LOCATIONS:\n",
    "            europe_search = str(target_phone)\n",
    "            europe_match = list(filter(lambda x: europe_search in x, EUROPE_LOCATIONS))\n",
    "            return europe_match\n",
    "        elif str(target_phone) in LATAM_COUNTRIES: \n",
    "            return 'online'\n",
    "        elif str(target_phone) in EUROPE_COUNTRIES:  \n",
    "            return 'europe'\n",
    "        return None\n",
    "\n",
    "    location = compare_with(row.phone_country) if str(row.phone_country) not in ['Error from invalid phone','No country assigned'] else None\n",
    "    if  location is not None:\n",
    "        correct_location.append(location)\n",
    "        continue\n",
    "\n",
    "    if location:= compare_with(row.country):\n",
    "        correct_location.append(location)\n",
    "        continue\n",
    "        \n",
    "    correct_location.append('No location assigned')\n",
    "\n",
    "#create new column with the values of correct_location list\n",
    "\n",
    "data['correct_location'] = correct_location\n",
    "\n",
    "#remove '[ ]' from any list in correct_location column (created because of having more than one item)\n",
    "\n",
    "f = lambda x: ','.join(map(str, x)) if isinstance(x, list) else x\n",
    "data['correct_location'] = data['correct_location'].apply(f)\n"
   ]
  },
  {
   "cell_type": "code",
   "execution_count": 71,
   "metadata": {},
   "outputs": [
    {
     "data": {
      "text/plain": [
       "\"\\n2nd option to create correct_location column (works but not optimal code)\\ncorrect_location = []\\n\\nfor row in data.itertuples(index=False):\\n    if str(row.phone_country) in str(row.location):    \\n        correct_location.append(row.location)\\n    elif str(row.phone_country) in str('united-states'):    \\n        correct_location.append('downtown-miami')\\n    elif str(row.phone_country) in LATAM_COUNTRIES and (v for v in LATAM_LOCATIONS if str(row.phone_country) in v):  \\n        latam_search = str(row.phone_country)\\n        latam_match = list(filter(lambda x: latam_search in x, LATAM_LOCATIONS))\\n        correct_location.append(latam_match)\\n    elif str(row.phone_country) in EUROPE_COUNTRIES and str(row.phone_country) in EUROPE_LOCATIONS:\\n        europe_search = str(row.phone_country)\\n        europe_match = list(filter(lambda x: europe_search in x, EUROPE_LOCATIONS))\\n        correct_location.append(europe_match)\\n    elif str(row.phone_country) in LATAM_COUNTRIES: \\n        correct_location.append('online')\\n    elif str(row.phone_country) in EUROPE_COUNTRIES:  \\n        correct_location.append('europe')\\n\\n    elif str(row.phone_country) not in ['Error from invalid phone','No country assigned']:\\n        correct_location.append('No location assigned')   \\n\\n    elif str(row.country) in str(row.location):    \\n        correct_location.append(row.location)\\n    elif str(row.country) in str('united-states'):    \\n        correct_location.append('downtown-miami')\\n    elif str(row.country) in LATAM_COUNTRIES and (v for v in LATAM_LOCATIONS if str(row.country) in v):  \\n        latam_search = str(row.country)\\n        latam_match = list(filter(lambda x: latam_search in x, LATAM_LOCATIONS))\\n        correct_location.append(latam_match)\\n    elif str(row.country) in EUROPE_COUNTRIES and str(row.country) in EUROPE_LOCATIONS:\\n        europe_search = str(row.country)\\n        europe_match = list(filter(lambda x: europe_search in x, EUROPE_LOCATIONS))\\n        correct_location.append(europe_match)\\n    elif str(row.country) in LATAM_COUNTRIES: \\n        correct_location.append('online')\\n    elif str(row.country) in EUROPE_COUNTRIES:  \\n        correct_location.append('europe')\\n        \\n    else:\\n        correct_location.append('No location assigned')\\n\""
      ]
     },
     "execution_count": 71,
     "metadata": {},
     "output_type": "execute_result"
    }
   ],
   "source": [
    "'''\n",
    "2nd option to create correct_location column (works but not optimal code)\n",
    "correct_location = []\n",
    "\n",
    "for row in data.itertuples(index=False):\n",
    "    if str(row.phone_country) in str(row.location):    \n",
    "        correct_location.append(row.location)\n",
    "    elif str(row.phone_country) in str('united-states'):    \n",
    "        correct_location.append('downtown-miami')\n",
    "    elif str(row.phone_country) in LATAM_COUNTRIES and (v for v in LATAM_LOCATIONS if str(row.phone_country) in v):  \n",
    "        latam_search = str(row.phone_country)\n",
    "        latam_match = list(filter(lambda x: latam_search in x, LATAM_LOCATIONS))\n",
    "        correct_location.append(latam_match)\n",
    "    elif str(row.phone_country) in EUROPE_COUNTRIES and str(row.phone_country) in EUROPE_LOCATIONS:\n",
    "        europe_search = str(row.phone_country)\n",
    "        europe_match = list(filter(lambda x: europe_search in x, EUROPE_LOCATIONS))\n",
    "        correct_location.append(europe_match)\n",
    "    elif str(row.phone_country) in LATAM_COUNTRIES: \n",
    "        correct_location.append('online')\n",
    "    elif str(row.phone_country) in EUROPE_COUNTRIES:  \n",
    "        correct_location.append('europe')\n",
    "\n",
    "    elif str(row.phone_country) not in ['Error from invalid phone','No country assigned']:\n",
    "        correct_location.append('No location assigned')   \n",
    "\n",
    "    elif str(row.country) in str(row.location):    \n",
    "        correct_location.append(row.location)\n",
    "    elif str(row.country) in str('united-states'):    \n",
    "        correct_location.append('downtown-miami')\n",
    "    elif str(row.country) in LATAM_COUNTRIES and (v for v in LATAM_LOCATIONS if str(row.country) in v):  \n",
    "        latam_search = str(row.country)\n",
    "        latam_match = list(filter(lambda x: latam_search in x, LATAM_LOCATIONS))\n",
    "        correct_location.append(latam_match)\n",
    "    elif str(row.country) in EUROPE_COUNTRIES and str(row.country) in EUROPE_LOCATIONS:\n",
    "        europe_search = str(row.country)\n",
    "        europe_match = list(filter(lambda x: europe_search in x, EUROPE_LOCATIONS))\n",
    "        correct_location.append(europe_match)\n",
    "    elif str(row.country) in LATAM_COUNTRIES: \n",
    "        correct_location.append('online')\n",
    "    elif str(row.country) in EUROPE_COUNTRIES:  \n",
    "        correct_location.append('europe')\n",
    "        \n",
    "    else:\n",
    "        correct_location.append('No location assigned')\n",
    "'''   "
   ]
  },
  {
   "cell_type": "code",
   "execution_count": 72,
   "id": "4ccf2c46",
   "metadata": {},
   "outputs": [],
   "source": [
    "data['correct_location'] = correct_location"
   ]
  },
  {
   "cell_type": "code",
   "execution_count": 73,
   "id": "26b2503f",
   "metadata": {},
   "outputs": [],
   "source": [
    "f = lambda x: ','.join(map(str, x)) if isinstance(x, list) else x\n",
    "data['correct_location'] = data['correct_location'].apply(f)"
   ]
  },
  {
   "cell_type": "code",
   "execution_count": 74,
   "id": "19dbecc2",
   "metadata": {},
   "outputs": [
    {
     "name": "stdout",
     "output_type": "stream",
     "text": [
      "<class 'pandas.core.frame.DataFrame'>\n",
      "RangeIndex: 40685 entries, 0 to 40684\n",
      "Data columns (total 5 columns):\n",
      " #   Column            Non-Null Count  Dtype \n",
      "---  ------            --------------  ----- \n",
      " 0   phone             40685 non-null  object\n",
      " 1   country           40685 non-null  object\n",
      " 2   phone_country     40685 non-null  object\n",
      " 3   location          40619 non-null  object\n",
      " 4   correct_location  40685 non-null  object\n",
      "dtypes: object(5)\n",
      "memory usage: 1.6+ MB\n"
     ]
    }
   ],
   "source": [
    "data[['phone','country','phone_country','location','correct_location']].info()"
   ]
  },
  {
   "cell_type": "code",
   "execution_count": 75,
   "id": "f0e56d03",
   "metadata": {},
   "outputs": [
    {
     "data": {
      "text/html": [
       "<div>\n",
       "<style scoped>\n",
       "    .dataframe tbody tr th:only-of-type {\n",
       "        vertical-align: middle;\n",
       "    }\n",
       "\n",
       "    .dataframe tbody tr th {\n",
       "        vertical-align: top;\n",
       "    }\n",
       "\n",
       "    .dataframe thead th {\n",
       "        text-align: right;\n",
       "    }\n",
       "</style>\n",
       "<table border=\"1\" class=\"dataframe\">\n",
       "  <thead>\n",
       "    <tr style=\"text-align: right;\">\n",
       "      <th></th>\n",
       "      <th>phone</th>\n",
       "      <th>country</th>\n",
       "      <th>phone_country</th>\n",
       "      <th>location</th>\n",
       "      <th>correct_location</th>\n",
       "    </tr>\n",
       "  </thead>\n",
       "  <tbody>\n",
       "    <tr>\n",
       "      <th>0</th>\n",
       "      <td>376651893</td>\n",
       "      <td>remote</td>\n",
       "      <td>andorra</td>\n",
       "      <td>europe</td>\n",
       "      <td>europe</td>\n",
       "    </tr>\n",
       "    <tr>\n",
       "      <th>1</th>\n",
       "      <td>5804129362947</td>\n",
       "      <td>venezuela</td>\n",
       "      <td>venezuela</td>\n",
       "      <td>caracas-venezuela</td>\n",
       "      <td>caracas-venezuela</td>\n",
       "    </tr>\n",
       "    <tr>\n",
       "      <th>2</th>\n",
       "      <td>7869161892</td>\n",
       "      <td>united-states</td>\n",
       "      <td>russia</td>\n",
       "      <td>downtown-miami</td>\n",
       "      <td>europe</td>\n",
       "    </tr>\n",
       "    <tr>\n",
       "      <th>3</th>\n",
       "      <td>3014055601</td>\n",
       "      <td>venezuela</td>\n",
       "      <td>greece</td>\n",
       "      <td>bogota-colombia</td>\n",
       "      <td>europe</td>\n",
       "    </tr>\n",
       "    <tr>\n",
       "      <th>4</th>\n",
       "      <td>964199806</td>\n",
       "      <td>remoto</td>\n",
       "      <td>iraq</td>\n",
       "      <td>online</td>\n",
       "      <td>No location assigned</td>\n",
       "    </tr>\n",
       "    <tr>\n",
       "      <th>...</th>\n",
       "      <td>...</td>\n",
       "      <td>...</td>\n",
       "      <td>...</td>\n",
       "      <td>...</td>\n",
       "      <td>...</td>\n",
       "    </tr>\n",
       "    <tr>\n",
       "      <th>40680</th>\n",
       "      <td>18324951725</td>\n",
       "      <td>none</td>\n",
       "      <td>united-states</td>\n",
       "      <td>downtown-miami</td>\n",
       "      <td>downtown-miami</td>\n",
       "    </tr>\n",
       "    <tr>\n",
       "      <th>40681</th>\n",
       "      <td>593984690966</td>\n",
       "      <td>ecuador</td>\n",
       "      <td>ecuador</td>\n",
       "      <td>quito-ecuador</td>\n",
       "      <td>quito-ecuador</td>\n",
       "    </tr>\n",
       "    <tr>\n",
       "      <th>40682</th>\n",
       "      <td>573160728002</td>\n",
       "      <td>venezuela</td>\n",
       "      <td>colombia</td>\n",
       "      <td>costa-rica</td>\n",
       "      <td>bogota-colombia</td>\n",
       "    </tr>\n",
       "    <tr>\n",
       "      <th>40683</th>\n",
       "      <td>2348169146697</td>\n",
       "      <td>france</td>\n",
       "      <td>nigeria</td>\n",
       "      <td>europe</td>\n",
       "      <td>europe</td>\n",
       "    </tr>\n",
       "    <tr>\n",
       "      <th>40684</th>\n",
       "      <td>2428172766</td>\n",
       "      <td>united-states</td>\n",
       "      <td>congo</td>\n",
       "      <td>downtown-miami</td>\n",
       "      <td>downtown-miami</td>\n",
       "    </tr>\n",
       "  </tbody>\n",
       "</table>\n",
       "<p>40685 rows × 5 columns</p>\n",
       "</div>"
      ],
      "text/plain": [
       "               phone        country  phone_country           location  \\\n",
       "0          376651893         remote        andorra             europe   \n",
       "1      5804129362947      venezuela      venezuela  caracas-venezuela   \n",
       "2         7869161892  united-states         russia     downtown-miami   \n",
       "3         3014055601      venezuela         greece    bogota-colombia   \n",
       "4          964199806         remoto           iraq             online   \n",
       "...              ...            ...            ...                ...   \n",
       "40680    18324951725           none  united-states     downtown-miami   \n",
       "40681   593984690966        ecuador        ecuador      quito-ecuador   \n",
       "40682   573160728002      venezuela       colombia         costa-rica   \n",
       "40683  2348169146697         france        nigeria             europe   \n",
       "40684     2428172766  united-states          congo     downtown-miami   \n",
       "\n",
       "           correct_location  \n",
       "0                    europe  \n",
       "1         caracas-venezuela  \n",
       "2                    europe  \n",
       "3                    europe  \n",
       "4      No location assigned  \n",
       "...                     ...  \n",
       "40680        downtown-miami  \n",
       "40681         quito-ecuador  \n",
       "40682       bogota-colombia  \n",
       "40683                europe  \n",
       "40684        downtown-miami  \n",
       "\n",
       "[40685 rows x 5 columns]"
      ]
     },
     "execution_count": 75,
     "metadata": {},
     "output_type": "execute_result"
    }
   ],
   "source": [
    "data[['phone','country','phone_country','location','correct_location']]"
   ]
  }
 ],
 "metadata": {
  "kernelspec": {
   "display_name": "Python 3.8.13 64-bit ('shims')",
   "language": "python",
   "name": "python3"
  },
  "language_info": {
   "codemirror_mode": {
    "name": "ipython",
    "version": 3
   },
   "file_extension": ".py",
   "mimetype": "text/x-python",
   "name": "python",
   "nbconvert_exporter": "python",
   "pygments_lexer": "ipython3",
   "version": "3.8.13"
  },
  "vscode": {
   "interpreter": {
    "hash": "9ac03a0a6051494cc606d484d27d20fce22fb7b4d169f583271e11d5ba46a56e"
   }
  }
 },
 "nbformat": 4,
 "nbformat_minor": 5
}
