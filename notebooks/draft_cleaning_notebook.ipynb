{
 "cells": [
  {
   "cell_type": "markdown",
   "id": "75c6fedd",
   "metadata": {},
   "source": [
    " #                                                **Exploring Breathcode data**"
   ]
  },
  {
   "cell_type": "markdown",
   "id": "85701093",
   "metadata": {},
   "source": [
    "### Importing necessary libraries"
   ]
  },
  {
   "cell_type": "code",
   "execution_count": 1,
   "id": "ad617254",
   "metadata": {},
   "outputs": [
    {
     "name": "stdout",
     "output_type": "stream",
     "text": [
      "Collecting pandas\n",
      "  Downloading pandas-1.5.0-cp38-cp38-manylinux_2_17_x86_64.manylinux2014_x86_64.whl (12.2 MB)\n",
      "\u001b[2K     \u001b[90m━━━━━━━━━━━━━━━━━━━━━━━━━━━━━━━━━━━━━━━\u001b[0m \u001b[32m12.2/12.2 MB\u001b[0m \u001b[31m110.1 MB/s\u001b[0m eta \u001b[36m0:00:00\u001b[0m00:01\u001b[0m0:01\u001b[0m\n",
      "\u001b[?25hCollecting matplotlib\n",
      "  Downloading matplotlib-3.6.0-cp38-cp38-manylinux_2_12_x86_64.manylinux2010_x86_64.whl (9.4 MB)\n",
      "\u001b[2K     \u001b[90m━━━━━━━━━━━━━━━━━━━━━━━━━━━━━━━━━━━━━━━━\u001b[0m \u001b[32m9.4/9.4 MB\u001b[0m \u001b[31m126.0 MB/s\u001b[0m eta \u001b[36m0:00:00\u001b[0m00:01\u001b[0m00:01\u001b[0m\n",
      "\u001b[?25hCollecting seaborn\n",
      "  Downloading seaborn-0.12.0-py3-none-any.whl (285 kB)\n",
      "\u001b[2K     \u001b[90m━━━━━━━━━━━━━━━━━━━━━━━━━━━━━━━━━━━━━━\u001b[0m \u001b[32m285.1/285.1 kB\u001b[0m \u001b[31m64.6 MB/s\u001b[0m eta \u001b[36m0:00:00\u001b[0m\n",
      "\u001b[?25hRequirement already satisfied: python-dateutil>=2.8.1 in /home/gitpod/.pyenv/versions/3.8.13/lib/python3.8/site-packages (from pandas) (2.8.2)\n",
      "Collecting pytz>=2020.1\n",
      "  Downloading pytz-2022.4-py2.py3-none-any.whl (500 kB)\n",
      "\u001b[2K     \u001b[90m━━━━━━━━━━━━━━━━━━━━━━━━━━━━━━━━━━━━━\u001b[0m \u001b[32m500.8/500.8 kB\u001b[0m \u001b[31m100.7 MB/s\u001b[0m eta \u001b[36m0:00:00\u001b[0m\n",
      "\u001b[?25hCollecting numpy>=1.20.3\n",
      "  Downloading numpy-1.23.3-cp38-cp38-manylinux_2_17_x86_64.manylinux2014_x86_64.whl (17.1 MB)\n",
      "\u001b[2K     \u001b[90m━━━━━━━━━━━━━━━━━━━━━━━━━━━━━━━━━━━━━━━\u001b[0m \u001b[32m17.1/17.1 MB\u001b[0m \u001b[31m110.2 MB/s\u001b[0m eta \u001b[36m0:00:00\u001b[0m00:01\u001b[0m00:01\u001b[0m\n",
      "\u001b[?25hCollecting cycler>=0.10\n",
      "  Downloading cycler-0.11.0-py3-none-any.whl (6.4 kB)\n",
      "Collecting contourpy>=1.0.1\n",
      "  Downloading contourpy-1.0.5-cp38-cp38-manylinux_2_17_x86_64.manylinux2014_x86_64.whl (295 kB)\n",
      "\u001b[2K     \u001b[90m━━━━━━━━━━━━━━━━━━━━━━━━━━━━━━━━━━━━━━\u001b[0m \u001b[32m295.9/295.9 kB\u001b[0m \u001b[31m62.3 MB/s\u001b[0m eta \u001b[36m0:00:00\u001b[0m\n",
      "\u001b[?25hCollecting kiwisolver>=1.0.1\n",
      "  Downloading kiwisolver-1.4.4-cp38-cp38-manylinux_2_5_x86_64.manylinux1_x86_64.whl (1.2 MB)\n",
      "\u001b[2K     \u001b[90m━━━━━━━━━━━━━━━━━━━━━━━━━━━━━━━━━━━━━━━━\u001b[0m \u001b[32m1.2/1.2 MB\u001b[0m \u001b[31m122.1 MB/s\u001b[0m eta \u001b[36m0:00:00\u001b[0m\n",
      "\u001b[?25hRequirement already satisfied: packaging>=20.0 in /home/gitpod/.pyenv/versions/3.8.13/lib/python3.8/site-packages (from matplotlib) (21.3)\n",
      "Collecting pillow>=6.2.0\n",
      "  Downloading Pillow-9.2.0-cp38-cp38-manylinux_2_28_x86_64.whl (3.2 MB)\n",
      "\u001b[2K     \u001b[90m━━━━━━━━━━━━━━━━━━━━━━━━━━━━━━━━━━━━━━━━\u001b[0m \u001b[32m3.2/3.2 MB\u001b[0m \u001b[31m133.2 MB/s\u001b[0m eta \u001b[36m0:00:00\u001b[0m\n",
      "\u001b[?25hRequirement already satisfied: pyparsing>=2.2.1 in /home/gitpod/.pyenv/versions/3.8.13/lib/python3.8/site-packages (from matplotlib) (3.0.9)\n",
      "Collecting fonttools>=4.22.0\n",
      "  Downloading fonttools-4.37.4-py3-none-any.whl (960 kB)\n",
      "\u001b[2K     \u001b[90m━━━━━━━━━━━━━━━━━━━━━━━━━━━━━━━━━━━━━\u001b[0m \u001b[32m960.8/960.8 kB\u001b[0m \u001b[31m130.5 MB/s\u001b[0m eta \u001b[36m0:00:00\u001b[0m\n",
      "\u001b[?25hRequirement already satisfied: six>=1.5 in /home/gitpod/.pyenv/versions/3.8.13/lib/python3.8/site-packages (from python-dateutil>=2.8.1->pandas) (1.16.0)\n",
      "Installing collected packages: pytz, pillow, numpy, kiwisolver, fonttools, cycler, pandas, contourpy, matplotlib, seaborn\n",
      "Successfully installed contourpy-1.0.5 cycler-0.11.0 fonttools-4.37.4 kiwisolver-1.4.4 matplotlib-3.6.0 numpy-1.23.3 pandas-1.5.0 pillow-9.2.0 pytz-2022.4 seaborn-0.12.0\n",
      "Note: you may need to restart the kernel to use updated packages.\n"
     ]
    }
   ],
   "source": [
    "pip install pandas matplotlib seaborn"
   ]
  },
  {
   "cell_type": "code",
   "execution_count": 2,
   "id": "35fcfef8",
   "metadata": {},
   "outputs": [],
   "source": [
    "import pandas as pd\n",
    "import numpy as np\n",
    "import matplotlib.pyplot as plt\n",
    "import seaborn as sns\n",
    "import datetime"
   ]
  },
  {
   "cell_type": "markdown",
   "id": "082e6d18",
   "metadata": {},
   "source": [
    "### Loading the data"
   ]
  },
  {
   "cell_type": "code",
   "execution_count": 3,
   "id": "bcc40632",
   "metadata": {},
   "outputs": [
    {
     "name": "stderr",
     "output_type": "stream",
     "text": [
      "/tmp/ipykernel_1381/3606296293.py:1: DtypeWarning: Columns (24,28,41,42,46) have mixed types. Specify dtype option on import or set low_memory=False.\n",
      "  data = pd.read_csv('../sources/All_Form_Entries.csv', dtype={'utm_content': 'object', 'current_download': 'object', 'state': 'object', 'lead_type': 'object', 'lead_generation_app':'object'})\n"
     ]
    }
   ],
   "source": [
    "data = pd.read_csv('../sources/All_Form_Entries.csv', dtype={'utm_content': 'object', 'current_download': 'object', 'state': 'object', 'lead_type': 'object', 'lead_generation_app':'object'})"
   ]
  },
  {
   "cell_type": "markdown",
   "id": "15b8f817",
   "metadata": {},
   "source": [
    "## Data Cleaning"
   ]
  },
  {
   "cell_type": "markdown",
   "id": "e9352d52",
   "metadata": {},
   "source": [
    "**Changing column type of date columns**"
   ]
  },
  {
   "cell_type": "code",
   "execution_count": 4,
   "id": "b97bfc13",
   "metadata": {},
   "outputs": [
    {
     "data": {
      "text/plain": [
       "0    2020-11-28 07:46:58.469198+00:00\n",
       "1    2021-06-22 04:29:19.572742+00:00\n",
       "2    2022-04-19 02:00:13.390512+00:00\n",
       "3    2020-09-23 21:22:11.861392+00:00\n",
       "4    2020-09-24 04:36:26.286289+00:00\n",
       "Name: created_at, dtype: object"
      ]
     },
     "execution_count": 4,
     "metadata": {},
     "output_type": "execute_result"
    }
   ],
   "source": [
    "data['created_at'].head()"
   ]
  },
  {
   "cell_type": "code",
   "execution_count": 5,
   "id": "100db246",
   "metadata": {},
   "outputs": [],
   "source": [
    "#Changing type of 3 datetime columns \n",
    "\n",
    "data[['created_at','updated_at','won_at']] = data[['created_at','updated_at','won_at']].apply(pd.to_datetime).copy()"
   ]
  },
  {
   "cell_type": "code",
   "execution_count": 6,
   "id": "a7004177",
   "metadata": {},
   "outputs": [],
   "source": [
    "data['created_at'] = data['created_at'].dt.strftime(\"%Y-%m-%d %H:%M:%S\")\n",
    "data['updated_at'] = data['updated_at'].dt.strftime(\"%Y-%m-%d %H:%M:%S\")\n",
    "data['won_at'] = data['won_at'].dt.strftime(\"%Y-%m-%d %H:%M:%S\")"
   ]
  },
  {
   "cell_type": "code",
   "execution_count": 7,
   "id": "62c25f4b",
   "metadata": {},
   "outputs": [],
   "source": [
    "data[['created_at','updated_at','won_at']] = data[['created_at','updated_at','won_at']].apply(pd.to_datetime).copy()"
   ]
  },
  {
   "cell_type": "code",
   "execution_count": 8,
   "id": "18083284",
   "metadata": {},
   "outputs": [],
   "source": [
    "#The column of our interest is 'Created_at' so we'll convert and separate that one first\n",
    "\n",
    "data['year-month'] = data['created_at'].dt.strftime('%Y-%m')\n",
    "data['created_time'] = data['created_at'].dt.strftime('%H:%M:%S')"
   ]
  },
  {
   "cell_type": "markdown",
   "id": "45253e8e",
   "metadata": {},
   "source": [
    "**Create a full name column**"
   ]
  },
  {
   "cell_type": "code",
   "execution_count": 9,
   "id": "7dd9615f",
   "metadata": {},
   "outputs": [],
   "source": [
    "#Combine first and last name ignoring nulls\n",
    "data['fullname'] = data['first_name'].fillna('') + str(' ') + data['last_name'].fillna('')"
   ]
  },
  {
   "cell_type": "code",
   "execution_count": 10,
   "id": "740ccb94",
   "metadata": {},
   "outputs": [],
   "source": [
    "# shift column 'Fullname' to first position\n",
    "fourth_column = data.pop('fullname')\n",
    "\n",
    "# insert column using insert(position,column_name,fourth_column) function\n",
    "data.insert(3, 'fullname', fourth_column)"
   ]
  },
  {
   "cell_type": "markdown",
   "id": "6aaf5f3f",
   "metadata": {},
   "source": [
    "**Dropping columns with 100% of null values and also non relevant columns**"
   ]
  },
  {
   "cell_type": "code",
   "execution_count": 11,
   "id": "39b785b4",
   "metadata": {},
   "outputs": [
    {
     "name": "stderr",
     "output_type": "stream",
     "text": [
      "/home/gitpod/.pyenv/versions/3.8.13/lib/python3.8/site-packages/seaborn/distributions.py:264: FutureWarning: In a future version, `df.iloc[:, i] = newvals` will attempt to set the values inplace instead of always setting a new array. To retain the old behavior, use either `df[df.columns[i]] = newvals` or, if columns are non-unique, `df.isetitem(i, newvals)`\n",
      "  curves.iloc[:, cols] = (curves\n",
      "/home/gitpod/.pyenv/versions/3.8.13/lib/python3.8/site-packages/seaborn/distributions.py:269: FutureWarning: In a future version, `df.iloc[:, i] = newvals` will attempt to set the values inplace instead of always setting a new array. To retain the old behavior, use either `df[df.columns[i]] = newvals` or, if columns are non-unique, `df.isetitem(i, newvals)`\n",
      "  baselines.iloc[:, cols] = (curves\n"
     ]
    },
    {
     "data": {
      "text/plain": [
       "<Figure size 1500x1500 with 0 Axes>"
      ]
     },
     "metadata": {},
     "output_type": "display_data"
    },
    {
     "data": {
      "image/png": "[encoded data removed]",
      "text/plain": [
       "<Figure size 1084.88x500 with 1 Axes>"
      ]
     },
     "metadata": {},
     "output_type": "display_data"
    }
   ],
   "source": [
    "plt.figure(figsize=(15,15))\n",
    "sns.displot(\n",
    "    data=data.isna().melt(value_name=\"missing\"),\n",
    "    y=\"variable\",\n",
    "    hue=\"missing\",\n",
    "    multiple=\"fill\",\n",
    "    aspect=2\n",
    ")\n",
    "plt.show()"
   ]
  },
  {
   "cell_type": "code",
   "execution_count": 12,
   "id": "af0ed7a6",
   "metadata": {},
   "outputs": [],
   "source": [
    "#Let's drop columns that have all null values.\n",
    "\n",
    "data.dropna(axis=1, how='all', inplace=True)"
   ]
  },
  {
   "cell_type": "code",
   "execution_count": 13,
   "id": "06db333e",
   "metadata": {},
   "outputs": [],
   "source": [
    "#Let's also drop not relevant columns.\n",
    "\n",
    "data = data.drop(['phone','client_comments','street_address','city','latitude','longitude','state',\n",
    "                  'zip_code','referral_key','browser_lang','ac_expected_cohort','current_download','utm_content',\n",
    "                  'storage_status','user_id','ac_contact_id','first_name','last_name','storage_status_text'], axis=1).copy()"
   ]
  },
  {
   "cell_type": "code",
   "execution_count": 14,
   "id": "72100476",
   "metadata": {},
   "outputs": [],
   "source": [
    "#Dropping rows that were only for test (identify the rest of test emails pending)\n",
    "data.drop(data[data['utm_source'] == 'test_s'].index, inplace = True)\n",
    "data.drop(data[data['utm_source'] == 'fintech'].index, inplace = True)"
   ]
  },
  {
   "cell_type": "code",
   "execution_count": 15,
   "id": "f45f55d9",
   "metadata": {},
   "outputs": [],
   "source": [
    "#some test rows identified\n",
    "data = data[data[\"email\"].str.contains(\"@4geeks\") == False]"
   ]
  },
  {
   "cell_type": "markdown",
   "id": "46d45830",
   "metadata": {},
   "source": [
    "**Reduce dataframe to only one application (first) per email, and combine with duplicated (if so)**"
   ]
  },
  {
   "cell_type": "code",
   "execution_count": 16,
   "id": "170f1d49",
   "metadata": {},
   "outputs": [
    {
     "data": {
      "text/plain": [
       "37006"
      ]
     },
     "execution_count": 16,
     "metadata": {},
     "output_type": "execute_result"
    }
   ],
   "source": [
    "#How many unique emails are there in the dataset?\n",
    "data['email'].nunique()"
   ]
  },
  {
   "cell_type": "markdown",
   "id": "e6d6e7bc",
   "metadata": {},
   "source": [
    "**Testing the removal and combination of duplicates**"
   ]
  },
  {
   "cell_type": "code",
   "execution_count": 17,
   "id": "340b2094",
   "metadata": {},
   "outputs": [
    {
     "name": "stdout",
     "output_type": "stream",
     "text": [
      "All Duplicate Rows based on email:   (19952, 24)\n"
     ]
    },
    {
     "data": {
      "text/plain": [
       "email                         created_at           utm_medium  utm_source \n",
       "02sergioconde@gmail.com       2021-11-02 01:19:40  cpc         google         1\n",
       "123malber.olivares@gmail.com  2022-05-08 02:08:10  ppc         fb             1\n",
       "                              2022-06-24 02:39:59  ppc         fb             1\n",
       "1928nathalia@gmail.com        2022-02-14 22:58:04  cpc         google         1\n",
       "                              2022-02-14 23:00:52  cpc         google         1\n",
       "                                                                             ..\n",
       "zuberlye@gmail.com            2022-03-02 20:25:26  ppc         ig             1\n",
       "zuluaganeider@gmail.com       2022-04-27 19:16:07  cpc         google         1\n",
       "                              2022-04-27 19:32:06  cpc         google         1\n",
       "zumanzuesaubrey29@gmail.com   2022-05-17 14:52:29  referral    careerkarma    1\n",
       "                              2022-05-17 14:54:14  cpc         google         1\n",
       "Length: 6041, dtype: int64"
      ]
     },
     "execution_count": 17,
     "metadata": {},
     "output_type": "execute_result"
    }
   ],
   "source": [
    "# Creating a duplicates dataframe to try different methods to combine data\n",
    "\n",
    "duplicateRowsDF = data[data.duplicated(['email'],keep= False)]\n",
    "print(\"All Duplicate Rows based on email:\",\" \", duplicateRowsDF.shape)\n",
    "\n",
    "duplicateRowsDF.groupby(['email','created_at','utm_medium','utm_source']).size()"
   ]
  },
  {
   "cell_type": "code",
   "execution_count": 18,
   "id": "1a411ee3",
   "metadata": {},
   "outputs": [],
   "source": [
    "duplicateRowsDF = duplicateRowsDF.replace(\"Nan\", np.nan)\n",
    "\n",
    "# Option 1\n",
    "\n",
    "data1 = duplicateRowsDF.sort_values(\"created_at\")\n"
   ]
  },
  {
   "cell_type": "code",
   "execution_count": 19,
   "id": "10f94979",
   "metadata": {},
   "outputs": [
    {
     "data": {
      "text/html": [
       "<div>\n",
       "<style scoped>\n",
       "    .dataframe tbody tr th:only-of-type {\n",
       "        vertical-align: middle;\n",
       "    }\n",
       "\n",
       "    .dataframe tbody tr th {\n",
       "        vertical-align: top;\n",
       "    }\n",
       "\n",
       "    .dataframe thead th {\n",
       "        text-align: right;\n",
       "    }\n",
       "</style>\n",
       "<table border=\"1\" class=\"dataframe\">\n",
       "  <thead>\n",
       "    <tr style=\"text-align: right;\">\n",
       "      <th></th>\n",
       "      <th>id</th>\n",
       "      <th>fullname</th>\n",
       "      <th>email</th>\n",
       "      <th>course</th>\n",
       "      <th>language</th>\n",
       "      <th>utm_url</th>\n",
       "      <th>utm_medium</th>\n",
       "      <th>utm_campaign</th>\n",
       "      <th>country</th>\n",
       "      <th>created_at</th>\n",
       "      <th>...</th>\n",
       "      <th>tags</th>\n",
       "      <th>gclid</th>\n",
       "      <th>utm_source</th>\n",
       "      <th>academy_id</th>\n",
       "      <th>deal_status</th>\n",
       "      <th>ac_deal_id</th>\n",
       "      <th>won_at</th>\n",
       "      <th>lead_generation_app_id</th>\n",
       "      <th>year-month</th>\n",
       "      <th>created_time</th>\n",
       "    </tr>\n",
       "  </thead>\n",
       "  <tbody>\n",
       "    <tr>\n",
       "      <th>32</th>\n",
       "      <td>99</td>\n",
       "      <td>Patricia Sanchez</td>\n",
       "      <td>2231valemati@gmail.com</td>\n",
       "      <td>full-stack</td>\n",
       "      <td>es</td>\n",
       "      <td>https://4geeksacademy.co/es/course/desarrollo-...</td>\n",
       "      <td>NaN</td>\n",
       "      <td>NaN</td>\n",
       "      <td>Venezuela</td>\n",
       "      <td>2020-09-22 11:28:12</td>\n",
       "      <td>...</td>\n",
       "      <td>request_more_info</td>\n",
       "      <td>NaN</td>\n",
       "      <td>NaN</td>\n",
       "      <td>1.0</td>\n",
       "      <td>NaN</td>\n",
       "      <td>NaN</td>\n",
       "      <td>NaT</td>\n",
       "      <td>NaN</td>\n",
       "      <td>2020-09</td>\n",
       "      <td>11:28:12</td>\n",
       "    </tr>\n",
       "    <tr>\n",
       "      <th>46</th>\n",
       "      <td>100</td>\n",
       "      <td>Patricia Sanchez</td>\n",
       "      <td>2231valemati@gmail.com</td>\n",
       "      <td>NaN</td>\n",
       "      <td>es</td>\n",
       "      <td>https://4geeksacademy.co/es/aplica</td>\n",
       "      <td>NaN</td>\n",
       "      <td>NaN</td>\n",
       "      <td>Venezuela</td>\n",
       "      <td>2020-09-22 11:54:39</td>\n",
       "      <td>...</td>\n",
       "      <td>website-lead</td>\n",
       "      <td>NaN</td>\n",
       "      <td>NaN</td>\n",
       "      <td>8.0</td>\n",
       "      <td>NaN</td>\n",
       "      <td>NaN</td>\n",
       "      <td>NaT</td>\n",
       "      <td>NaN</td>\n",
       "      <td>2020-09</td>\n",
       "      <td>11:54:39</td>\n",
       "    </tr>\n",
       "    <tr>\n",
       "      <th>13</th>\n",
       "      <td>106</td>\n",
       "      <td>Annelis Fuenmayor</td>\n",
       "      <td>annelisfuenmayor@gmail.com</td>\n",
       "      <td>full-stack</td>\n",
       "      <td>es</td>\n",
       "      <td>https://4geeksacademy.co/us/apply</td>\n",
       "      <td>NaN</td>\n",
       "      <td>NaN</td>\n",
       "      <td>Chile</td>\n",
       "      <td>2020-09-22 13:07:16</td>\n",
       "      <td>...</td>\n",
       "      <td>website-lead</td>\n",
       "      <td>NaN</td>\n",
       "      <td>NaN</td>\n",
       "      <td>5.0</td>\n",
       "      <td>NaN</td>\n",
       "      <td>NaN</td>\n",
       "      <td>NaT</td>\n",
       "      <td>NaN</td>\n",
       "      <td>2020-09</td>\n",
       "      <td>13:07:16</td>\n",
       "    </tr>\n",
       "    <tr>\n",
       "      <th>49</th>\n",
       "      <td>107</td>\n",
       "      <td>Anne F</td>\n",
       "      <td>annelisfuenmayor@gmail.com</td>\n",
       "      <td>software-engineering</td>\n",
       "      <td>es</td>\n",
       "      <td>https://4geeksacademy.co/us/apply</td>\n",
       "      <td>NaN</td>\n",
       "      <td>NaN</td>\n",
       "      <td>Chile</td>\n",
       "      <td>2020-09-22 13:07:38</td>\n",
       "      <td>...</td>\n",
       "      <td>website-lead</td>\n",
       "      <td>NaN</td>\n",
       "      <td>NaN</td>\n",
       "      <td>5.0</td>\n",
       "      <td>NaN</td>\n",
       "      <td>NaN</td>\n",
       "      <td>NaT</td>\n",
       "      <td>NaN</td>\n",
       "      <td>2020-09</td>\n",
       "      <td>13:07:38</td>\n",
       "    </tr>\n",
       "    <tr>\n",
       "      <th>51</th>\n",
       "      <td>112</td>\n",
       "      <td>Patricia Sanchez</td>\n",
       "      <td>2231valemati@gmail.com</td>\n",
       "      <td>full-stack</td>\n",
       "      <td>es</td>\n",
       "      <td>https://4geeksacademy.co/es/aplica</td>\n",
       "      <td>NaN</td>\n",
       "      <td>NaN</td>\n",
       "      <td>Venezuela</td>\n",
       "      <td>2020-09-22 15:30:37</td>\n",
       "      <td>...</td>\n",
       "      <td>website-lead</td>\n",
       "      <td>NaN</td>\n",
       "      <td>NaN</td>\n",
       "      <td>8.0</td>\n",
       "      <td>NaN</td>\n",
       "      <td>NaN</td>\n",
       "      <td>NaT</td>\n",
       "      <td>NaN</td>\n",
       "      <td>2020-09</td>\n",
       "      <td>15:30:37</td>\n",
       "    </tr>\n",
       "    <tr>\n",
       "      <th>7</th>\n",
       "      <td>114</td>\n",
       "      <td>Patricia Sanchez</td>\n",
       "      <td>2231valemati@gmail.com</td>\n",
       "      <td>full-stack</td>\n",
       "      <td>es</td>\n",
       "      <td>https://4geeksacademy.co/es/aplica</td>\n",
       "      <td>NaN</td>\n",
       "      <td>NaN</td>\n",
       "      <td>NaN</td>\n",
       "      <td>2020-09-22 17:16:51</td>\n",
       "      <td>...</td>\n",
       "      <td>website-lead</td>\n",
       "      <td>NaN</td>\n",
       "      <td>NaN</td>\n",
       "      <td>7.0</td>\n",
       "      <td>NaN</td>\n",
       "      <td>NaN</td>\n",
       "      <td>NaT</td>\n",
       "      <td>NaN</td>\n",
       "      <td>2020-09</td>\n",
       "      <td>17:16:51</td>\n",
       "    </tr>\n",
       "    <tr>\n",
       "      <th>33</th>\n",
       "      <td>115</td>\n",
       "      <td>Patricia Sanchez</td>\n",
       "      <td>2231valemati@gmail.com</td>\n",
       "      <td>NaN</td>\n",
       "      <td>es</td>\n",
       "      <td>https://4geeksacademy.co/us/location/online-re...</td>\n",
       "      <td>NaN</td>\n",
       "      <td>NaN</td>\n",
       "      <td>Venezuela</td>\n",
       "      <td>2020-09-22 17:17:38</td>\n",
       "      <td>...</td>\n",
       "      <td>request_more_info</td>\n",
       "      <td>NaN</td>\n",
       "      <td>NaN</td>\n",
       "      <td>1.0</td>\n",
       "      <td>NaN</td>\n",
       "      <td>NaN</td>\n",
       "      <td>NaT</td>\n",
       "      <td>NaN</td>\n",
       "      <td>2020-09</td>\n",
       "      <td>17:17:38</td>\n",
       "    </tr>\n",
       "  </tbody>\n",
       "</table>\n",
       "<p>7 rows × 24 columns</p>\n",
       "</div>"
      ],
      "text/plain": [
       "     id           fullname                       email                course  \\\n",
       "32   99   Patricia Sanchez      2231valemati@gmail.com            full-stack   \n",
       "46  100   Patricia Sanchez      2231valemati@gmail.com                   NaN   \n",
       "13  106  Annelis Fuenmayor  annelisfuenmayor@gmail.com            full-stack   \n",
       "49  107             Anne F  annelisfuenmayor@gmail.com  software-engineering   \n",
       "51  112   Patricia Sanchez      2231valemati@gmail.com            full-stack   \n",
       "7   114   Patricia Sanchez      2231valemati@gmail.com            full-stack   \n",
       "33  115   Patricia Sanchez      2231valemati@gmail.com                   NaN   \n",
       "\n",
       "   language                                            utm_url utm_medium  \\\n",
       "32       es  https://4geeksacademy.co/es/course/desarrollo-...        NaN   \n",
       "46       es                 https://4geeksacademy.co/es/aplica        NaN   \n",
       "13       es                  https://4geeksacademy.co/us/apply        NaN   \n",
       "49       es                  https://4geeksacademy.co/us/apply        NaN   \n",
       "51       es                 https://4geeksacademy.co/es/aplica        NaN   \n",
       "7        es                 https://4geeksacademy.co/es/aplica        NaN   \n",
       "33       es  https://4geeksacademy.co/us/location/online-re...        NaN   \n",
       "\n",
       "   utm_campaign    country          created_at  ...               tags gclid  \\\n",
       "32          NaN  Venezuela 2020-09-22 11:28:12  ...  request_more_info   NaN   \n",
       "46          NaN  Venezuela 2020-09-22 11:54:39  ...       website-lead   NaN   \n",
       "13          NaN      Chile 2020-09-22 13:07:16  ...       website-lead   NaN   \n",
       "49          NaN      Chile 2020-09-22 13:07:38  ...       website-lead   NaN   \n",
       "51          NaN  Venezuela 2020-09-22 15:30:37  ...       website-lead   NaN   \n",
       "7           NaN        NaN 2020-09-22 17:16:51  ...       website-lead   NaN   \n",
       "33          NaN  Venezuela 2020-09-22 17:17:38  ...  request_more_info   NaN   \n",
       "\n",
       "   utm_source academy_id deal_status ac_deal_id won_at  \\\n",
       "32        NaN        1.0         NaN        NaN    NaT   \n",
       "46        NaN        8.0         NaN        NaN    NaT   \n",
       "13        NaN        5.0         NaN        NaN    NaT   \n",
       "49        NaN        5.0         NaN        NaN    NaT   \n",
       "51        NaN        8.0         NaN        NaN    NaT   \n",
       "7         NaN        7.0         NaN        NaN    NaT   \n",
       "33        NaN        1.0         NaN        NaN    NaT   \n",
       "\n",
       "    lead_generation_app_id year-month  created_time  \n",
       "32                     NaN    2020-09      11:28:12  \n",
       "46                     NaN    2020-09      11:54:39  \n",
       "13                     NaN    2020-09      13:07:16  \n",
       "49                     NaN    2020-09      13:07:38  \n",
       "51                     NaN    2020-09      15:30:37  \n",
       "7                      NaN    2020-09      17:16:51  \n",
       "33                     NaN    2020-09      17:17:38  \n",
       "\n",
       "[7 rows x 24 columns]"
      ]
     },
     "execution_count": 19,
     "metadata": {},
     "output_type": "execute_result"
    }
   ],
   "source": [
    "data1.head(7)"
   ]
  },
  {
   "cell_type": "code",
   "execution_count": 20,
   "id": "86dc0683",
   "metadata": {},
   "outputs": [
    {
     "data": {
      "text/html": [
       "<div>\n",
       "<style scoped>\n",
       "    .dataframe tbody tr th:only-of-type {\n",
       "        vertical-align: middle;\n",
       "    }\n",
       "\n",
       "    .dataframe tbody tr th {\n",
       "        vertical-align: top;\n",
       "    }\n",
       "\n",
       "    .dataframe thead th {\n",
       "        text-align: right;\n",
       "    }\n",
       "</style>\n",
       "<table border=\"1\" class=\"dataframe\">\n",
       "  <thead>\n",
       "    <tr style=\"text-align: right;\">\n",
       "      <th></th>\n",
       "      <th>email</th>\n",
       "      <th>id</th>\n",
       "      <th>fullname</th>\n",
       "      <th>course</th>\n",
       "      <th>language</th>\n",
       "      <th>utm_url</th>\n",
       "      <th>utm_medium</th>\n",
       "      <th>utm_campaign</th>\n",
       "      <th>country</th>\n",
       "      <th>created_at</th>\n",
       "      <th>...</th>\n",
       "      <th>tags</th>\n",
       "      <th>gclid</th>\n",
       "      <th>utm_source</th>\n",
       "      <th>academy_id</th>\n",
       "      <th>deal_status</th>\n",
       "      <th>ac_deal_id</th>\n",
       "      <th>won_at</th>\n",
       "      <th>lead_generation_app_id</th>\n",
       "      <th>year-month</th>\n",
       "      <th>created_time</th>\n",
       "    </tr>\n",
       "  </thead>\n",
       "  <tbody>\n",
       "    <tr>\n",
       "      <th>0</th>\n",
       "      <td>010.sergio@gmail.com</td>\n",
       "      <td>982</td>\n",
       "      <td>Sergio</td>\n",
       "      <td>software-engineering</td>\n",
       "      <td>es</td>\n",
       "      <td>https://4geeksacademy.co/es/course/ingenieria-...</td>\n",
       "      <td>None</td>\n",
       "      <td>None</td>\n",
       "      <td>Remoto</td>\n",
       "      <td>2020-11-05 22:43:38</td>\n",
       "      <td>...</td>\n",
       "      <td>request_more_info</td>\n",
       "      <td>Cj0KCQiA7qP9BRCLARIsABDaZzjSqM5HLJ_mnXJR0chAmh...</td>\n",
       "      <td>None</td>\n",
       "      <td>7.0</td>\n",
       "      <td>None</td>\n",
       "      <td>NaN</td>\n",
       "      <td>NaT</td>\n",
       "      <td>NaN</td>\n",
       "      <td>2020-11</td>\n",
       "      <td>22:43:38</td>\n",
       "    </tr>\n",
       "    <tr>\n",
       "      <th>1</th>\n",
       "      <td>02sergioconde@gmail.com</td>\n",
       "      <td>15671</td>\n",
       "      <td>Sergio</td>\n",
       "      <td>full-stack</td>\n",
       "      <td>en</td>\n",
       "      <td>https://4geeksacademy.com/es/aplica</td>\n",
       "      <td>cpc</td>\n",
       "      <td>12321016929</td>\n",
       "      <td>Spain</td>\n",
       "      <td>2021-11-02 01:19:40</td>\n",
       "      <td>...</td>\n",
       "      <td>website-lead</td>\n",
       "      <td>CjwKCAjwoP6LBhBlEiwAvCcthEg_m41UBa1VgX4neAax9f...</td>\n",
       "      <td>google</td>\n",
       "      <td>6.0</td>\n",
       "      <td>LOST</td>\n",
       "      <td>29045.0</td>\n",
       "      <td>NaT</td>\n",
       "      <td>NaN</td>\n",
       "      <td>2021-11</td>\n",
       "      <td>01:19:40</td>\n",
       "    </tr>\n",
       "    <tr>\n",
       "      <th>2</th>\n",
       "      <td>07.ebad@gmail.com</td>\n",
       "      <td>40414</td>\n",
       "      <td>Ebad Abid</td>\n",
       "      <td>full-stack</td>\n",
       "      <td>en</td>\n",
       "      <td>https://4geeksacademy.com/us/apply</td>\n",
       "      <td>None</td>\n",
       "      <td>None</td>\n",
       "      <td>France</td>\n",
       "      <td>2022-06-29 16:41:53</td>\n",
       "      <td>...</td>\n",
       "      <td>website-lead</td>\n",
       "      <td>None</td>\n",
       "      <td>None</td>\n",
       "      <td>4.0</td>\n",
       "      <td>None</td>\n",
       "      <td>57652.0</td>\n",
       "      <td>NaT</td>\n",
       "      <td>NaN</td>\n",
       "      <td>2022-06</td>\n",
       "      <td>16:41:53</td>\n",
       "    </tr>\n",
       "    <tr>\n",
       "      <th>3</th>\n",
       "      <td>0wenbartlet@gmail.com</td>\n",
       "      <td>17693</td>\n",
       "      <td>Owen bartlett</td>\n",
       "      <td>full-stack</td>\n",
       "      <td>en</td>\n",
       "      <td>https://4geeksacademy.com/us/coding-bootcamps/...</td>\n",
       "      <td>None</td>\n",
       "      <td>None</td>\n",
       "      <td>Mexico</td>\n",
       "      <td>2021-11-30 21:16:31</td>\n",
       "      <td>...</td>\n",
       "      <td>request_more_info</td>\n",
       "      <td>None</td>\n",
       "      <td>None</td>\n",
       "      <td>7.0</td>\n",
       "      <td>None</td>\n",
       "      <td>30652.0</td>\n",
       "      <td>NaT</td>\n",
       "      <td>NaN</td>\n",
       "      <td>2021-11</td>\n",
       "      <td>21:16:31</td>\n",
       "    </tr>\n",
       "    <tr>\n",
       "      <th>4</th>\n",
       "      <td>10903alm@gmail.com</td>\n",
       "      <td>11875</td>\n",
       "      <td>Alpheus Legoke Mokgalaka</td>\n",
       "      <td>machine-learning-engineering</td>\n",
       "      <td>us</td>\n",
       "      <td>https://4geeksacademy.com/us/landing/scholarsh...</td>\n",
       "      <td>None</td>\n",
       "      <td>None</td>\n",
       "      <td>France</td>\n",
       "      <td>2021-09-14 19:07:17</td>\n",
       "      <td>...</td>\n",
       "      <td>website-lead</td>\n",
       "      <td>None</td>\n",
       "      <td>landingjobs?utm_medium=machine-learning-engine...</td>\n",
       "      <td>10.0</td>\n",
       "      <td>LOST</td>\n",
       "      <td>25851.0</td>\n",
       "      <td>NaT</td>\n",
       "      <td>NaN</td>\n",
       "      <td>2021-09</td>\n",
       "      <td>19:07:17</td>\n",
       "    </tr>\n",
       "  </tbody>\n",
       "</table>\n",
       "<p>5 rows × 24 columns</p>\n",
       "</div>"
      ],
      "text/plain": [
       "                     email     id                   fullname  \\\n",
       "0     010.sergio@gmail.com    982                    Sergio    \n",
       "1  02sergioconde@gmail.com  15671                    Sergio    \n",
       "2        07.ebad@gmail.com  40414                 Ebad Abid    \n",
       "3    0wenbartlet@gmail.com  17693             Owen bartlett    \n",
       "4       10903alm@gmail.com  11875  Alpheus Legoke Mokgalaka    \n",
       "\n",
       "                         course language  \\\n",
       "0          software-engineering       es   \n",
       "1                    full-stack       en   \n",
       "2                    full-stack       en   \n",
       "3                    full-stack       en   \n",
       "4  machine-learning-engineering       us   \n",
       "\n",
       "                                             utm_url utm_medium utm_campaign  \\\n",
       "0  https://4geeksacademy.co/es/course/ingenieria-...       None         None   \n",
       "1                https://4geeksacademy.com/es/aplica        cpc  12321016929   \n",
       "2                 https://4geeksacademy.com/us/apply       None         None   \n",
       "3  https://4geeksacademy.com/us/coding-bootcamps/...       None         None   \n",
       "4  https://4geeksacademy.com/us/landing/scholarsh...       None         None   \n",
       "\n",
       "  country          created_at  ...               tags  \\\n",
       "0  Remoto 2020-11-05 22:43:38  ...  request_more_info   \n",
       "1   Spain 2021-11-02 01:19:40  ...       website-lead   \n",
       "2  France 2022-06-29 16:41:53  ...       website-lead   \n",
       "3  Mexico 2021-11-30 21:16:31  ...  request_more_info   \n",
       "4  France 2021-09-14 19:07:17  ...       website-lead   \n",
       "\n",
       "                                               gclid  \\\n",
       "0  Cj0KCQiA7qP9BRCLARIsABDaZzjSqM5HLJ_mnXJR0chAmh...   \n",
       "1  CjwKCAjwoP6LBhBlEiwAvCcthEg_m41UBa1VgX4neAax9f...   \n",
       "2                                               None   \n",
       "3                                               None   \n",
       "4                                               None   \n",
       "\n",
       "                                          utm_source academy_id deal_status  \\\n",
       "0                                               None        7.0        None   \n",
       "1                                             google        6.0        LOST   \n",
       "2                                               None        4.0        None   \n",
       "3                                               None        7.0        None   \n",
       "4  landingjobs?utm_medium=machine-learning-engine...       10.0        LOST   \n",
       "\n",
       "  ac_deal_id won_at  lead_generation_app_id year-month  created_time  \n",
       "0        NaN    NaT                     NaN    2020-11      22:43:38  \n",
       "1    29045.0    NaT                     NaN    2021-11      01:19:40  \n",
       "2    57652.0    NaT                     NaN    2022-06      16:41:53  \n",
       "3    30652.0    NaT                     NaN    2021-11      21:16:31  \n",
       "4    25851.0    NaT                     NaN    2021-09      19:07:17  \n",
       "\n",
       "[5 rows x 24 columns]"
      ]
     },
     "execution_count": 20,
     "metadata": {},
     "output_type": "execute_result"
    }
   ],
   "source": [
    "data1 = data1.groupby(\"email\").first().reset_index()\n",
    "data1.head()"
   ]
  },
  {
   "cell_type": "code",
   "execution_count": 21,
   "id": "144cdf69",
   "metadata": {},
   "outputs": [
    {
     "data": {
      "text/html": [
       "<div>\n",
       "<style scoped>\n",
       "    .dataframe tbody tr th:only-of-type {\n",
       "        vertical-align: middle;\n",
       "    }\n",
       "\n",
       "    .dataframe tbody tr th {\n",
       "        vertical-align: top;\n",
       "    }\n",
       "\n",
       "    .dataframe thead th {\n",
       "        text-align: right;\n",
       "    }\n",
       "</style>\n",
       "<table border=\"1\" class=\"dataframe\">\n",
       "  <thead>\n",
       "    <tr style=\"text-align: right;\">\n",
       "      <th></th>\n",
       "      <th>email</th>\n",
       "      <th>id</th>\n",
       "      <th>fullname</th>\n",
       "      <th>course</th>\n",
       "      <th>language</th>\n",
       "      <th>utm_url</th>\n",
       "      <th>utm_medium</th>\n",
       "      <th>utm_campaign</th>\n",
       "      <th>country</th>\n",
       "      <th>created_at</th>\n",
       "      <th>...</th>\n",
       "      <th>tags</th>\n",
       "      <th>gclid</th>\n",
       "      <th>utm_source</th>\n",
       "      <th>academy_id</th>\n",
       "      <th>deal_status</th>\n",
       "      <th>ac_deal_id</th>\n",
       "      <th>won_at</th>\n",
       "      <th>lead_generation_app_id</th>\n",
       "      <th>year-month</th>\n",
       "      <th>created_time</th>\n",
       "    </tr>\n",
       "  </thead>\n",
       "  <tbody>\n",
       "  </tbody>\n",
       "</table>\n",
       "<p>0 rows × 24 columns</p>\n",
       "</div>"
      ],
      "text/plain": [
       "Empty DataFrame\n",
       "Columns: [email, id, fullname, course, language, utm_url, utm_medium, utm_campaign, country, created_at, updated_at, lead_type, location, automations, tags, gclid, utm_source, academy_id, deal_status, ac_deal_id, won_at, lead_generation_app_id, year-month, created_time]\n",
       "Index: []\n",
       "\n",
       "[0 rows x 24 columns]"
      ]
     },
     "execution_count": 21,
     "metadata": {},
     "output_type": "execute_result"
    }
   ],
   "source": [
    "data1[data1['email']== 'afuenmayor@4geeks.co']"
   ]
  },
  {
   "cell_type": "markdown",
   "id": "021b735f",
   "metadata": {},
   "source": [
    "**Implementing the removal and combination of duplicates**"
   ]
  },
  {
   "cell_type": "code",
   "execution_count": 22,
   "id": "6cd9674b",
   "metadata": {},
   "outputs": [],
   "source": [
    "data = data.replace(\"Nan\", np.nan).copy()\n",
    "data = data.sort_values(\"created_at\").copy()\n",
    "data = data.groupby(\"email\").first().reset_index()"
   ]
  },
  {
   "cell_type": "code",
   "execution_count": 23,
   "id": "82c4b70f",
   "metadata": {},
   "outputs": [
    {
     "data": {
      "text/plain": [
       "(37006, 24)"
      ]
     },
     "execution_count": 23,
     "metadata": {},
     "output_type": "execute_result"
    }
   ],
   "source": [
    "data.shape"
   ]
  },
  {
   "cell_type": "markdown",
   "id": "e520dc3f",
   "metadata": {},
   "source": [
    "--------> **a way to discover where do utm_source strange labels belong to:** "
   ]
  },
  {
   "cell_type": "code",
   "execution_count": 24,
   "id": "9fbe10ad",
   "metadata": {},
   "outputs": [
    {
     "data": {
      "text/plain": [
       "1604    None\n",
       "Name: utm_medium, dtype: object"
      ]
     },
     "execution_count": 24,
     "metadata": {},
     "output_type": "execute_result"
    }
   ],
   "source": [
    "data[data['utm_source'] =='clubhouse']['utm_medium']"
   ]
  },
  {
   "cell_type": "markdown",
   "id": "94b08820",
   "metadata": {},
   "source": [
    "**--------> a way to discover where do utm_medium strange labels belong to:**"
   ]
  },
  {
   "cell_type": "code",
   "execution_count": 25,
   "id": "f1d2578c",
   "metadata": {},
   "outputs": [
    {
     "data": {
      "text/html": [
       "<div>\n",
       "<style scoped>\n",
       "    .dataframe tbody tr th:only-of-type {\n",
       "        vertical-align: middle;\n",
       "    }\n",
       "\n",
       "    .dataframe tbody tr th {\n",
       "        vertical-align: top;\n",
       "    }\n",
       "\n",
       "    .dataframe thead th {\n",
       "        text-align: right;\n",
       "    }\n",
       "</style>\n",
       "<table border=\"1\" class=\"dataframe\">\n",
       "  <thead>\n",
       "    <tr style=\"text-align: right;\">\n",
       "      <th></th>\n",
       "      <th>email</th>\n",
       "      <th>id</th>\n",
       "      <th>fullname</th>\n",
       "      <th>course</th>\n",
       "      <th>language</th>\n",
       "      <th>utm_url</th>\n",
       "      <th>utm_medium</th>\n",
       "      <th>utm_campaign</th>\n",
       "      <th>country</th>\n",
       "      <th>created_at</th>\n",
       "      <th>...</th>\n",
       "      <th>tags</th>\n",
       "      <th>gclid</th>\n",
       "      <th>utm_source</th>\n",
       "      <th>academy_id</th>\n",
       "      <th>deal_status</th>\n",
       "      <th>ac_deal_id</th>\n",
       "      <th>won_at</th>\n",
       "      <th>lead_generation_app_id</th>\n",
       "      <th>year-month</th>\n",
       "      <th>created_time</th>\n",
       "    </tr>\n",
       "  </thead>\n",
       "  <tbody>\n",
       "    <tr>\n",
       "      <th>1604</th>\n",
       "      <td>Zakaria.amine95@gmail.com</td>\n",
       "      <td>39526</td>\n",
       "      <td>Zakaria</td>\n",
       "      <td>full-stack</td>\n",
       "      <td>en</td>\n",
       "      <td>https://4geeksacademy.com/us/apply</td>\n",
       "      <td>None</td>\n",
       "      <td>None</td>\n",
       "      <td>France</td>\n",
       "      <td>2022-06-25 17:38:47</td>\n",
       "      <td>...</td>\n",
       "      <td>website-lead</td>\n",
       "      <td>None</td>\n",
       "      <td>clubhouse</td>\n",
       "      <td>10.0</td>\n",
       "      <td>None</td>\n",
       "      <td>56836.0</td>\n",
       "      <td>NaT</td>\n",
       "      <td>NaN</td>\n",
       "      <td>2022-06</td>\n",
       "      <td>17:38:47</td>\n",
       "    </tr>\n",
       "  </tbody>\n",
       "</table>\n",
       "<p>1 rows × 24 columns</p>\n",
       "</div>"
      ],
      "text/plain": [
       "                          email     id  fullname      course language  \\\n",
       "1604  Zakaria.amine95@gmail.com  39526  Zakaria   full-stack       en   \n",
       "\n",
       "                                 utm_url utm_medium utm_campaign country  \\\n",
       "1604  https://4geeksacademy.com/us/apply       None         None  France   \n",
       "\n",
       "              created_at  ...          tags gclid utm_source academy_id  \\\n",
       "1604 2022-06-25 17:38:47  ...  website-lead  None  clubhouse       10.0   \n",
       "\n",
       "     deal_status ac_deal_id won_at  lead_generation_app_id year-month  \\\n",
       "1604        None    56836.0    NaT                     NaN    2022-06   \n",
       "\n",
       "      created_time  \n",
       "1604      17:38:47  \n",
       "\n",
       "[1 rows x 24 columns]"
      ]
     },
     "execution_count": 25,
     "metadata": {},
     "output_type": "execute_result"
    }
   ],
   "source": [
    "data[data['utm_source'] =='clubhouse']"
   ]
  },
  {
   "cell_type": "markdown",
   "id": "220f772f",
   "metadata": {},
   "source": [
    "**Let's identify if a lead has gclid assigning 1 for True, and 0 for False.**"
   ]
  },
  {
   "cell_type": "code",
   "execution_count": 26,
   "id": "94cb1544",
   "metadata": {},
   "outputs": [],
   "source": [
    "data['has_gclid'] = np.where(data['gclid'].isnull(), '0', '1')"
   ]
  },
  {
   "cell_type": "code",
   "execution_count": 27,
   "id": "dfd6c48b",
   "metadata": {},
   "outputs": [
    {
     "data": {
      "text/plain": [
       "1    24172\n",
       "0    12834\n",
       "Name: has_gclid, dtype: int64"
      ]
     },
     "execution_count": 27,
     "metadata": {},
     "output_type": "execute_result"
    }
   ],
   "source": [
    "data['has_gclid'].value_counts()"
   ]
  },
  {
   "cell_type": "markdown",
   "id": "6a7757e5",
   "metadata": {},
   "source": [
    "**Fixing Courses**"
   ]
  },
  {
   "cell_type": "code",
   "execution_count": 28,
   "id": "2ba5b8b4",
   "metadata": {},
   "outputs": [
    {
     "data": {
      "text/plain": [
       "full-stack                      30725\n",
       "software-engineering             1834\n",
       "machine-learning-engineering     1694\n",
       "full-stack-ft                    1277\n",
       "machine-learning                   80\n",
       "node-js                            42\n",
       "full_stack                          9\n",
       "machine-learning-enginnering        2\n",
       "coding-introduction                 1\n",
       "Name: course, dtype: int64"
      ]
     },
     "execution_count": 28,
     "metadata": {},
     "output_type": "execute_result"
    }
   ],
   "source": [
    "data['course'].value_counts()"
   ]
  },
  {
   "cell_type": "code",
   "execution_count": 29,
   "id": "1f8a5944",
   "metadata": {},
   "outputs": [],
   "source": [
    "data['course'] = data['course'].replace(['full-stack-ft', 'full_stack', 'full-stack,software-engineering',\n",
    "                                         'coding-introduction','outcomes'], 'full-stack')"
   ]
  },
  {
   "cell_type": "code",
   "execution_count": 30,
   "id": "b5dd5b4b",
   "metadata": {},
   "outputs": [],
   "source": [
    "data['course'] = data['course'].replace(['machine-learning', 'machine-learning-enginnering'], \n",
    "                                        'machine-learning-engineering')"
   ]
  },
  {
   "cell_type": "code",
   "execution_count": 31,
   "id": "7e6d413d",
   "metadata": {},
   "outputs": [
    {
     "data": {
      "text/plain": [
       "full-stack                      32012\n",
       "software-engineering             1834\n",
       "machine-learning-engineering     1776\n",
       "node-js                            42\n",
       "Name: course, dtype: int64"
      ]
     },
     "execution_count": 31,
     "metadata": {},
     "output_type": "execute_result"
    }
   ],
   "source": [
    "data['course'].value_counts()"
   ]
  },
  {
   "cell_type": "markdown",
   "id": "de5e322c",
   "metadata": {},
   "source": [
    "**4. Location**\n",
    "\n",
    "Let's correct the 2 different typings in Maracaibo and Cortijos"
   ]
  },
  {
   "cell_type": "code",
   "execution_count": 32,
   "id": "9d1b79fd",
   "metadata": {},
   "outputs": [],
   "source": [
    "data['location'] = data['location'].replace(['maracaibo'], 'maracaibo-venezuela')"
   ]
  },
  {
   "cell_type": "code",
   "execution_count": 33,
   "id": "b25e328b",
   "metadata": {},
   "outputs": [],
   "source": [
    "data['location'] = data['location'].replace(['los-cortijos-caracas'], 'caracas-venezuela')"
   ]
  },
  {
   "cell_type": "code",
   "execution_count": 34,
   "id": "b9cd568b",
   "metadata": {},
   "outputs": [],
   "source": [
    "data['location'] = data['location'].replace(['lisboa-portugal'], 'lisbon-portugal')"
   ]
  },
  {
   "cell_type": "code",
   "execution_count": 35,
   "id": "751fb450",
   "metadata": {},
   "outputs": [
    {
     "data": {
      "text/plain": [
       "caracas-venezuela        6412\n",
       "santiago-chile           6044\n",
       "madrid-spain             5680\n",
       "downtown-miami           3699\n",
       "bogota-colombia          3148\n",
       "online                   3136\n",
       "costa-rica               2839\n",
       "europe                   2189\n",
       "buenosaires-argentina     958\n",
       "orlando                   939\n",
       "mexicocity-mexico         838\n",
       "quito-ecuador             255\n",
       "panamacity-panama         183\n",
       "montevideo-uruguay        183\n",
       "sanjose-uruguay           147\n",
       "toronto-canada             55\n",
       "barcelona-spain            51\n",
       "malaga-spain               31\n",
       "munich-germany             28\n",
       "berlin-germany             25\n",
       "valencia-spain             24\n",
       "lapaz-bolivia              23\n",
       "lima-peru                  21\n",
       "rome-italy                 14\n",
       "lisbon-portugal            12\n",
       "maracaibo-venezuela         6\n",
       "hamburg-germany             6\n",
       "dublin-ireland              3\n",
       "milan-italy                 2\n",
       "Name: location, dtype: int64"
      ]
     },
     "execution_count": 35,
     "metadata": {},
     "output_type": "execute_result"
    }
   ],
   "source": [
    "data['location'].value_counts()"
   ]
  },
  {
   "cell_type": "markdown",
   "id": "d84460e7",
   "metadata": {},
   "source": [
    "**Fixing Language**\n",
    "\n",
    "Consider 'us' language inside 'en' for english."
   ]
  },
  {
   "cell_type": "code",
   "execution_count": 36,
   "id": "ff35a0c0",
   "metadata": {},
   "outputs": [
    {
     "data": {
      "text/plain": [
       "en    17494\n",
       "es    14139\n",
       "us     5373\n",
       "Name: language, dtype: int64"
      ]
     },
     "execution_count": 36,
     "metadata": {},
     "output_type": "execute_result"
    }
   ],
   "source": [
    "data['language'].value_counts()"
   ]
  },
  {
   "cell_type": "code",
   "execution_count": 37,
   "id": "1ec9a6da",
   "metadata": {},
   "outputs": [],
   "source": [
    "data['language'] = data['language'].replace('us', 'en')"
   ]
  },
  {
   "cell_type": "code",
   "execution_count": 38,
   "id": "0b8631c5",
   "metadata": {},
   "outputs": [
    {
     "data": {
      "text/plain": [
       "en    22867\n",
       "es    14139\n",
       "Name: language, dtype: int64"
      ]
     },
     "execution_count": 38,
     "metadata": {},
     "output_type": "execute_result"
    }
   ],
   "source": [
    "data['language'].value_counts()"
   ]
  },
  {
   "cell_type": "markdown",
   "id": "3d7785d3",
   "metadata": {},
   "source": [
    "**Fixing Academy_id**"
   ]
  },
  {
   "cell_type": "code",
   "execution_count": 39,
   "id": "dd347c49",
   "metadata": {},
   "outputs": [],
   "source": [
    "data['academy_id'] = np.where((data['location'] == 'maracaibo-venezuela'),\n",
    "                                2.0, data['academy_id'])\n",
    "data['academy_id'] = np.where((data['location'] == 'toronto-canada'),\n",
    "                                4.0, data['academy_id'])\n",
    "data['academy_id'] = np.where((data['location'] == 'costa-rica') |\n",
    "                                (data['location'] == 'sanjose-uruguay'),\n",
    "                                7.0, data['academy_id'])"
   ]
  },
  {
   "cell_type": "markdown",
   "id": "90adb22b",
   "metadata": {},
   "source": [
    "**Fixing utm_source**"
   ]
  },
  {
   "cell_type": "code",
   "execution_count": 40,
   "id": "2576aa44",
   "metadata": {},
   "outputs": [
    {
     "data": {
      "text/plain": [
       "google                                                 7282\n",
       "instagram                                              2468\n",
       "facebook                                               2203\n",
       "ig                                                     1803\n",
       "fb                                                     1581\n",
       "careerkarma                                            1423\n",
       "landingjobs?utm_medium=machine-learning-engineering     538\n",
       "coursereport                                            209\n",
       "Facebook ads                                            131\n",
       "aprendemas                                              123\n",
       "landingjobs?utm_medium=full-stack                       115\n",
       "zoho_recruite                                            81\n",
       "Facebook                                                 71\n",
       "facebook_instagram                                       55\n",
       "bing                                                     48\n",
       "ActiveCampaign                                           45\n",
       "landingjobs?utm_medium=RRSS                              29\n",
       "4geeks                                                   22\n",
       "ticjob                                                   18\n",
       "facebook_awareness                                       17\n",
       "PR?utm_medium=nota-prensa-1                              15\n",
       "Instagram_Feed                                           13\n",
       "linkedin                                                  8\n",
       "python-es                                                 7\n",
       "Facebook_Mobile_Feed                                      7\n",
       "qsd.com                                                   6\n",
       "Facebook_Stories                                          4\n",
       "bootcamprankings                                          4\n",
       "hs_email                                                  3\n",
       "hired                                                     3\n",
       "Instagram_Stories                                         3\n",
       "cpc                                                       3\n",
       "google_ads                                                2\n",
       "educaedu                                                  2\n",
       "educaweb                                                  2\n",
       "Business Manager IG                                       2\n",
       "23848655532190143                                         1\n",
       "g                                                         1\n",
       "women-who-code                                            1\n",
       "23850705303260143                                         1\n",
       "Facebook_Marketplace                                      1\n",
       "CourseReport                                              1\n",
       "23850859670310143                                         1\n",
       "an                                                        1\n",
       "techhub                                                   1\n",
       "23848557212380143                                         1\n",
       "youtube                                                   1\n",
       "23849317251630143                                         1\n",
       "LInkedin                                                  1\n",
       "clubhouse                                                 1\n",
       "Facebook_Desktop_Feed                                     1\n",
       "Name: utm_source, dtype: int64"
      ]
     },
     "execution_count": 40,
     "metadata": {},
     "output_type": "execute_result"
    }
   ],
   "source": [
    "data['utm_source'].value_counts()"
   ]
  },
  {
   "cell_type": "code",
   "execution_count": 41,
   "id": "a72609cf",
   "metadata": {},
   "outputs": [
    {
     "data": {
      "text/plain": [
       "utm_source                                           utm_medium                                    \n",
       "23848557212380143                                    Instagram_Stories                                    1\n",
       "23848655532190143                                    Facebook_Mobile_Feed                                 1\n",
       "23849317251630143                                    Instagram_Feed                                       1\n",
       "23850705303260143                                    Facebook_Mobile_Feed                                 1\n",
       "23850859670310143                                    Facebook_Mobile_Feed                                 1\n",
       "4geeks                                               rrss                                                22\n",
       "ActiveCampaign                                       email                                               45\n",
       "Business Manager IG                                  lead gen                                             2\n",
       "CourseReport                                         Blog                                                 1\n",
       "Facebook                                             FB paid                                             30\n",
       "                                                     cpc                                                 41\n",
       "Facebook ads                                         cpc                                                131\n",
       "Facebook_Marketplace                                 23849757712110143                                    1\n",
       "Facebook_Mobile_Feed                                 23849575173750143                                    2\n",
       "                                                     23849757712110143                                    1\n",
       "Instagram_Feed                                       23849575173750143                                    4\n",
       "                                                     23849757712110143                                    1\n",
       "                                                     Instagram_Feed                                       1\n",
       "                                                     ML + AI                                              2\n",
       "                                                     ML + AI v2 - 3rd time (Mar, lookalike NYC, NJ)       2\n",
       "Instagram_Stories                                    Instagram_Stories                                    1\n",
       "LInkedin                                             Inmail                                               1\n",
       "PR?utm_medium=nota-prensa-1                          cpc                                                  1\n",
       "an                                                   ppc                                                  1\n",
       "aprendemas                                           referral                                           123\n",
       "bing                                                 cpc                                                 48\n",
       "bootcamprankings                                     schoolpage                                           4\n",
       "careerkarma                                          referral                                          1393\n",
       "                                                     schoolpage                                           9\n",
       "                                                     schoolpage?utm_source=careerkarma                   12\n",
       "coursereport                                         affiliate_email                                      1\n",
       "                                                     coursereportschoolpage                             208\n",
       "cpc                                                  Facebook_Mobile_Feed                                 3\n",
       "educaedu                                             referral                                             2\n",
       "educaweb                                             referral                                             2\n",
       "facebook                                             cpc                                               2198\n",
       "facebook_instagram                                   cpc                                                 55\n",
       "fb                                                   ppc                                               1581\n",
       "g                                                    ppc                                                  1\n",
       "google                                               cpc                                               7280\n",
       "                                                     referral                                             2\n",
       "google_ads                                           ppc                                                  2\n",
       "hired                                                referral                                             3\n",
       "hs_email                                             email                                                3\n",
       "ig                                                   ppc                                               1803\n",
       "instagram                                            cpc                                                 42\n",
       "                                                     ppc                                               2426\n",
       "landingjobs?utm_medium=machine-learning-engineering  cpc                                                  4\n",
       "linkedin                                             ppc                                                  3\n",
       "                                                     social                                               3\n",
       "qsd.com                                              inscripcion                                          6\n",
       "techhub                                              event                                                1\n",
       "ticjob                                               referral                                            18\n",
       "youtube                                              organic                                              1\n",
       "zoho_recruite                                        ppc                                                 81\n",
       "dtype: int64"
      ]
     },
     "execution_count": 41,
     "metadata": {},
     "output_type": "execute_result"
    }
   ],
   "source": [
    "#Before making any changes, we should make sure where do those long numbers belong to: instagram or facebook?\n",
    "\n",
    "pd.options.display.max_rows = 200\n",
    "data.groupby(['utm_source','utm_medium']).size()"
   ]
  },
  {
   "cell_type": "markdown",
   "id": "f5e0422d",
   "metadata": {},
   "source": [
    "**First Conditional assignations**"
   ]
  },
  {
   "cell_type": "code",
   "execution_count": 42,
   "id": "2cd50315",
   "metadata": {},
   "outputs": [],
   "source": [
    "data['utm_medium'] = np.where((data['utm_source'] == 'Facebook ads') |\n",
    "                                (data['utm_source'] == 'Facebook_Marketplace') |\n",
    "                                (data['utm_source'] == 'Facebook_Mobile_Feed') |\n",
    "                                (data['utm_source'] == 'facebook_awareness') |\n",
    "                                (data['utm_source'] == 'Facebook_Stories') |\n",
    "                                (data['utm_source'] == 'Facebook_Desktop_Feed') |\n",
    "                                (data['utm_source'] == 'Business Manager IG') |\n",
    "                                (data['utm_source'] == 'Instagram_Feed') |\n",
    "                                (data['utm_source'] == 'Instagram_Stories'),\n",
    "                                'cpc', data['utm_medium'])\n",
    "\n",
    "data['utm_source'] = np.where((data['utm_medium'] == 'Instagram_Stories') |\n",
    "                                (data['utm_medium'] == 'Instagram_Feed'),\n",
    "                                'instagram', data['utm_source'])\n",
    "\n",
    "data['utm_source'] = np.where((data['utm_medium'] == 'Facebook_Mobile_Feed'),\n",
    "                                'facebook', data['utm_source'])"
   ]
  },
  {
   "cell_type": "markdown",
   "id": "12af19bd",
   "metadata": {},
   "source": [
    "**Fixing utm_source spelling**"
   ]
  },
  {
   "cell_type": "code",
   "execution_count": 43,
   "id": "e6dcf890",
   "metadata": {},
   "outputs": [],
   "source": [
    "#Fixing spelling of sources in utm_source\n",
    "\n",
    "data['utm_source'] = data['utm_source'].replace('LInkedin', 'linkedin')\n",
    "data['utm_source'] = data['utm_source'].replace('CourseReport', 'coursereport')\n",
    "data['utm_source'] = data['utm_source'].replace(['landingjobs?utm_medium=machine-learning-engineering',\n",
    "                                            'landingjobs?utm_medium=full-stack', 'landingjobs?utm_medium=RRSS'],\n",
    "                                            'landingjobs')\n",
    "data['utm_source'] = data['utm_source'].replace('google_ads', 'google')\n",
    "data['utm_source'] = data['utm_source'].replace(['Business Manager IG', 'Instagram_Feed', 'ig', 'Instagram_Stories'], 'instagram')\n",
    "data['utm_source'] = data['utm_source'].replace(['Facebook', 'Facebook ads', 'Facebook_Marketplace', 'Facebook_Mobile_Feed',\n",
    "                                            'facebook_instagram', 'fb', 'an', 'facebook_awareness', 'Facebook_Stories',\n",
    "                                            'Facebook_Desktop_Feed'], 'facebook')\n",
    "data['utm_source'] = data['utm_source'].replace('4geeks', 'ticjob')"
   ]
  },
  {
   "cell_type": "code",
   "execution_count": 44,
   "id": "6656225d",
   "metadata": {},
   "outputs": [
    {
     "data": {
      "text/plain": [
       "google                         7284\n",
       "instagram                      4293\n",
       "facebook                       4080\n",
       "careerkarma                    1423\n",
       "landingjobs                     682\n",
       "coursereport                    210\n",
       "aprendemas                      123\n",
       "zoho_recruite                    81\n",
       "bing                             48\n",
       "ActiveCampaign                   45\n",
       "ticjob                           40\n",
       "PR?utm_medium=nota-prensa-1      15\n",
       "linkedin                          9\n",
       "python-es                         7\n",
       "qsd.com                           6\n",
       "bootcamprankings                  4\n",
       "hired                             3\n",
       "hs_email                          3\n",
       "educaedu                          2\n",
       "educaweb                          2\n",
       "clubhouse                         1\n",
       "youtube                           1\n",
       "techhub                           1\n",
       "women-who-code                    1\n",
       "g                                 1\n",
       "Name: utm_source, dtype: int64"
      ]
     },
     "execution_count": 44,
     "metadata": {},
     "output_type": "execute_result"
    }
   ],
   "source": [
    "data['utm_source'].value_counts()"
   ]
  },
  {
   "cell_type": "markdown",
   "id": "fd2a0550",
   "metadata": {},
   "source": [
    "**8. Fixing utm_medium:** \n",
    "\n",
    "Assing 'referral' to all schoolpage values.\n",
    "    \n",
    "Assign referral to all landingjob utm_source.\n",
    "    \n",
    "Verify with gclid if a medium should be cpc or not.\n",
    "    \n",
    "Join cpc with ppc.\n"
   ]
  },
  {
   "cell_type": "code",
   "execution_count": 45,
   "id": "68adb551",
   "metadata": {},
   "outputs": [
    {
     "data": {
      "text/plain": [
       "utm_source                   utm_medium                         has_gclid\n",
       "ActiveCampaign               email                              0              39\n",
       "                                                                1               6\n",
       "PR?utm_medium=nota-prensa-1  cpc                                1               1\n",
       "aprendemas                   referral                           0             120\n",
       "                                                                1               3\n",
       "bing                         cpc                                0              48\n",
       "bootcamprankings             schoolpage                         0               3\n",
       "                                                                1               1\n",
       "careerkarma                  referral                           1            1393\n",
       "                             schoolpage                         0               9\n",
       "                             schoolpage?utm_source=careerkarma  0              12\n",
       "coursereport                 Blog                               0               1\n",
       "                             affiliate_email                    0               1\n",
       "                             coursereportschoolpage             0             198\n",
       "                                                                1              10\n",
       "educaedu                     referral                           0               2\n",
       "educaweb                     referral                           0               1\n",
       "                                                                1               1\n",
       "facebook                     FB paid                            1              30\n",
       "                             Facebook_Mobile_Feed               0               4\n",
       "                                                                1               4\n",
       "                             cpc                                0              92\n",
       "                                                                1            2363\n",
       "                             ppc                                1            1582\n",
       "g                            ppc                                1               1\n",
       "google                       cpc                                0             179\n",
       "                                                                1            7101\n",
       "                             ppc                                1               2\n",
       "                             referral                           1               2\n",
       "hired                        referral                           0               3\n",
       "hs_email                     email                              0               2\n",
       "                                                                1               1\n",
       "instagram                    Instagram_Feed                     0               1\n",
       "                                                                1               1\n",
       "                             Instagram_Stories                  0               1\n",
       "                                                                1               1\n",
       "                             cpc                                0               7\n",
       "                                                                1              53\n",
       "                             ppc                                1            4229\n",
       "landingjobs                  cpc                                1               4\n",
       "linkedin                     Inmail                             0               1\n",
       "                             ppc                                1               3\n",
       "                             social                             0               3\n",
       "qsd.com                      inscripcion                        0               6\n",
       "techhub                      event                              0               1\n",
       "ticjob                       referral                           0              16\n",
       "                                                                1               2\n",
       "                             rrss                               0              20\n",
       "                                                                1               2\n",
       "youtube                      organic                            0               1\n",
       "zoho_recruite                ppc                                1              81\n",
       "dtype: int64"
      ]
     },
     "execution_count": 45,
     "metadata": {},
     "output_type": "execute_result"
    }
   ],
   "source": [
    "data.groupby(['utm_source','utm_medium','has_gclid']).size()"
   ]
  },
  {
   "cell_type": "code",
   "execution_count": 46,
   "id": "0b5d2291",
   "metadata": {},
   "outputs": [
    {
     "data": {
      "text/plain": [
       "cpc                                  9954\n",
       "ppc                                  5903\n",
       "referral                             1633\n",
       "coursereportschoolpage                217\n",
       "email                                  54\n",
       "FB paid                                30\n",
       "rrss                                   22\n",
       "schoolpage                             15\n",
       "schoolpage?utm_source=careerkarma      12\n",
       "Facebook_Mobile_Feed                    8\n",
       "inscripcion                             6\n",
       "social                                  3\n",
       "Instagram_Feed                          2\n",
       "Instagram_Stories                       2\n",
       "Inmail                                  1\n",
       "organic                                 1\n",
       "event                                   1\n",
       "affiliate_email                         1\n",
       "Blog                                    1\n",
       "Name: utm_medium, dtype: int64"
      ]
     },
     "execution_count": 46,
     "metadata": {},
     "output_type": "execute_result"
    }
   ],
   "source": [
    "data['utm_medium'].value_counts()"
   ]
  },
  {
   "cell_type": "code",
   "execution_count": 47,
   "id": "f81e267d",
   "metadata": {},
   "outputs": [],
   "source": [
    "#Making assignations to referral and cpc\n",
    "\n",
    "data['utm_medium'] = data['utm_medium'].replace(['schoolpage', 'coursereportschoolpage', 'schoolpage?utm_source=careerkarma',\n",
    "                                    'Blog', 'affiliate_email', 'rrss', 'inscripcion', 'event'], 'referral')\n",
    "data['utm_medium'] = data['utm_medium'].replace(['ppc', 'FB paid', 'Facebook_Mobile_Feed', 'Instagram_Stories', 'Instagram_Feed'],\n",
    "                                    'cpc')\n",
    "data['utm_medium'] = np.where((data['utm_source'] == 'linkedin') & (data['utm_medium'] == 'social'),\n",
    "                          'cpc', data['utm_medium'])\n",
    "\n",
    "data['utm_medium'] = np.where((data['utm_source'] == 'linkedin') & (data['utm_medium'] == 'Inmail'),\n",
    "                          'cpc', data['utm_medium'])\n",
    "\n",
    "data['utm_medium'] = np.where((data['utm_source'] == 'landingjobs'),\n",
    "                                'referral', data['utm_medium'])\n",
    "\n",
    "data['utm_medium'] = np.where((data['utm_source'] == 'careerkarma') & (data['utm_medium'].isnull() == True), \n",
    "                          'referral', data['utm_medium'])\n",
    "\n",
    "data['utm_medium'] = np.where((data['utm_source'] == 'facebook') & (data['utm_medium'].isnull() == True),\n",
    "                          'cpc', data['utm_medium'])\n",
    "\n",
    "data['utm_medium'] = np.where((data['utm_source'] == 'zoho_recruite') & (data['utm_medium'] == 'cpc'),\n",
    "                          'referral', data['utm_medium'])"
   ]
  },
  {
   "cell_type": "code",
   "execution_count": 48,
   "id": "2ad8227d",
   "metadata": {},
   "outputs": [],
   "source": [
    "# change name of null medium\n",
    "\n",
    "data['utm_medium'] = np.where((data['utm_source'].isnull() == True) & (data['utm_medium'].isnull() == True),\n",
    "                                'undefined & organic', data['utm_medium'])\n",
    "\n",
    "# change name of null source\n",
    "\n",
    "data['utm_source'] = np.where((data['utm_medium'] == 'undefined & organic'),\n",
    "                                'undefined', data['utm_source'])\n"
   ]
  },
  {
   "cell_type": "code",
   "execution_count": 49,
   "id": "5d431118",
   "metadata": {},
   "outputs": [
    {
     "data": {
      "text/plain": [
       "undefined & organic    18423\n",
       "cpc                    15823\n",
       "referral                2680\n",
       "email                     54\n",
       "organic                    1\n",
       "Name: utm_medium, dtype: int64"
      ]
     },
     "execution_count": 49,
     "metadata": {},
     "output_type": "execute_result"
    }
   ],
   "source": [
    "data['utm_medium'].value_counts()"
   ]
  },
  {
   "cell_type": "markdown",
   "id": "778e0161",
   "metadata": {},
   "source": [
    "**Assign lead_types depending on the tags.**"
   ]
  },
  {
   "cell_type": "code",
   "execution_count": 50,
   "id": "2b3379e4",
   "metadata": {},
   "outputs": [
    {
     "data": {
      "text/plain": [
       "request_more_info                    21956\n",
       "website-lead                         13743\n",
       "newsletter                             598\n",
       "contact-us                             242\n",
       "utec-uruguay                           147\n",
       "request_downloadable                   120\n",
       "hiring-partner                          82\n",
       "jobboard-lead                           80\n",
       "website-lead,blacks-in-technology       20\n",
       "download_outcome                        15\n",
       "Name: tags, dtype: int64"
      ]
     },
     "execution_count": 50,
     "metadata": {},
     "output_type": "execute_result"
    }
   ],
   "source": [
    "data['tags'].value_counts()"
   ]
  },
  {
   "cell_type": "code",
   "execution_count": 51,
   "id": "b741fb2e",
   "metadata": {},
   "outputs": [],
   "source": [
    "data.loc[data['tags'] == 'request_more_info', 'lead_type'] = 'SOFT'\n",
    "data.loc[data['tags'] == 'website-lead', 'lead_type'] = 'STRONG'\n",
    "data.loc[data['tags'] == 'newsletter', 'lead_type'] = 'DISCOVERY'\n",
    "data.loc[data['tags'] == 'contact-us', 'lead_type'] = 'SOFT'\n",
    "data.loc[data['tags'] == 'utec-uruguay', 'lead_type'] = 'STRONG'\n",
    "data.loc[data['tags'] == 'jobboard-lead', 'lead_type'] = 'STRONG'\n",
    "data.loc[data['tags'] == 'hiring-partner', 'lead_type'] = 'OTHER'\n",
    "data.loc[data['tags'] == 'download_outcome', 'lead_type'] = 'DISCOVERY'\n",
    "data.loc[data['tags'] == 'website-lead,blacks-in-technology', 'lead_type'] = 'STRONG'\n",
    "data.loc[data['tags'] == 'request_downloadable', 'lead_type'] = 'DISCOVERY'"
   ]
  },
  {
   "cell_type": "code",
   "execution_count": 52,
   "id": "9a2e0e93",
   "metadata": {},
   "outputs": [
    {
     "data": {
      "text/plain": [
       "SOFT         22198\n",
       "STRONG       13991\n",
       "DISCOVERY      733\n",
       "OTHER           82\n",
       "Name: lead_type, dtype: int64"
      ]
     },
     "execution_count": 52,
     "metadata": {},
     "output_type": "execute_result"
    }
   ],
   "source": [
    "data['lead_type'].value_counts()"
   ]
  },
  {
   "cell_type": "markdown",
   "id": "eeee150b",
   "metadata": {},
   "source": [
    "**Creating new column to determine location integrity**"
   ]
  },
  {
   "cell_type": "code",
   "execution_count": 53,
   "id": "a182dce9",
   "metadata": {},
   "outputs": [
    {
     "data": {
      "text/plain": [
       "caracas-venezuela        6412\n",
       "santiago-chile           6044\n",
       "madrid-spain             5680\n",
       "downtown-miami           3699\n",
       "bogota-colombia          3148\n",
       "online                   3136\n",
       "costa-rica               2839\n",
       "europe                   2189\n",
       "buenosaires-argentina     958\n",
       "orlando                   939\n",
       "mexicocity-mexico         838\n",
       "quito-ecuador             255\n",
       "panamacity-panama         183\n",
       "montevideo-uruguay        183\n",
       "sanjose-uruguay           147\n",
       "toronto-canada             55\n",
       "barcelona-spain            51\n",
       "malaga-spain               31\n",
       "munich-germany             28\n",
       "berlin-germany             25\n",
       "valencia-spain             24\n",
       "lapaz-bolivia              23\n",
       "lima-peru                  21\n",
       "rome-italy                 14\n",
       "lisbon-portugal            12\n",
       "maracaibo-venezuela         6\n",
       "hamburg-germany             6\n",
       "dublin-ireland              3\n",
       "milan-italy                 2\n",
       "Name: location, dtype: int64"
      ]
     },
     "execution_count": 53,
     "metadata": {},
     "output_type": "execute_result"
    }
   ],
   "source": [
    "data['location'].value_counts()"
   ]
  },
  {
   "cell_type": "code",
   "execution_count": 54,
   "id": "f99c74ce",
   "metadata": {},
   "outputs": [],
   "source": [
    "LATAM_COUNTRIES = ['Argentina','Bolivia','Brazil','Chile','Colombia','Ecuador','Paraguay','Peru','Uruguay','Venezuela','Belize',\n",
    "                    'Costa Rica','Cuba','Dominican Republic','El Salvador','Guatemala','Haiti','Honduras','Jamaica','Mexico','Nicaragua',\n",
    "                    'Panama','Saint Lucia','Antigua and Barbuda','Guyana','Suriname','Saint Kitts & Nevis','Bahamas','Barbados',\n",
    "                    'Trinidad and Tobago','Grenada','St. Vincent & Grenadines','Dominica']\n",
    "\n",
    "LATAM_LOCATIONS = ['caracas-venezuela','santiago-chile','bogota-colombia','online','costa-rica','buenosaires-argentina','mexicocity-mexico',\n",
    "                    'quito-ecuador','panamacity-panama','montevideo-uruguay','sanjose-uruguay','lapaz-bolivia','lima-peru',\n",
    "                    'maracaibo-venezuela']\n",
    "\n",
    "EUROPE_COUNTRIES = ['Hungary','Belarus','Austria','Serbia','Switzerland','Germany','Holy See','Andorra','Bulgaria','United Kingdom',\n",
    "                    'France','Montenegro','Luxembourg','Italy','Denmark','Finland','Slovakia','Norway','Ireland','Spain','Malta',\n",
    "                    'Ukraine','Croatia','Moldova','Monaco','Liechtenstein','Poland','Iceland','San Marino','Bosnia and Herzegovina',\n",
    "                    'Albania','Lithuania','North Macedonia','Slovenia','Romania','Latvia','Netherlands','Russia','Estonia','Belgium',\n",
    "                    'Czech Republic','Greece','Portugal','Sweeden']\n",
    "\n",
    "EUROPE_LOCATIONS = ['madrid-spain','europe','barcelona-spain','malaga-spain','munich-germany','berlin-germany','valencia-spain',\n",
    "                    'rome-italy','lisbon-portugal','maracaibo-venezuela','hamburg-germany','dublin-ireland','milan-italy','europe']"
   ]
  },
  {
   "cell_type": "code",
   "execution_count": 64,
   "id": "f0853382",
   "metadata": {},
   "outputs": [],
   "source": [
    "data['country'] = data['country'].str.lower()\n",
    "LATAM_COUNTRIES = list(map(str.lower,LATAM_COUNTRIES))\n",
    "EUROPE_COUNTRIES = list(map(str.lower,EUROPE_COUNTRIES))"
   ]
  },
  {
   "cell_type": "code",
   "execution_count": 88,
   "id": "c6c03667",
   "metadata": {},
   "outputs": [],
   "source": [
    "correct_location = []\n",
    "\n",
    "for row in data.itertuples(index=False):\n",
    "    if str(row.country) in str(row.location):    \n",
    "        correct_location.append(row.location)\n",
    "    elif str(row.country) == 'united states':    \n",
    "        correct_location.append('downtown-miami')\n",
    "    elif str(row.country) == 'costa rica':    \n",
    "        correct_location.append('costa-rica')\n",
    "    elif str(row.country) in LATAM_COUNTRIES: \n",
    "        correct_location.append('online')\n",
    "    elif str(row.country) in EUROPE_COUNTRIES:  \n",
    "        correct_location.append('europe')        \n",
    "    else:           \n",
    "        correct_location.append('No location assigned')"
   ]
  },
  {
   "cell_type": "code",
   "execution_count": 89,
   "id": "8602cd4b",
   "metadata": {},
   "outputs": [],
   "source": [
    "data['correct_location'] = correct_location"
   ]
  },
  {
   "cell_type": "code",
   "execution_count": 92,
   "id": "f9e34008",
   "metadata": {},
   "outputs": [
    {
     "data": {
      "text/html": [
       "<div>\n",
       "<style scoped>\n",
       "    .dataframe tbody tr th:only-of-type {\n",
       "        vertical-align: middle;\n",
       "    }\n",
       "\n",
       "    .dataframe tbody tr th {\n",
       "        vertical-align: top;\n",
       "    }\n",
       "\n",
       "    .dataframe thead th {\n",
       "        text-align: right;\n",
       "    }\n",
       "</style>\n",
       "<table border=\"1\" class=\"dataframe\">\n",
       "  <thead>\n",
       "    <tr style=\"text-align: right;\">\n",
       "      <th></th>\n",
       "      <th>email</th>\n",
       "      <th>id</th>\n",
       "      <th>fullname</th>\n",
       "      <th>course</th>\n",
       "      <th>language</th>\n",
       "      <th>utm_url</th>\n",
       "      <th>utm_medium</th>\n",
       "      <th>utm_campaign</th>\n",
       "      <th>country</th>\n",
       "      <th>created_at</th>\n",
       "      <th>...</th>\n",
       "      <th>utm_source</th>\n",
       "      <th>academy_id</th>\n",
       "      <th>deal_status</th>\n",
       "      <th>ac_deal_id</th>\n",
       "      <th>won_at</th>\n",
       "      <th>lead_generation_app_id</th>\n",
       "      <th>year-month</th>\n",
       "      <th>created_time</th>\n",
       "      <th>has_gclid</th>\n",
       "      <th>correct_location</th>\n",
       "    </tr>\n",
       "  </thead>\n",
       "  <tbody>\n",
       "    <tr>\n",
       "      <th>36996</th>\n",
       "      <td>zumanzuesaubrey29@gmail.com</td>\n",
       "      <td>34506</td>\n",
       "      <td>Aubrey Stephenson</td>\n",
       "      <td>full-stack</td>\n",
       "      <td>en</td>\n",
       "      <td>careerkarma.com</td>\n",
       "      <td>referral</td>\n",
       "      <td>13665858441</td>\n",
       "      <td>united states</td>\n",
       "      <td>2022-05-17 14:52:29</td>\n",
       "      <td>...</td>\n",
       "      <td>careerkarma</td>\n",
       "      <td>4.0</td>\n",
       "      <td>LOST</td>\n",
       "      <td>52727.0</td>\n",
       "      <td>NaT</td>\n",
       "      <td>3.0</td>\n",
       "      <td>2022-05</td>\n",
       "      <td>14:52:29</td>\n",
       "      <td>1</td>\n",
       "      <td>downtown-miami</td>\n",
       "    </tr>\n",
       "    <tr>\n",
       "      <th>36997</th>\n",
       "      <td>zunigalargachajhonbreyner@gmail.com</td>\n",
       "      <td>30255</td>\n",
       "      <td>Jhon breiner Zúñiga largacha</td>\n",
       "      <td>full-stack</td>\n",
       "      <td>es</td>\n",
       "      <td>https://4geeksacademy.com/es/landing/bootcamp-...</td>\n",
       "      <td>undefined &amp; organic</td>\n",
       "      <td>None</td>\n",
       "      <td>chile</td>\n",
       "      <td>2022-04-07 16:21:32</td>\n",
       "      <td>...</td>\n",
       "      <td>undefined</td>\n",
       "      <td>5.0</td>\n",
       "      <td>LOST</td>\n",
       "      <td>49127.0</td>\n",
       "      <td>NaT</td>\n",
       "      <td>NaN</td>\n",
       "      <td>2022-04</td>\n",
       "      <td>16:21:32</td>\n",
       "      <td>1</td>\n",
       "      <td>santiago-chile</td>\n",
       "    </tr>\n",
       "    <tr>\n",
       "      <th>36998</th>\n",
       "      <td>zunigasm.ariel@gmail.com</td>\n",
       "      <td>9558</td>\n",
       "      <td>Ariel Zúñiga</td>\n",
       "      <td>software-engineering</td>\n",
       "      <td>en</td>\n",
       "      <td>https://4geeksacademy.com/es/coding-bootcamps/...</td>\n",
       "      <td>undefined &amp; organic</td>\n",
       "      <td>None</td>\n",
       "      <td>chile</td>\n",
       "      <td>2021-08-03 16:02:21</td>\n",
       "      <td>...</td>\n",
       "      <td>undefined</td>\n",
       "      <td>5.0</td>\n",
       "      <td>None</td>\n",
       "      <td>23935.0</td>\n",
       "      <td>NaT</td>\n",
       "      <td>NaN</td>\n",
       "      <td>2021-08</td>\n",
       "      <td>16:02:21</td>\n",
       "      <td>1</td>\n",
       "      <td>santiago-chile</td>\n",
       "    </tr>\n",
       "    <tr>\n",
       "      <th>36999</th>\n",
       "      <td>zunigen.serv@gmail.com</td>\n",
       "      <td>44521</td>\n",
       "      <td>Carmen Guerra</td>\n",
       "      <td>full-stack</td>\n",
       "      <td>en</td>\n",
       "      <td>https://4geeksacademy.com/es/coding-bootcamps/...</td>\n",
       "      <td>cpc</td>\n",
       "      <td>13881753802</td>\n",
       "      <td>venezuela</td>\n",
       "      <td>2022-08-04 18:55:19</td>\n",
       "      <td>...</td>\n",
       "      <td>google</td>\n",
       "      <td>2.0</td>\n",
       "      <td>None</td>\n",
       "      <td>61115.0</td>\n",
       "      <td>NaT</td>\n",
       "      <td>NaN</td>\n",
       "      <td>2022-08</td>\n",
       "      <td>18:55:19</td>\n",
       "      <td>1</td>\n",
       "      <td>caracas-venezuela</td>\n",
       "    </tr>\n",
       "    <tr>\n",
       "      <th>37000</th>\n",
       "      <td>zuotianyesterday@gmail.com</td>\n",
       "      <td>43496</td>\n",
       "      <td>Victor</td>\n",
       "      <td>full-stack</td>\n",
       "      <td>en</td>\n",
       "      <td>https://4geeksacademy.com/us/apply</td>\n",
       "      <td>undefined &amp; organic</td>\n",
       "      <td>None</td>\n",
       "      <td>chile</td>\n",
       "      <td>2022-07-27 05:31:40</td>\n",
       "      <td>...</td>\n",
       "      <td>undefined</td>\n",
       "      <td>4.0</td>\n",
       "      <td>None</td>\n",
       "      <td>60251.0</td>\n",
       "      <td>NaT</td>\n",
       "      <td>NaN</td>\n",
       "      <td>2022-07</td>\n",
       "      <td>05:31:40</td>\n",
       "      <td>0</td>\n",
       "      <td>online</td>\n",
       "    </tr>\n",
       "    <tr>\n",
       "      <th>37001</th>\n",
       "      <td>zurianyeliacevedo28@gmail.com</td>\n",
       "      <td>39771</td>\n",
       "      <td>ZuriiA</td>\n",
       "      <td>full-stack</td>\n",
       "      <td>es</td>\n",
       "      <td>269695430894258</td>\n",
       "      <td>cpc</td>\n",
       "      <td>Leads Mid Year 2022</td>\n",
       "      <td>None</td>\n",
       "      <td>2022-06-26 23:28:10</td>\n",
       "      <td>...</td>\n",
       "      <td>instagram</td>\n",
       "      <td>2.0</td>\n",
       "      <td>None</td>\n",
       "      <td>57070.0</td>\n",
       "      <td>NaT</td>\n",
       "      <td>NaN</td>\n",
       "      <td>2022-06</td>\n",
       "      <td>23:28:10</td>\n",
       "      <td>1</td>\n",
       "      <td>No location assigned</td>\n",
       "    </tr>\n",
       "    <tr>\n",
       "      <th>37002</th>\n",
       "      <td>zyenifer@ymail.com</td>\n",
       "      <td>25521</td>\n",
       "      <td>Yenifer Zuniga</td>\n",
       "      <td>full-stack</td>\n",
       "      <td>en</td>\n",
       "      <td>careerkarma.com</td>\n",
       "      <td>referral</td>\n",
       "      <td>None</td>\n",
       "      <td>None</td>\n",
       "      <td>2022-02-22 17:11:04</td>\n",
       "      <td>...</td>\n",
       "      <td>careerkarma</td>\n",
       "      <td>4.0</td>\n",
       "      <td>None</td>\n",
       "      <td>43227.0</td>\n",
       "      <td>NaT</td>\n",
       "      <td>3.0</td>\n",
       "      <td>2022-02</td>\n",
       "      <td>17:11:04</td>\n",
       "      <td>1</td>\n",
       "      <td>No location assigned</td>\n",
       "    </tr>\n",
       "    <tr>\n",
       "      <th>37003</th>\n",
       "      <td>zyrivic.montlocs@gmail.com</td>\n",
       "      <td>37919</td>\n",
       "      <td>wilmer gonzalez</td>\n",
       "      <td>full-stack</td>\n",
       "      <td>en</td>\n",
       "      <td>https://4geeksacademy.com/es/coding-bootcamps/...</td>\n",
       "      <td>undefined &amp; organic</td>\n",
       "      <td>None</td>\n",
       "      <td>venezuela</td>\n",
       "      <td>2022-06-14 16:35:34</td>\n",
       "      <td>...</td>\n",
       "      <td>undefined</td>\n",
       "      <td>7.0</td>\n",
       "      <td>None</td>\n",
       "      <td>55516.0</td>\n",
       "      <td>NaT</td>\n",
       "      <td>NaN</td>\n",
       "      <td>2022-06</td>\n",
       "      <td>16:35:34</td>\n",
       "      <td>0</td>\n",
       "      <td>online</td>\n",
       "    </tr>\n",
       "    <tr>\n",
       "      <th>37004</th>\n",
       "      <td>zyro.auson@gmail.com</td>\n",
       "      <td>11773</td>\n",
       "      <td>Zyro Kamson</td>\n",
       "      <td>machine-learning-engineering</td>\n",
       "      <td>en</td>\n",
       "      <td>https://4geeksacademy.com/us/landing/scholarsh...</td>\n",
       "      <td>referral</td>\n",
       "      <td>None</td>\n",
       "      <td>france</td>\n",
       "      <td>2021-09-14 18:37:10</td>\n",
       "      <td>...</td>\n",
       "      <td>landingjobs</td>\n",
       "      <td>10.0</td>\n",
       "      <td>None</td>\n",
       "      <td>25755.0</td>\n",
       "      <td>NaT</td>\n",
       "      <td>NaN</td>\n",
       "      <td>2021-09</td>\n",
       "      <td>18:37:10</td>\n",
       "      <td>0</td>\n",
       "      <td>europe</td>\n",
       "    </tr>\n",
       "    <tr>\n",
       "      <th>37005</th>\n",
       "      <td>zzhivargo@gmail.com</td>\n",
       "      <td>14144</td>\n",
       "      <td>Zhivargo</td>\n",
       "      <td>full-stack</td>\n",
       "      <td>en</td>\n",
       "      <td>https://4geeksacademy.com/us/landing/coding-cl...</td>\n",
       "      <td>cpc</td>\n",
       "      <td>11032631708</td>\n",
       "      <td>united states</td>\n",
       "      <td>2021-10-10 12:43:04</td>\n",
       "      <td>...</td>\n",
       "      <td>google</td>\n",
       "      <td>4.0</td>\n",
       "      <td>LOST</td>\n",
       "      <td>27784.0</td>\n",
       "      <td>NaT</td>\n",
       "      <td>NaN</td>\n",
       "      <td>2021-10</td>\n",
       "      <td>12:43:04</td>\n",
       "      <td>1</td>\n",
       "      <td>downtown-miami</td>\n",
       "    </tr>\n",
       "  </tbody>\n",
       "</table>\n",
       "<p>10 rows × 26 columns</p>\n",
       "</div>"
      ],
      "text/plain": [
       "                                     email     id  \\\n",
       "36996          zumanzuesaubrey29@gmail.com  34506   \n",
       "36997  zunigalargachajhonbreyner@gmail.com  30255   \n",
       "36998             zunigasm.ariel@gmail.com   9558   \n",
       "36999               zunigen.serv@gmail.com  44521   \n",
       "37000           zuotianyesterday@gmail.com  43496   \n",
       "37001        zurianyeliacevedo28@gmail.com  39771   \n",
       "37002                   zyenifer@ymail.com  25521   \n",
       "37003           zyrivic.montlocs@gmail.com  37919   \n",
       "37004                 zyro.auson@gmail.com  11773   \n",
       "37005                  zzhivargo@gmail.com  14144   \n",
       "\n",
       "                            fullname                        course language  \\\n",
       "36996              Aubrey Stephenson                    full-stack       en   \n",
       "36997  Jhon breiner Zúñiga largacha                     full-stack       es   \n",
       "36998                  Ariel Zúñiga           software-engineering       en   \n",
       "36999                 Carmen Guerra                     full-stack       en   \n",
       "37000                        Victor                     full-stack       en   \n",
       "37001                        ZuriiA                     full-stack       es   \n",
       "37002                 Yenifer Zuniga                    full-stack       en   \n",
       "37003               wilmer gonzalez                     full-stack       en   \n",
       "37004                   Zyro Kamson   machine-learning-engineering       en   \n",
       "37005                      Zhivargo                     full-stack       en   \n",
       "\n",
       "                                                 utm_url           utm_medium  \\\n",
       "36996                                    careerkarma.com             referral   \n",
       "36997  https://4geeksacademy.com/es/landing/bootcamp-...  undefined & organic   \n",
       "36998  https://4geeksacademy.com/es/coding-bootcamps/...  undefined & organic   \n",
       "36999  https://4geeksacademy.com/es/coding-bootcamps/...                  cpc   \n",
       "37000                 https://4geeksacademy.com/us/apply  undefined & organic   \n",
       "37001                                    269695430894258                  cpc   \n",
       "37002                                    careerkarma.com             referral   \n",
       "37003  https://4geeksacademy.com/es/coding-bootcamps/...  undefined & organic   \n",
       "37004  https://4geeksacademy.com/us/landing/scholarsh...             referral   \n",
       "37005  https://4geeksacademy.com/us/landing/coding-cl...                  cpc   \n",
       "\n",
       "              utm_campaign        country          created_at  ...  \\\n",
       "36996          13665858441  united states 2022-05-17 14:52:29  ...   \n",
       "36997                 None          chile 2022-04-07 16:21:32  ...   \n",
       "36998                 None          chile 2021-08-03 16:02:21  ...   \n",
       "36999          13881753802      venezuela 2022-08-04 18:55:19  ...   \n",
       "37000                 None          chile 2022-07-27 05:31:40  ...   \n",
       "37001  Leads Mid Year 2022           None 2022-06-26 23:28:10  ...   \n",
       "37002                 None           None 2022-02-22 17:11:04  ...   \n",
       "37003                 None      venezuela 2022-06-14 16:35:34  ...   \n",
       "37004                 None         france 2021-09-14 18:37:10  ...   \n",
       "37005          11032631708  united states 2021-10-10 12:43:04  ...   \n",
       "\n",
       "        utm_source academy_id deal_status ac_deal_id won_at  \\\n",
       "36996  careerkarma        4.0        LOST    52727.0    NaT   \n",
       "36997    undefined        5.0        LOST    49127.0    NaT   \n",
       "36998    undefined        5.0        None    23935.0    NaT   \n",
       "36999       google        2.0        None    61115.0    NaT   \n",
       "37000    undefined        4.0        None    60251.0    NaT   \n",
       "37001    instagram        2.0        None    57070.0    NaT   \n",
       "37002  careerkarma        4.0        None    43227.0    NaT   \n",
       "37003    undefined        7.0        None    55516.0    NaT   \n",
       "37004  landingjobs       10.0        None    25755.0    NaT   \n",
       "37005       google        4.0        LOST    27784.0    NaT   \n",
       "\n",
       "      lead_generation_app_id year-month  created_time has_gclid  \\\n",
       "36996                    3.0    2022-05      14:52:29         1   \n",
       "36997                    NaN    2022-04      16:21:32         1   \n",
       "36998                    NaN    2021-08      16:02:21         1   \n",
       "36999                    NaN    2022-08      18:55:19         1   \n",
       "37000                    NaN    2022-07      05:31:40         0   \n",
       "37001                    NaN    2022-06      23:28:10         1   \n",
       "37002                    3.0    2022-02      17:11:04         1   \n",
       "37003                    NaN    2022-06      16:35:34         0   \n",
       "37004                    NaN    2021-09      18:37:10         0   \n",
       "37005                    NaN    2021-10      12:43:04         1   \n",
       "\n",
       "           correct_location  \n",
       "36996        downtown-miami  \n",
       "36997        santiago-chile  \n",
       "36998        santiago-chile  \n",
       "36999     caracas-venezuela  \n",
       "37000                online  \n",
       "37001  No location assigned  \n",
       "37002  No location assigned  \n",
       "37003                online  \n",
       "37004                europe  \n",
       "37005        downtown-miami  \n",
       "\n",
       "[10 rows x 26 columns]"
      ]
     },
     "execution_count": 92,
     "metadata": {},
     "output_type": "execute_result"
    }
   ],
   "source": [
    "data.tail(10)"
   ]
  },
  {
   "cell_type": "code",
   "execution_count": 59,
   "id": "ebbc151f",
   "metadata": {},
   "outputs": [],
   "source": [
    "def create_location(df, column1, column2,new_column):\n",
    "    if (df[column2].str.contains(df[column1].str.lower(), regex=False) == True):\n",
    "        df[new_column] = df[column2]\n",
    "    elif df[column1] in LATAM_COUNTRIES:\n",
    "        df[new_column] = 'online'\n",
    "    elif df[column1] in EUROPE_COUNTRIES:\n",
    "        df[new_column] = 'europe'\n",
    "    else: \n",
    "        df[new_column] = 'no location assigned'"
   ]
  },
  {
   "cell_type": "code",
   "execution_count": 60,
   "id": "394d97e5",
   "metadata": {},
   "outputs": [
    {
     "ename": "ValueError",
     "evalue": "The truth value of a Series is ambiguous. Use a.empty, a.bool(), a.item(), a.any() or a.all().",
     "output_type": "error",
     "traceback": [
      "\u001b[0;31m---------------------------------------------------------------------------\u001b[0m",
      "\u001b[0;31mValueError\u001b[0m                                Traceback (most recent call last)",
      "Cell \u001b[0;32mIn [60], line 1\u001b[0m\n\u001b[0;32m----> 1\u001b[0m data[\u001b[38;5;124m'\u001b[39m\u001b[38;5;124mcreate_location\u001b[39m\u001b[38;5;124m'\u001b[39m] \u001b[38;5;241m=\u001b[39m \u001b[43mcreate_location\u001b[49m\u001b[43m(\u001b[49m\u001b[43mdata\u001b[49m\u001b[43m,\u001b[49m\u001b[38;5;124;43m'\u001b[39;49m\u001b[38;5;124;43mcountry\u001b[39;49m\u001b[38;5;124;43m'\u001b[39;49m\u001b[43m,\u001b[49m\u001b[38;5;124;43m'\u001b[39;49m\u001b[38;5;124;43mlocation\u001b[39;49m\u001b[38;5;124;43m'\u001b[39;49m\u001b[43m,\u001b[49m\u001b[38;5;124;43m'\u001b[39;49m\u001b[38;5;124;43mcorrect_location\u001b[39;49m\u001b[38;5;124;43m'\u001b[39;49m\u001b[43m)\u001b[49m\n",
      "Cell \u001b[0;32mIn [59], line 2\u001b[0m, in \u001b[0;36mcreate_location\u001b[0;34m(df, column1, column2, new_column)\u001b[0m\n\u001b[1;32m      1\u001b[0m \u001b[38;5;28;01mdef\u001b[39;00m \u001b[38;5;21mcreate_location\u001b[39m(df, column1, column2,new_column):\n\u001b[0;32m----> 2\u001b[0m     \u001b[38;5;28;01mif\u001b[39;00m (df[column2]\u001b[38;5;241m.\u001b[39mstr\u001b[38;5;241m.\u001b[39mcontains(df[column1]\u001b[38;5;241m.\u001b[39mstr\u001b[38;5;241m.\u001b[39mlower(), regex\u001b[38;5;241m=\u001b[39m\u001b[38;5;28;01mFalse\u001b[39;00m) \u001b[38;5;241m==\u001b[39m \u001b[38;5;28;01mTrue\u001b[39;00m):\n\u001b[1;32m      3\u001b[0m         df[new_column] \u001b[38;5;241m=\u001b[39m df[column2]\n\u001b[1;32m      4\u001b[0m     \u001b[38;5;28;01melif\u001b[39;00m df[column1] \u001b[38;5;129;01min\u001b[39;00m LATAM_COUNTRIES:\n",
      "File \u001b[0;32m~/.pyenv/versions/3.8.13/lib/python3.8/site-packages/pandas/core/generic.py:1526\u001b[0m, in \u001b[0;36mNDFrame.__nonzero__\u001b[0;34m(self)\u001b[0m\n\u001b[1;32m   1524\u001b[0m \u001b[39m@final\u001b[39m\n\u001b[1;32m   1525\u001b[0m \u001b[39mdef\u001b[39;00m \u001b[39m__nonzero__\u001b[39m(\u001b[39mself\u001b[39m) \u001b[39m-\u001b[39m\u001b[39m>\u001b[39m NoReturn:\n\u001b[0;32m-> 1526\u001b[0m     \u001b[39mraise\u001b[39;00m \u001b[39mValueError\u001b[39;00m(\n\u001b[1;32m   1527\u001b[0m         \u001b[39mf\u001b[39m\u001b[39m\"\u001b[39m\u001b[39mThe truth value of a \u001b[39m\u001b[39m{\u001b[39;00m\u001b[39mtype\u001b[39m(\u001b[39mself\u001b[39m)\u001b[39m.\u001b[39m\u001b[39m__name__\u001b[39m\u001b[39m}\u001b[39;00m\u001b[39m is ambiguous. \u001b[39m\u001b[39m\"\u001b[39m\n\u001b[1;32m   1528\u001b[0m         \u001b[39m\"\u001b[39m\u001b[39mUse a.empty, a.bool(), a.item(), a.any() or a.all().\u001b[39m\u001b[39m\"\u001b[39m\n\u001b[1;32m   1529\u001b[0m     )\n",
      "\u001b[0;31mValueError\u001b[0m: The truth value of a Series is ambiguous. Use a.empty, a.bool(), a.item(), a.any() or a.all()."
     ]
    }
   ],
   "source": [
    "data['create_location'] = create_location(data,'country','location','correct_location')"
   ]
  }
 ],
 "metadata": {
  "kernelspec": {
   "display_name": "Python 3.8.13 64-bit ('shims')",
   "language": "python",
   "name": "python3"
  },
  "language_info": {
   "codemirror_mode": {
    "name": "ipython",
    "version": 3
   },
   "file_extension": ".py",
   "mimetype": "text/x-python",
   "name": "python",
   "nbconvert_exporter": "python",
   "pygments_lexer": "ipython3",
   "version": "3.8.13"
  },
  "vscode": {
   "interpreter": {
    "hash": "9ac03a0a6051494cc606d484d27d20fce22fb7b4d169f583271e11d5ba46a56e"
   }
  }
 },
 "nbformat": 4,
 "nbformat_minor": 5
}
